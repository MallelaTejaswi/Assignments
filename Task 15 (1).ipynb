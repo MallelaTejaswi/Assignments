{
 "cells": [
  {
   "cell_type": "markdown",
   "id": "985dd64b",
   "metadata": {},
   "source": [
    "Task 1: **Leap Year Checker**\n",
    "\n",
    "Write a program that takes a year as input and determines whether it is a leap year or not. A leap year is a year that is divisible by 4, but not divisible by 100, unless it is also divisible by 400. Display an appropriate message indicating whether the year is a leap year or not.\n",
    "\n",
    "Task 2: **Grade Calculator**\n",
    "\n",
    "Write a program that takes a student's score as input (out of 100) and determines their grade based on the following conditions:\n",
    "If the score is 90 or above, the grade is 'A'.\n",
    "If the score is between 80 and 89, the grade is 'B'.\n",
    "If the score is between 70 and 79, the grade is 'C'.\n",
    "If the score is between 60 and 69, the grade is 'D'. If the score is below 60, the grade is 'F'.\n",
    "Display the grade corresponding to the entered score.\n",
    "\n",
    "Task 3: **Calculator**\n",
    "Write a program that takes two numbers as input and performs a mathematical operation (+, -, *, /) based on the user's choice. Use a conditional statement to determine the operation to be performed. Display the result of the calculation.\n",
    "\n",
    "Task 4: **Reverse String**\n",
    "Write a Python function to reverse a string.\n",
    "\n",
    "Task 5: **Palindrome**\n",
    "Write a Python function that checks whether a passed string is a palindrome or not.\n",
    "\n",
    "Task 6: **Counting**\n",
    "Write a Python function that accepts a string and counts the number of upper and lower case letters.\n",
    "\n",
    "Task 7: **"
   ]
  },
  {
   "cell_type": "markdown",
   "id": "0e57b9f1",
   "metadata": {},
   "source": [
    "# Task 1: **Leap Year Checker**\n",
    "\n",
    "Write a program that takes a year as input and determines whether it is a leap year or not. A leap year is a year that is divisible by 4, but not divisible by 100, unless it is also divisible by 400. Display an appropriate message indicating whether the year is a leap year or not."
   ]
  },
  {
   "cell_type": "code",
   "execution_count": 3,
   "id": "73eaa727",
   "metadata": {},
   "outputs": [
    {
     "name": "stdout",
     "output_type": "stream",
     "text": [
      "Enter a leap year ::2000\n",
      "it is a leap year\n"
     ]
    }
   ],
   "source": [
    "def leapyear(a):\n",
    "    a = int(input(\"Enter a leap year ::\"))\n",
    "    if (a%2==0) and (a%100==0) and (a%400==0):\n",
    "        print(\"it is a leap year\")\n",
    "    else:\n",
    "        print(\"not a leap year\")\n",
    "leapyear(a)"
   ]
  },
  {
   "cell_type": "markdown",
   "id": "3dc57415",
   "metadata": {},
   "source": [
    "# Task 2: **Grade Calculator**\n",
    "\n",
    "Write a program that takes a student's score as input (out of 100) and determines their grade based on the following conditions:\n",
    "If the score is 90 or above, the grade is 'A'.\n",
    "If the score is between 80 and 89, the grade is 'B'.\n",
    "If the score is between 70 and 79, the grade is 'C'.\n",
    "If the score is between 60 and 69, the grade is 'D'. If the score is below 60, the grade is 'F'.\n",
    "Display the grade corresponding to the entered score."
   ]
  },
  {
   "cell_type": "code",
   "execution_count": 4,
   "id": "8f5d589b",
   "metadata": {},
   "outputs": [
    {
     "name": "stdout",
     "output_type": "stream",
     "text": [
      "Enter a score :: 64\n",
      "The grade is D\n"
     ]
    }
   ],
   "source": [
    "def score(a):\n",
    "    marks = int(input(\"Enter a score :: \"))\n",
    "    if (marks>=90):\n",
    "        print(\"The grade is A\")\n",
    "    elif (marks>=80) and (marks<89):\n",
    "        print('The grade is B')\n",
    "    elif (marks>=70) and (marks<79):\n",
    "        print('The grade is C')\n",
    "    elif (marks>=60) and (marks<69):\n",
    "        print('The grade is D')\n",
    "    else:\n",
    "        print('Fail')\n",
    "score(a)"
   ]
  },
  {
   "cell_type": "markdown",
   "id": "82f59d9e",
   "metadata": {},
   "source": [
    "# Task 3: **Calculator**\n",
    "Write a program that takes two numbers as input and performs a mathematical operation (+, -, *, /) based on the user's choice. Use a conditional statement to determine the operation to be performed. Display the result of the calculation"
   ]
  },
  {
   "cell_type": "code",
   "execution_count": 14,
   "id": "ec027206",
   "metadata": {},
   "outputs": [
    {
     "name": "stdout",
     "output_type": "stream",
     "text": [
      "Enter a value a :: 14\n",
      "Enter a value b :: 7\n",
      "addition,subtraction,multiplication,division :: -\n",
      "Subtraction of two numbers 7\n"
     ]
    }
   ],
   "source": [
    "a = int(input('Enter a value a :: '))\n",
    "b = int(input('Enter a value b :: '))\n",
    "\n",
    "operation = input('addition,subtraction,multiplication,division :: ')\n",
    "\n",
    "if operation == '+':\n",
    "    print('Addition of two numbers',a+b) \n",
    "elif operation == '-':\n",
    "    print('Subtraction of two numbers',a-b)\n",
    "elif operation == '*':\n",
    "    print('Multiplication of two numbers',a*b)\n",
    "elif operation == '/':\n",
    "    print('Division of two numbers',a/b)\n",
    "else:\n",
    "    print('Enter a valid operation')"
   ]
  },
  {
   "cell_type": "markdown",
   "id": "ae2879c2",
   "metadata": {},
   "source": [
    "# Task 4: **Reverse String**\n",
    "Write a Python function to reverse a string."
   ]
  },
  {
   "cell_type": "code",
   "execution_count": 5,
   "id": "28240f1d",
   "metadata": {},
   "outputs": [
    {
     "name": "stdout",
     "output_type": "stream",
     "text": [
      "Enter a name :: Innomatics\n"
     ]
    },
    {
     "data": {
      "text/plain": [
       "'scitamonnI'"
      ]
     },
     "execution_count": 5,
     "metadata": {},
     "output_type": "execute_result"
    }
   ],
   "source": [
    "def reverse(a):\n",
    "    return (a[-1: :-1])\n",
    "a = input('Enter a name :: ')\n",
    "reverse(a)"
   ]
  },
  {
   "cell_type": "markdown",
   "id": "e8db253b",
   "metadata": {},
   "source": [
    "# Task 5: **Palindrome**\n",
    "Write a Python function that checks whether a passed string is a palindrome or not.\n"
   ]
  },
  {
   "cell_type": "code",
   "execution_count": 8,
   "id": "61cdfe82",
   "metadata": {},
   "outputs": [
    {
     "name": "stdout",
     "output_type": "stream",
     "text": [
      "Enter a string :: Python\n",
      "It is not a palindrome\n"
     ]
    }
   ],
   "source": [
    "def palindrome(n):\n",
    "    if n == n[::-1]:\n",
    "        print('It is a palindrome')\n",
    "    else:\n",
    "        print('It is not a palindrome')\n",
    "n = input(\"Enter a string :: \")\n",
    "palindrome(n)"
   ]
  },
  {
   "cell_type": "markdown",
   "id": "80e44d79",
   "metadata": {},
   "source": [
    "# Task 6: **Counting**\n",
    "Write a Python function that accepts a string and counts the number of upper and lower case letters"
   ]
  },
  {
   "cell_type": "code",
   "execution_count": 1,
   "id": "524f4e36",
   "metadata": {},
   "outputs": [
    {
     "name": "stdout",
     "output_type": "stream",
     "text": [
      "Enter a string :: DaTaSciEnce\n",
      "Uppercase letters: 4\n",
      "Lowercase letters: 7\n"
     ]
    }
   ],
   "source": [
    "def count(name):\n",
    "    upper = [\"A\",\"B\",\"C\",\"D\",\"E\",\"F\",\"G\",\"H\",\"I\",\"J\",\"K\",\"L\",\"M\",\"N\",\"O\",\"P\",\"Q\",\"R\",\"S\",\"T\",\"U\",\"V\",\"W\",\"X\",\"Y\",\"Z\"]\n",
    "    count_upper = 0\n",
    "    lower = [\"a\",\"b\",\"c\",\"d\",\"e\",\"f\",\"g\",\"h\",\"i\",\"j\",\"k\",\"l\",\"m\",\"n\",\"o\",\"p\",\"q\",\"r\",\"s\",\"t\",\"u\",\"v\",\"w\",\"x\",\"y\",\"z\"]\n",
    "    count_lower = 0\n",
    "    for i in name:\n",
    "        if i in upper:\n",
    "            count_upper += 1\n",
    "        elif i in lower:\n",
    "            count_lower += 1\n",
    "    return count_upper, count_lower\n",
    "\n",
    "name = input('Enter a string :: ')\n",
    "upper_count, lower_count = count(name)\n",
    "print(f\"Uppercase letters: {upper_count}\")\n",
    "print(f\"Lowercase letters: {lower_count}\")\n"
   ]
  },
  {
   "cell_type": "code",
   "execution_count": null,
   "id": "aca847dc",
   "metadata": {},
   "outputs": [],
   "source": []
  },
  {
   "cell_type": "code",
   "execution_count": null,
   "id": "99eec0d5",
   "metadata": {},
   "outputs": [],
   "source": []
  }
 ],
 "metadata": {
  "kernelspec": {
   "display_name": "Python 3 (ipykernel)",
   "language": "python",
   "name": "python3"
  },
  "language_info": {
   "codemirror_mode": {
    "name": "ipython",
    "version": 3
   },
   "file_extension": ".py",
   "mimetype": "text/x-python",
   "name": "python",
   "nbconvert_exporter": "python",
   "pygments_lexer": "ipython3",
   "version": "3.11.4"
  }
 },
 "nbformat": 4,
 "nbformat_minor": 5
}
