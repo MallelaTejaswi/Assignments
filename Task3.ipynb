{
 "cells": [
  {
   "cell_type": "markdown",
   "id": "110812e8",
   "metadata": {},
   "source": [
    "Assignment Tasks on String Escape Characters, Indexing, and Slicing:\n",
    "\n",
    "**String Escape Characters:**\n",
    "\n",
    "Task 1:\n",
    "1. Create a string containing a sentence that includes both single and double quotes.\n",
    "2. Use escape characters to include quotes within the string.\n",
    "3. Print the modified string.\n",
    "\n",
    "Task 2:\n",
    "1. Declare a string with a backslash \\ character in it.\n",
    "2. Demonstrate the use of the escape character to print the backslash itself.\n",
    "3. Print the resulting string.\n",
    "\n",
    "Task 3:\n",
    "1. Construct a string containing newline and tab escape sequences.\n",
    "2. Print the string to display the formatted output.\n",
    "\n",
    "**Indexing and Slicing:**\n",
    "\n",
    "Task 4:\n",
    "1.  sentence = \"I want to become Data Scientist\".\n",
    "2. Access and print the `first character` of the string using indexing.\n",
    "3. Access and print the `last character` of the string using negative indexing.\n",
    "\n",
    "Task 5:\n",
    "1. What are `possible ways` yo extract `Scientist`(use forward and reverse)\n",
    "2. Use slicing to extract and print the `first word` from the string.\n",
    "3. Use slicing to extract and print the `last three` characters of the string.\n",
    "\n",
    "Task 6:\n",
    "1. name = \"Innomatics Reserach Labs\"\n",
    "2. Apply slicing to extract a substring that includes the `second to fifth` characters.\n",
    "3. `Print` the extracted substring.\n",
    "\n",
    "Task 7:\n",
    "1. string = \"Python@1234\"\n",
    "2. Use slicing to extract every second character from the string.\n",
    "3. Print the resulting sliced string.\n",
    "\n",
    "Task 8:\n",
    "1.  print last five letters.\n",
    "2. Utilize slicing to reverse the word order in the string.\n",
    "3. Print the string with the words in the reversed order.\n",
    "\n",
    "Task 9:\n",
    "1. a = \"123123123\"\n",
    "2. Apply slicing to extract only the numeric characters at odd positions.\n",
    "3. Print the sliced result.\n",
    "\n",
    "Remember to include explanations or comments for each task's code to ensure clarity. Additionally, encourage students to experiment further with different escape characters and slicing techniques beyond the provided tasks to deepen their understanding."
   ]
  },
  {
   "cell_type": "markdown",
   "id": "5f0de29c",
   "metadata": {},
   "source": [
    "# Task 1"
   ]
  },
  {
   "cell_type": "markdown",
   "id": "87780766",
   "metadata": {},
   "source": [
    "**1.Create a string containing a sentence that includes both single and double quotes**"
   ]
  },
  {
   "cell_type": "code",
   "execution_count": 12,
   "id": "6343c222",
   "metadata": {},
   "outputs": [
    {
     "name": "stdout",
     "output_type": "stream",
     "text": [
      "I am 'Data Analyst' and 'Data Scientist' too\n"
     ]
    }
   ],
   "source": [
    "string = \"I am 'Data Analyst' and 'Data Scientist' too\"\n",
    "print (string)"
   ]
  },
  {
   "cell_type": "markdown",
   "id": "6308c457",
   "metadata": {},
   "source": [
    "**2. Use escape characters to include quotes within the string.**"
   ]
  },
  {
   "cell_type": "code",
   "execution_count": 15,
   "id": "29ed1beb",
   "metadata": {},
   "outputs": [
    {
     "name": "stdout",
     "output_type": "stream",
     "text": [
      "I am currently purcuing \"Python programing\" \n"
     ]
    }
   ],
   "source": [
    "string = 'I am currently purcuing \\\"Python programing\\\" '\n",
    "print(string)"
   ]
  },
  {
   "cell_type": "markdown",
   "id": "9f5ed4d6",
   "metadata": {},
   "source": [
    "# Task 2"
   ]
  },
  {
   "cell_type": "markdown",
   "id": "a540e15d",
   "metadata": {},
   "source": [
    "**1. Declare a string with a backslash \\ character in it.**"
   ]
  },
  {
   "cell_type": "code",
   "execution_count": 19,
   "id": "a3ae8e53",
   "metadata": {},
   "outputs": [
    {
     "name": "stdout",
     "output_type": "stream",
     "text": [
      "I am Tejaswi\\\n"
     ]
    }
   ],
   "source": [
    "string = \"I am Tejaswi\\\\\"\n",
    "print(string)"
   ]
  },
  {
   "cell_type": "markdown",
   "id": "6aeb3f56",
   "metadata": {},
   "source": [
    "**2. Demonstrate the use of the escape character to print the backslash itself.**"
   ]
  },
  {
   "cell_type": "code",
   "execution_count": 21,
   "id": "66d8d74d",
   "metadata": {},
   "outputs": [
    {
     "name": "stdout",
     "output_type": "stream",
     "text": [
      "Innomatics Resea\brch Labs\n"
     ]
    }
   ],
   "source": [
    "print(\"Innomatics Resea\\brch Labs\")"
   ]
  },
  {
   "cell_type": "markdown",
   "id": "b4dba85d",
   "metadata": {},
   "source": [
    "**3. Print the resulting string.**\n"
   ]
  },
  {
   "cell_type": "code",
   "execution_count": 22,
   "id": "8f6eb8a2",
   "metadata": {},
   "outputs": [
    {
     "name": "stdout",
     "output_type": "stream",
     "text": [
      "I recently Graduated\n"
     ]
    }
   ],
   "source": [
    "print(\"I recently Graduated\")"
   ]
  },
  {
   "cell_type": "markdown",
   "id": "5edd6f95",
   "metadata": {},
   "source": [
    "# Task 3"
   ]
  },
  {
   "cell_type": "markdown",
   "id": "effb370b",
   "metadata": {},
   "source": [
    "**1. Construct a string containing newline and tab escape sequences**"
   ]
  },
  {
   "cell_type": "code",
   "execution_count": 27,
   "id": "2a3ddf42",
   "metadata": {},
   "outputs": [
    {
     "name": "stdout",
     "output_type": "stream",
     "text": [
      "I\tam \tfrom\tvijayawada \n",
      " currently\tleaving\t in\tHyderabad \n"
     ]
    }
   ],
   "source": [
    "print(\"I\\tam \\tfrom\\tvijayawada \\n currently\\tleaving\\t in\\tHyderabad \")"
   ]
  },
  {
   "cell_type": "markdown",
   "id": "1594edac",
   "metadata": {},
   "source": [
    "**2. Print the string to display the formatted output.**"
   ]
  },
  {
   "cell_type": "code",
   "execution_count": 30,
   "id": "3c938e3f",
   "metadata": {},
   "outputs": [
    {
     "name": "stdout",
     "output_type": "stream",
     "text": [
      "Welcome Python\n"
     ]
    }
   ],
   "source": [
    "print('Welcome','Python')"
   ]
  },
  {
   "cell_type": "markdown",
   "id": "a2fe5a5f",
   "metadata": {},
   "source": [
    "# Task 4"
   ]
  },
  {
   "cell_type": "markdown",
   "id": "642ba8ad",
   "metadata": {},
   "source": [
    "**1.  sentence = \"I want to become Data Scientist\".**"
   ]
  },
  {
   "cell_type": "code",
   "execution_count": 31,
   "id": "94deaf3a",
   "metadata": {},
   "outputs": [],
   "source": [
    "sentence = \"I want to become Data Scientist\""
   ]
  },
  {
   "cell_type": "markdown",
   "id": "65fe11b2",
   "metadata": {},
   "source": [
    "**2. Access and print the `first character` of the string using indexing.**"
   ]
  },
  {
   "cell_type": "code",
   "execution_count": 35,
   "id": "44d71655",
   "metadata": {},
   "outputs": [
    {
     "data": {
      "text/plain": [
       "'c'"
      ]
     },
     "execution_count": 35,
     "metadata": {},
     "output_type": "execute_result"
    }
   ],
   "source": [
    "sentence = \"I want to become Data Scientist\"\n",
    "sentence[23]"
   ]
  },
  {
   "cell_type": "code",
   "execution_count": 37,
   "id": "20f1c63b",
   "metadata": {},
   "outputs": [
    {
     "data": {
      "text/plain": [
       "'S'"
      ]
     },
     "execution_count": 37,
     "metadata": {},
     "output_type": "execute_result"
    }
   ],
   "source": [
    "sentence[-9]           # last character"
   ]
  },
  {
   "cell_type": "markdown",
   "id": "2f9cf9d8",
   "metadata": {},
   "source": [
    "# Task 5"
   ]
  },
  {
   "cell_type": "markdown",
   "id": "52bdd167",
   "metadata": {},
   "source": [
    "**1. What are `possible ways` yo extract `Scientist`(use forward and reverse).**"
   ]
  },
  {
   "cell_type": "code",
   "execution_count": 51,
   "id": "91e840df",
   "metadata": {},
   "outputs": [
    {
     "data": {
      "text/plain": [
       "'Scientist'"
      ]
     },
     "execution_count": 51,
     "metadata": {},
     "output_type": "execute_result"
    }
   ],
   "source": [
    "string = \"Data Scientist\"\n",
    "string[5:16:1]"
   ]
  },
  {
   "cell_type": "code",
   "execution_count": 52,
   "id": "84a74eae",
   "metadata": {},
   "outputs": [
    {
     "data": {
      "text/plain": [
       "'Scientist'"
      ]
     },
     "execution_count": 52,
     "metadata": {},
     "output_type": "execute_result"
    }
   ],
   "source": [
    "string[5::]"
   ]
  },
  {
   "cell_type": "code",
   "execution_count": 53,
   "id": "4a92ca35",
   "metadata": {},
   "outputs": [
    {
     "data": {
      "text/plain": [
       "'Scientist'"
      ]
     },
     "execution_count": 53,
     "metadata": {},
     "output_type": "execute_result"
    }
   ],
   "source": [
    "string[5::1]"
   ]
  },
  {
   "cell_type": "code",
   "execution_count": 55,
   "id": "58f7628a",
   "metadata": {},
   "outputs": [
    {
     "data": {
      "text/plain": [
       "'Scientist'"
      ]
     },
     "execution_count": 55,
     "metadata": {},
     "output_type": "execute_result"
    }
   ],
   "source": [
    "string[-9::1]"
   ]
  },
  {
   "cell_type": "code",
   "execution_count": 56,
   "id": "8dfd6b87",
   "metadata": {},
   "outputs": [
    {
     "data": {
      "text/plain": [
       "'Scientist'"
      ]
     },
     "execution_count": 56,
     "metadata": {},
     "output_type": "execute_result"
    }
   ],
   "source": [
    "string[-9::]"
   ]
  },
  {
   "cell_type": "markdown",
   "id": "d47ea53a",
   "metadata": {},
   "source": [
    "# Task 6"
   ]
  },
  {
   "cell_type": "markdown",
   "id": "d3f50e93",
   "metadata": {},
   "source": [
    "1. name = \"Innomatics Reserach Labs\"\n",
    "2. Apply slicing to extract a substring that includes the `second to fifth` characters.\n",
    "3. `Print` the extracted substring."
   ]
  },
  {
   "cell_type": "code",
   "execution_count": 57,
   "id": "0aa56945",
   "metadata": {},
   "outputs": [
    {
     "data": {
      "text/plain": [
       "'nom'"
      ]
     },
     "execution_count": 57,
     "metadata": {},
     "output_type": "execute_result"
    }
   ],
   "source": [
    "name = \"Innomatics Research Labs\"\n",
    "name[2:5]"
   ]
  },
  {
   "cell_type": "code",
   "execution_count": 59,
   "id": "5a9b2f15",
   "metadata": {},
   "outputs": [
    {
     "data": {
      "text/plain": [
       "'nom'"
      ]
     },
     "execution_count": 59,
     "metadata": {},
     "output_type": "execute_result"
    }
   ],
   "source": [
    "name[-22:-19]"
   ]
  },
  {
   "cell_type": "markdown",
   "id": "0b69d6ae",
   "metadata": {},
   "source": [
    "# Task 7"
   ]
  },
  {
   "cell_type": "markdown",
   "id": "d5cfe227",
   "metadata": {},
   "source": [
    "1. string = \"Python@1234\"\n",
    "2. Use slicing to extract every second character from the string.\n",
    "3. Print the resulting sliced string."
   ]
  },
  {
   "cell_type": "code",
   "execution_count": 62,
   "id": "6bc378d1",
   "metadata": {},
   "outputs": [
    {
     "data": {
      "text/plain": [
       "'Pto@24'"
      ]
     },
     "execution_count": 62,
     "metadata": {},
     "output_type": "execute_result"
    }
   ],
   "source": [
    "string = \"Python@1234\"\n",
    "string[::2]"
   ]
  },
  {
   "cell_type": "code",
   "execution_count": 63,
   "id": "d2c593d5",
   "metadata": {},
   "outputs": [
    {
     "name": "stdout",
     "output_type": "stream",
     "text": [
      "pto@24\n"
     ]
    }
   ],
   "source": [
    "print('pto@24')"
   ]
  },
  {
   "cell_type": "markdown",
   "id": "9bfe7184",
   "metadata": {},
   "source": [
    "# Task 8"
   ]
  },
  {
   "cell_type": "markdown",
   "id": "50892f4c",
   "metadata": {},
   "source": [
    "1.  print last five letters.\n",
    "2. Utilize slicing to reverse the word order in the string.\n",
    "3. Print the string with the words in the reversed order."
   ]
  },
  {
   "cell_type": "code",
   "execution_count": 64,
   "id": "7d76aae2",
   "metadata": {},
   "outputs": [
    {
     "data": {
      "text/plain": [
       "'4321@nohtyP'"
      ]
     },
     "execution_count": 64,
     "metadata": {},
     "output_type": "execute_result"
    }
   ],
   "source": [
    "string = \"Python@1234\"\n",
    "string[11::-1]"
   ]
  },
  {
   "cell_type": "code",
   "execution_count": 65,
   "id": "a5be4132",
   "metadata": {},
   "outputs": [
    {
     "data": {
      "text/plain": [
       "'4321@nohtyP'"
      ]
     },
     "execution_count": 65,
     "metadata": {},
     "output_type": "execute_result"
    }
   ],
   "source": [
    "string[::-1]"
   ]
  },
  {
   "cell_type": "markdown",
   "id": "e110b3fa",
   "metadata": {},
   "source": [
    "# Task 9"
   ]
  },
  {
   "cell_type": "markdown",
   "id": "72c7fda9",
   "metadata": {},
   "source": [
    "1. a = \"123123123\"\n",
    "2. Apply slicing to extract only the numeric characters at odd positions.\n",
    "3. Print the sliced result"
   ]
  },
  {
   "cell_type": "code",
   "execution_count": 68,
   "id": "b9de248e",
   "metadata": {},
   "outputs": [
    {
     "data": {
      "text/plain": [
       "'13213'"
      ]
     },
     "execution_count": 68,
     "metadata": {},
     "output_type": "execute_result"
    }
   ],
   "source": [
    "a = \"123123123\"\n",
    "a[::2]"
   ]
  },
  {
   "cell_type": "code",
   "execution_count": null,
   "id": "2c2f82de",
   "metadata": {},
   "outputs": [],
   "source": []
  }
 ],
 "metadata": {
  "kernelspec": {
   "display_name": "Python 3 (ipykernel)",
   "language": "python",
   "name": "python3"
  },
  "language_info": {
   "codemirror_mode": {
    "name": "ipython",
    "version": 3
   },
   "file_extension": ".py",
   "mimetype": "text/x-python",
   "name": "python",
   "nbconvert_exporter": "python",
   "pygments_lexer": "ipython3",
   "version": "3.11.4"
  }
 },
 "nbformat": 4,
 "nbformat_minor": 5
}
