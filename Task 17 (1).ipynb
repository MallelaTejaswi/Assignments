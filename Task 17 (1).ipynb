{
 "cells": [
  {
   "cell_type": "markdown",
   "id": "8dc8a778",
   "metadata": {},
   "source": [
    "\n",
    "`use context manager`\n",
    "\n",
    "**Create a file**\n",
    "Write a Python program that creates a text file named \"data.txt\" and add data about python programming (should contain at least 5 lines)\n",
    "\n",
    "**Read and Display File Contents**\n",
    "Write a Python program that reads a text file named \"data.txt\" and displays its contents on the screen.\n",
    "\n",
    "**Count Words in a File**\n",
    "Write a Python program that reads a text file named \"data.txt\" and counts the total number of words in the file. Display the word count on the screen.\n",
    "\n",
    "**Search and Replace**\n",
    "Create a Python program that reads a text file named \"data.txt\" and asks the user to enter a word to search for. If the word is found in the file, replace all occurrences of the word with a new word provided by the user.\n",
    "\n",
    "**Append to a File**\n",
    "Write a Python program that prompts the user to enter a sentence. Append this sentence to an existing file named \"notes.txt\". Make sure the newly added sentence starts on a new line.\n",
    "\n",
    "\n"
   ]
  },
  {
   "cell_type": "code",
   "execution_count": 2,
   "id": "19c2ecaa",
   "metadata": {},
   "outputs": [],
   "source": [
    "with open('data.txt','w+') as file:\n",
    "    file.write('PYTHON is a high-level, general-purpose programming language. Its design philosophy emphasizes code readability with the use of significant indentation. PYTHON is dynamically typed and garbage-collected. It supports multiple programming paradigms, including structured, object-oriented and functional programming.')"
   ]
  },
  {
   "cell_type": "markdown",
   "id": "f85a03c6",
   "metadata": {},
   "source": [
    "# **Read and Display File Contents**\n",
    "Write a Python program that reads a text file named \"data.txt\" and displays its contents on the screen."
   ]
  },
  {
   "cell_type": "code",
   "execution_count": 6,
   "id": "9a72d40d",
   "metadata": {},
   "outputs": [
    {
     "name": "stdout",
     "output_type": "stream",
     "text": [
      "PYTHON is a high-level, general-purpose programming language. Its design philosophy emphasizes code readability with the use of significant indentation. PYTHON is dynamically typed and garbage-collected. It supports multiple programming paradigms, including structured, object-oriented and functional programming.\n"
     ]
    }
   ],
   "source": [
    "\n",
    "with open('data.txt') as file:\n",
    "    print(file.read())"
   ]
  },
  {
   "cell_type": "markdown",
   "id": "e4bdcd08",
   "metadata": {},
   "source": [
    "# **Count Words in a File**\n",
    "Write a Python program that reads a text file named \"data.txt\" and counts the total number of words in the file. Display the word count on the screen."
   ]
  },
  {
   "cell_type": "code",
   "execution_count": 15,
   "id": "ba446554",
   "metadata": {},
   "outputs": [],
   "source": [
    "with open('data.txt','r') as file1:\n",
    "    file2 = file1.read()\n",
    "    file3 = file2.split()"
   ]
  },
  {
   "cell_type": "code",
   "execution_count": 16,
   "id": "f58ba6f7",
   "metadata": {},
   "outputs": [
    {
     "name": "stdout",
     "output_type": "stream",
     "text": [
      "['PYTHON', 'is', 'a', 'high-level,', 'general-purpose', 'programming', 'language.', 'Its', 'design', 'philosophy', 'emphasizes', 'code', 'readability', 'with', 'the', 'use', 'of', 'significant', 'indentation.', 'PYTHON', 'is', 'dynamically', 'typed', 'and', 'garbage-collected.', 'It', 'supports', 'multiple', 'programming', 'paradigms,', 'including', 'structured,', 'object-oriented', 'and', 'functional', 'programming.']\n"
     ]
    }
   ],
   "source": [
    "print(file3)"
   ]
  },
  {
   "cell_type": "code",
   "execution_count": 19,
   "id": "adb45cd6",
   "metadata": {},
   "outputs": [
    {
     "data": {
      "text/plain": [
       "36"
      ]
     },
     "execution_count": 19,
     "metadata": {},
     "output_type": "execute_result"
    }
   ],
   "source": [
    "len(file3)"
   ]
  },
  {
   "cell_type": "markdown",
   "id": "bcb7ea7c",
   "metadata": {},
   "source": [
    "# **Search and Replace**\n",
    "Create a Python program that reads a text file named \"data.txt\" and asks the user to enter a word to search for. If the word is found in the file, replace all occurrences of the word with a new word provided by the user."
   ]
  },
  {
   "cell_type": "code",
   "execution_count": 7,
   "id": "88f19086",
   "metadata": {},
   "outputs": [
    {
     "name": "stdout",
     "output_type": "stream",
     "text": [
      "Enter a word ::PYTHON\n",
      "Enter a new word to replace ::python\n",
      "python is a high-level, general-purpose programming language. Its design philosophy emphasizes code readability with the use of significant indentation. python is dynamically typed and garbage-collected. It supports multiple programming paradigms, including structured, object-oriented and functional programming.\n"
     ]
    }
   ],
   "source": [
    "with open('data.txt','r') as f6:\n",
    "    f7 = f6.read()\n",
    "    word = input('Enter a word ::')\n",
    "    new_word = input('Enter a new word to replace ::')\n",
    "    if word in f7:\n",
    "        print (f7.replace(word,new_word))"
   ]
  },
  {
   "cell_type": "markdown",
   "id": "dcadfefd",
   "metadata": {},
   "source": [
    "# **Append to a File**\n",
    "Write a Python program that prompts the user to enter a sentence. Append this sentence to an existing file named \"notes.txt\". Make sure the newly added sentence starts on a new line."
   ]
  },
  {
   "cell_type": "code",
   "execution_count": 8,
   "id": "0d84e9f1",
   "metadata": {},
   "outputs": [
    {
     "name": "stdout",
     "output_type": "stream",
     "text": [
      "enter your sentence:  Hello World\n"
     ]
    }
   ],
   "source": [
    "with open(\"notes.txt\",\"a+\") as file1:\n",
    "    file1.write(\"python program is easy to learn for beginner\")\n",
    "    new=input(\"enter your sentence:  \")\n",
    "    file1.write(f\"\\n{new}\")"
   ]
  },
  {
   "cell_type": "code",
   "execution_count": 9,
   "id": "988816d6",
   "metadata": {},
   "outputs": [
    {
     "name": "stdout",
     "output_type": "stream",
     "text": [
      "python program is easy to learn for beginner\n",
      "Hello World\n"
     ]
    }
   ],
   "source": [
    "file1 = open(\"notes.txt\")\n",
    "print(file1.read())"
   ]
  },
  {
   "cell_type": "code",
   "execution_count": null,
   "id": "0a07cffc",
   "metadata": {},
   "outputs": [],
   "source": []
  }
 ],
 "metadata": {
  "kernelspec": {
   "display_name": "Python 3 (ipykernel)",
   "language": "python",
   "name": "python3"
  },
  "language_info": {
   "codemirror_mode": {
    "name": "ipython",
    "version": 3
   },
   "file_extension": ".py",
   "mimetype": "text/x-python",
   "name": "python",
   "nbconvert_exporter": "python",
   "pygments_lexer": "ipython3",
   "version": "3.11.4"
  }
 },
 "nbformat": 4,
 "nbformat_minor": 5
}
