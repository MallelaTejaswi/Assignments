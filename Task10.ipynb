{
 "cells": [
  {
   "cell_type": "markdown",
   "id": "6a089314",
   "metadata": {},
   "source": [
    "1. **Basic List Comprehension:**\n",
    "   Write a Python program that uses list comprehension to generate a list of cubes of the first 10 positive integers.\n",
    "\n",
    "2. **Filtering with List Comprehension:**\n",
    "   Given a list of integers, create a new list using list comprehension that contains only the multiple of 3 and 5 from the original list.\n",
    "   \n",
    "3. **String Manipulation with List Comprehension:**\"\n",
    "   Given a list of strings, create a new list using list comprehension that contains the lengths of each string\n",
    "\n",
    "4. **List Comprehension with Conditionals:**\n",
    "   Given a list of numbers, create a new list using list comprehension that contains the squares of even numbers \n",
    "\n",
    "\n",
    "5. **Pattern Printing**\n",
    "\n",
    "    Write a Python program that takes an integer 'n' as input and prints the following pattern:\n",
    "\n",
    "    For `n = 4`, the pattern should look like this:\n",
    "\n",
    "    ```\n",
    "    1\n",
    "    1 2\n",
    "    1 2 3\n",
    "    1 2 3 4\n",
    "    ```\n",
    "\n",
    "6. **Multiplication Table**\n",
    "\n",
    "      Create a Python program that generates and prints a multiplication table for a given number 'n'. The table should include values from 1 to 10.\n",
    "\n",
    "For example, if `n = 5`, the output should be:\n",
    "\n",
    "    ```\n",
    "    5 x 1 = 5\n",
    "    5 x 2 = 10\n",
    "    5 x 3 = 15\n",
    "    5 x 4 = 20\n",
    "    5 x 5 = 25\n",
    "    5 x 6 = 30\n",
    "    5 x 7 = 35\n",
    "    5 x 8 = 40\n",
    "    5 x 9 = 45\n",
    "    5 x 10 = 50\n",
    "    ```\n",
    "\n",
    "7. **Star Patterns**\n",
    "\n",
    "    Write a Python program that takes an integer 'n' as input and prints the following patterns:\n",
    "\n",
    "    a) Right-angled triangle pattern:\n",
    "    ```\n",
    "    *\n",
    "    **\n",
    "    ***\n",
    "    ****\n",
    "    *****\n",
    "    ```\n",
    "\n",
    "    b) Inverted right-angled triangle pattern:\n",
    "    ```\n",
    "    *****\n",
    "    ****\n",
    "    ***\n",
    "    **\n",
    "    *\n",
    "    ```\n",
    "\n",
    "\n",
    "8. **Number Pyramid**\n",
    "\n",
    "    Create a Python program that takes an integer 'n' as input and prints a number pyramid as shown below:\n",
    "\n",
    "    For `n = 4`, the output should be:\n",
    "\n",
    "    ```\n",
    "       1\n",
    "      212\n",
    "     32123\n",
    "    4321234\n",
    "    ```\n",
    "\n",
    "\n",
    "\n"
   ]
  },
  {
   "cell_type": "markdown",
   "id": "1109443c",
   "metadata": {},
   "source": [
    "# 1. **Basic List Comprehension:**\n",
    "   **Write a Python program that uses list comprehension to generate a list of cubes of the first 10 positive integers.**\n"
   ]
  },
  {
   "cell_type": "code",
   "execution_count": 6,
   "id": "28a24c15",
   "metadata": {},
   "outputs": [
    {
     "data": {
      "text/plain": [
       "[1, 8, 27, 64, 125, 216, 343, 512, 729, 1000]"
      ]
     },
     "execution_count": 6,
     "metadata": {},
     "output_type": "execute_result"
    }
   ],
   "source": [
    "[i**3 for i in range(1,11)]"
   ]
  },
  {
   "cell_type": "markdown",
   "id": "dd06ffad",
   "metadata": {},
   "source": [
    "# 2. **Filtering with List Comprehension:**\n",
    "   **Given a list of integers, create a new list using list comprehension that contains only the multiple of 3 and 5 from the original list.**"
   ]
  },
  {
   "cell_type": "code",
   "execution_count": 18,
   "id": "77208edd",
   "metadata": {},
   "outputs": [],
   "source": [
    "list = [1,5,8,9,10,4,6,2,15]"
   ]
  },
  {
   "cell_type": "code",
   "execution_count": 19,
   "id": "26731dc2",
   "metadata": {},
   "outputs": [
    {
     "data": {
      "text/plain": [
       "[5, 9, 10, 6, 15]"
      ]
     },
     "execution_count": 19,
     "metadata": {},
     "output_type": "execute_result"
    }
   ],
   "source": [
    "[i for i in list if (i%3==0) or (i%5==0)]"
   ]
  },
  {
   "cell_type": "markdown",
   "id": "13e3ab2f",
   "metadata": {},
   "source": [
    "# 3. String Manipulation with List Comprehension:\n",
    "**Given a list of strings, create a new list using list comprehension that contains the lengths of each string.**"
   ]
  },
  {
   "cell_type": "code",
   "execution_count": 22,
   "id": "c1a16da5",
   "metadata": {},
   "outputs": [],
   "source": [
    "a = [\"indu\",\"bindu\",\"madhu\",\"priya\"]"
   ]
  },
  {
   "cell_type": "code",
   "execution_count": 23,
   "id": "31ece393",
   "metadata": {},
   "outputs": [
    {
     "data": {
      "text/plain": [
       "[4, 5, 5, 5]"
      ]
     },
     "execution_count": 23,
     "metadata": {},
     "output_type": "execute_result"
    }
   ],
   "source": [
    "[len(i) for i in a ]"
   ]
  },
  {
   "cell_type": "markdown",
   "id": "2f4342c3",
   "metadata": {},
   "source": [
    "# 4. List Comprehension with Conditionals:\n",
    "   **Given a list of numbers, create a new list using list comprehension that contains the squares of even numbers.**"
   ]
  },
  {
   "cell_type": "code",
   "execution_count": 10,
   "id": "5571d728",
   "metadata": {},
   "outputs": [],
   "source": [
    "num = [1,2,3,4,5,6,7,8,9,10,14,16,18]"
   ]
  },
  {
   "cell_type": "code",
   "execution_count": 11,
   "id": "45b4e051",
   "metadata": {},
   "outputs": [
    {
     "data": {
      "text/plain": [
       "[4, 16, 36, 64, 100, 196, 256, 324]"
      ]
     },
     "execution_count": 11,
     "metadata": {},
     "output_type": "execute_result"
    }
   ],
   "source": [
    "[i**2 for i in num if (i%2==0)]"
   ]
  },
  {
   "cell_type": "markdown",
   "id": "08d3352e",
   "metadata": {},
   "source": [
    "# 5. Pattern Printing\n",
    "\n",
    "   **Write a Python program that takes an integer 'n' as input and prints the following pattern:**\n",
    "\n",
    "   **For `n = 4`, the pattern should look like this:**\n",
    "\n",
    "    ```\n",
    "    1\n",
    "    1 2\n",
    "    1 2 3\n",
    "    1 2 3 4\n",
    "    ```"
   ]
  },
  {
   "cell_type": "code",
   "execution_count": 43,
   "id": "fbe3ece5",
   "metadata": {},
   "outputs": [
    {
     "name": "stdout",
     "output_type": "stream",
     "text": [
      "1 \n",
      "1 2 \n",
      "1 2 3 \n",
      "1 2 3 4 \n"
     ]
    }
   ],
   "source": [
    "n = 4\n",
    "for i in range(1,5):\n",
    "    for j in range(1,i+1):\n",
    "        print(j,end = \" \")\n",
    "    print()"
   ]
  },
  {
   "cell_type": "markdown",
   "id": "0fbc8399",
   "metadata": {},
   "source": [
    "# 6. Multiplication Table\n",
    "\n",
    "** a multiplication table for a given number 'n'. The table should include values from 1 to 10.**\n",
    "For example, if `n = 5`, the output shoCreate a Python program that generates and printsuld be:\n",
    "\n",
    "    ```\n",
    "    5 x 1 = 5\n",
    "    5 x 2 = 10\n",
    "    5 x 3 = 15\n",
    "    5 x 4 = 20\n",
    "    5 x 5 = 25\n",
    "    5 x 6 = 30\n",
    "    5 x 7 = 35\n",
    "    5 x 8 = 40\n",
    "    5 x 9 = 45\n",
    "    5 x 10 = 50"
   ]
  },
  {
   "cell_type": "code",
   "execution_count": 69,
   "id": "141bc379",
   "metadata": {},
   "outputs": [
    {
     "name": "stdout",
     "output_type": "stream",
     "text": [
      "Enter a number: 5\n",
      "Multiplication Table for 5:\n",
      "5 x 1 = 5\n",
      "5 x 2 = 10\n",
      "5 x 3 = 15\n",
      "5 x 4 = 20\n",
      "5 x 5 = 25\n",
      "5 x 6 = 30\n",
      "5 x 7 = 35\n",
      "5 x 8 = 40\n",
      "5 x 9 = 45\n",
      "5 x 10 = 50\n"
     ]
    }
   ],
   "source": [
    "n = int(input(\"Enter a number: \"))\n",
    "print(f\"Multiplication Table for {n}:\")\n",
    "for i in range(1, 11):\n",
    "    product = n * i\n",
    "    print(f\"{n} x {i} = {product})"
   ]
  },
  {
   "cell_type": "markdown",
   "id": "e835794f",
   "metadata": {},
   "source": [
    "# 7. Star Patterns\n",
    "\n",
    "   **Write a Python program that takes an integer 'n' as input and prints the following patterns:**\n",
    "\n",
    "    a) Right-angled triangle pattern:\n",
    "    ```"
   ]
  },
  {
   "cell_type": "code",
   "execution_count": 80,
   "id": "75c7cffb",
   "metadata": {},
   "outputs": [
    {
     "name": "stdout",
     "output_type": "stream",
     "text": [
      "*\n",
      "**\n",
      "***\n",
      "****\n",
      "*****\n"
     ]
    }
   ],
   "source": [
    "for i in range(1,6):\n",
    "    print('*' *i)"
   ]
  },
  {
   "cell_type": "markdown",
   "id": "6cf705af",
   "metadata": {},
   "source": [
    "**b) Inverted right-angled triangle pattern:**\n",
    "    ```"
   ]
  },
  {
   "cell_type": "code",
   "execution_count": 81,
   "id": "0616f69d",
   "metadata": {},
   "outputs": [
    {
     "name": "stdout",
     "output_type": "stream",
     "text": [
      "*****\n",
      "****\n",
      "***\n",
      "**\n",
      "*\n"
     ]
    }
   ],
   "source": [
    "for i in range(n,0,-1):\n",
    "        print('*'* i)"
   ]
  },
  {
   "cell_type": "markdown",
   "id": "e620f7e2",
   "metadata": {},
   "source": [
    "# 8. Number Pyramid\n",
    "\n",
    "   **Create a Python program that takes an integer 'n' as input and prints a number pyramid as shown below:**\n",
    "\n",
    "   **For `n = 4`, the output should be:**"
   ]
  },
  {
   "cell_type": "code",
   "execution_count": 84,
   "id": "93977cde",
   "metadata": {},
   "outputs": [
    {
     "name": "stdout",
     "output_type": "stream",
     "text": [
      "enter a no of rows::4\n",
      "   1\n",
      "  212\n",
      " 32123\n",
      "4321234\n"
     ]
    }
   ],
   "source": [
    "n = int(input(\"enter a no of rows::\"))\n",
    "for i in range(1,n+1):\n",
    "    for j in range(1,n-i+1):   \n",
    "        print(end = \" \")\n",
    "    for j in range(i,0,-1):\n",
    "        print(j,end = \"\")      \n",
    "    for j in range(2,i+1):\n",
    "        print(j,end = \"\")      \n",
    "    print()\n"
   ]
  },
  {
   "cell_type": "code",
   "execution_count": null,
   "id": "bba3c51d",
   "metadata": {},
   "outputs": [],
   "source": []
  }
 ],
 "metadata": {
  "kernelspec": {
   "display_name": "Python 3 (ipykernel)",
   "language": "python",
   "name": "python3"
  },
  "language_info": {
   "codemirror_mode": {
    "name": "ipython",
    "version": 3
   },
   "file_extension": ".py",
   "mimetype": "text/x-python",
   "name": "python",
   "nbconvert_exporter": "python",
   "pygments_lexer": "ipython3",
   "version": "3.11.4"
  }
 },
 "nbformat": 4,
 "nbformat_minor": 5
}
