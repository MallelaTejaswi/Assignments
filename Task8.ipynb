{
 "cells": [
  {
   "cell_type": "markdown",
   "id": "21c2b7b2",
   "metadata": {},
   "source": [
    "\n",
    "**Task 1: Basic If-Else Statements**\n",
    "Write a Python program that takes an `integer as input` from the user and prints whether it is `multiple of 3 or not` using if-else statements.\n",
    "\n",
    "**Task 2: Nested If Statements**\n",
    "Create a program that `asks the user` for their `age` and `nationality`. Depending on their age and nationality, display a different message using nested if statements. For example, if they are under 18 and from the USA, display `\"You are a minor from the USA.\"`\n",
    "\n",
    "**Task 3: Grade Calculator**\n",
    "Write a program that takes a student's score as input and converts it to a letter grade (A, B, C, D, or F) using if-elif-else statements. Use the following grading scale:\n",
    "- A: 90-100\n",
    "- B: 80-89\n",
    "- C: 70-79\n",
    "- D: 60-69\n",
    "- F: Below 60\n",
    "\n",
    "**Task 4: Leap Year Checker**\n",
    "Create a Python program that checks if a given year is a leap year or not. Use conditional statements to determine whether the year is divisible by 4, 100, and 400 to decide if it's a leap year.\n",
    "\n",
    "**Task 5: BMI Calculator**\n",
    "Write a program that calculates a person's Body Mass Index (BMI) based on their height and weight. Then, use conditional statements to categorize the BMI as Underweight, Normal, Overweight, or Obese. Provide guidance on the healthy range for BMI.(use BMI Formula)\n",
    "\n",
    "**Task 6: Calculator with Menu**\n",
    "Build a simple calculator program that provides a menu with options for addition, subtraction, multiplication, and division. `Take user input for two numbers`and an `operation choice`. Use conditional statements to perform the selected operation and display the result.\n",
    "\n",
    "**Task 7: Temperature Converter**\n",
    "Write a program that `converts temperatures between Celsius and Fahrenhei`t. Allow the user to `choose` the conversion direction and input the temperature value. Use conditional statements to perform the conversion based on the `user's choice`.(Do with conversion formula)\n"
   ]
  },
  {
   "cell_type": "markdown",
   "id": "8d3595c8",
   "metadata": {},
   "source": [
    "**Task 1: Basic If-Else Statements**\n",
    "**Write a Python program that takes an `integer as input` from the user and prints whether it is `multiple of 3 or not` using if-else statements.**"
   ]
  },
  {
   "cell_type": "code",
   "execution_count": 14,
   "id": "ff919423",
   "metadata": {},
   "outputs": [
    {
     "name": "stdout",
     "output_type": "stream",
     "text": [
      "Enter a value 24\n",
      "multiple of 3\n"
     ]
    }
   ],
   "source": [
    "numb = int(input(\"Enter a value\"))\n",
    "if (numb%3==0):\n",
    "    print(\"multiple of 3\")\n",
    "else:\n",
    "    print(\"not multiple of 3\")"
   ]
  },
  {
   "cell_type": "markdown",
   "id": "92033bf1",
   "metadata": {},
   "source": [
    "**Task 2: Nested If Statements**\n",
    "**Create a program that `asks the user` for their `age` and `nationality`. Depending on their age and nationality, display a different message using nested if statements. For example, if they are under 18 and from the USA, display `\"You are a minor from the USA.**"
   ]
  },
  {
   "cell_type": "code",
   "execution_count": 23,
   "id": "6091b04b",
   "metadata": {},
   "outputs": [
    {
     "name": "stdout",
     "output_type": "stream",
     "text": [
      "Enter your age :19\n",
      "Enter your nationalityUSA\n",
      "You are a minor from the USA\n"
     ]
    }
   ],
   "source": [
    "age = int(input(\"Enter your age :\"))\n",
    "if age >= 18:\n",
    "    nationality = input(\"Enter your nationality\")\n",
    "    print(\"You are a minor from the USA\")\n",
    "else:\n",
    "    nationality = input(\"Enter your nationality\")\n",
    "    print(\"You are a major from the USA\")"
   ]
  },
  {
   "cell_type": "markdown",
   "id": "c91e4c98",
   "metadata": {},
   "source": [
    "**Task 3: Grade Calculator**\n",
    "**Write a program that takes a student's score as input and converts it to a letter grade (A, B, C, D, or F) using if-elif-else statements. Use the following grading scale:\n",
    "- A: 90-100\n",
    "- B: 80-89\n",
    "- C: 70-79\n",
    "- D: 60-69\n",
    "- F: Below 60**"
   ]
  },
  {
   "cell_type": "code",
   "execution_count": 42,
   "id": "5967025a",
   "metadata": {},
   "outputs": [
    {
     "name": "stdout",
     "output_type": "stream",
     "text": [
      "Enter a score:: 78\n",
      "C\n"
     ]
    }
   ],
   "source": [
    "score = int(input(\"Enter a score::\"))\n",
    "if (score >= 90) and (score <= 100):\n",
    "    print(\"y\")\n",
    "elif  (score >= 80) and (score < 89):\n",
    "    print(\"B\")\n",
    "elif  (score >= 70) and (score < 79):\n",
    "    print(\"C\")\n",
    "elif  (score >= 60) and (score < 69):\n",
    "    print(\"D\")\n",
    "else:\n",
    "    print(\"F\")"
   ]
  },
  {
   "cell_type": "markdown",
   "id": "901a1dd4",
   "metadata": {},
   "source": [
    "\n",
    "**Task 4: Leap Year Checker**\n",
    "**Create a Python program that checks if a given year is a leap year or not. Use conditional statements to determine whether the year is divisible by 4, 100, and 400 to decide if it's a leap year.**"
   ]
  },
  {
   "cell_type": "code",
   "execution_count": 59,
   "id": "78df7d70",
   "metadata": {},
   "outputs": [
    {
     "name": "stdout",
     "output_type": "stream",
     "text": [
      "Enter a leapyear:2000\n",
      "its a Leap Year\n"
     ]
    }
   ],
   "source": [
    "leapyear = int(input(\"Enter a leapyear:\"))\n",
    "if (leapyear%4==0) and (leapyear%100==0)and (leapyear%400==0):\n",
    "    print(\"its a Leap Year\")\n",
    "else:\n",
    "    print(\"Not a leap year\")"
   ]
  },
  {
   "cell_type": "markdown",
   "id": "03966b3a",
   "metadata": {},
   "source": [
    "**Task 5: BMI Calculator**\n",
    "**Write a program that calculates a person's Body Mass Index (BMI) based on their height and weight. Then, use conditional statements to categorize the BMI as Underweight, Normal, Overweight, or Obese. Provide guidance on the healthy range for BMI.(use BMI Formula)**"
   ]
  },
  {
   "cell_type": "code",
   "execution_count": 69,
   "id": "a64d0c4e",
   "metadata": {},
   "outputs": [
    {
     "name": "stdout",
     "output_type": "stream",
     "text": [
      "Enter a height : 3.0\n",
      "Enter a weight : 45\n",
      "Underweight\n"
     ]
    }
   ],
   "source": [
    "height =  float(input(\"Enter a height : \"))\n",
    "weight = float(input(\"Enter a weight : \"))\n",
    "BMI = weight/height**2\n",
    "if (BMI <= 18.5):\n",
    "    print(\"Underweight\")\n",
    "elif (BMI >= 18.5) and (BMI <= 24.9):\n",
    "    print(\"Normal\")\n",
    "elif (BMI >= 25.0) and (BMI <= 29.9):\n",
    "    print(\"Overweight\")\n",
    "else:\n",
    "    print(\"obesity\")"
   ]
  },
  {
   "cell_type": "markdown",
   "id": "da823943",
   "metadata": {},
   "source": [
    "**Task 6: Calculator with Menu**\n",
    "**Build a simple calculator program that provides a menu with options for addition, subtraction, multiplication, and division. `Take user input for two numbers`and an `operation choice`. Use conditional statements to perform the selected operation and display the result.**"
   ]
  },
  {
   "cell_type": "code",
   "execution_count": 84,
   "id": "09c7561a",
   "metadata": {},
   "outputs": [
    {
     "name": "stdout",
     "output_type": "stream",
     "text": [
      "Enter a number : 170\n",
      "Enter another number : 340\n",
      "Enter a operator : +\n",
      "addition of two numbers is 510.0\n"
     ]
    }
   ],
   "source": [
    "num1 = float(input(\"Enter a number : \"))\n",
    "num2 = float(input(\"Enter another number : \"))\n",
    "operation = input(\"Enter a operator : \")\n",
    "if operation == \"+\":\n",
    "    add = num1+num2\n",
    "    print(\"addition of two numbers is\",add)\n",
    "elif operation == \"-\":\n",
    "    sub = num1-num2\n",
    "    print(\"subtraction of two numbers is\",sub)\n",
    "elif operation == \"*\":\n",
    "    multiplication =num1*num2\n",
    "    print(\"multiplication of two numbers is\",mul)\n",
    "elif operation == \"/\":\n",
    "    division = num1/num2\n",
    "    print(\"division of two numbers is\",div)\n",
    "else:\n",
    "    print(\"Enter a valid operation\")"
   ]
  },
  {
   "cell_type": "markdown",
   "id": "cdf1327d",
   "metadata": {},
   "source": [
    "**Task 7: Temperature Converter**\n",
    "**Write a program that `converts temperatures between Celsius and Fahrenhei`t. Allow the user to `choose` the conversion direction and input the temperature value. Use conditional statements to perform the conversion based on the `user's choice`.(Do with conversion formula)**"
   ]
  },
  {
   "cell_type": "code",
   "execution_count": 92,
   "id": "64b89431",
   "metadata": {},
   "outputs": [
    {
     "name": "stdout",
     "output_type": "stream",
     "text": [
      "Enter a temperature:: 40\n",
      "Enter a conversionFahrenheit\n",
      "Fahrenheit 104.0\n"
     ]
    }
   ],
   "source": [
    "temp = float(input(\"Enter a temperature:: \"))\n",
    "conversion = input(\"Enter a conversion\")\n",
    "if conversion == \"Celsius\":\n",
    "    Celsius = (temp-32)/1.8\n",
    "    print(\"Celsius\",Celsius)\n",
    "elif conversion == \"Fahrenheit\":\n",
    "    fahrenheit = temp * 1.8 + 32\n",
    "    print(\"Fahrenheit\",fahrenheit)\n",
    "else: \n",
    "    print(\"Enter a valid conversion\")"
   ]
  },
  {
   "cell_type": "code",
   "execution_count": null,
   "id": "6d145ad6",
   "metadata": {},
   "outputs": [],
   "source": []
  }
 ],
 "metadata": {
  "kernelspec": {
   "display_name": "Python 3 (ipykernel)",
   "language": "python",
   "name": "python3"
  },
  "language_info": {
   "codemirror_mode": {
    "name": "ipython",
    "version": 3
   },
   "file_extension": ".py",
   "mimetype": "text/x-python",
   "name": "python",
   "nbconvert_exporter": "python",
   "pygments_lexer": "ipython3",
   "version": "3.11.4"
  }
 },
 "nbformat": 4,
 "nbformat_minor": 5
}
