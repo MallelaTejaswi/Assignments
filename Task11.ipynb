{
 "cells": [
  {
   "cell_type": "markdown",
   "id": "bcb3976f",
   "metadata": {},
   "source": [
    "Task 1: `Counting Numbers`\n",
    "    \n",
    "    write a program that prints the numbers from 1 to 10, each on a new line.\n",
    "\n",
    "\n",
    "Task 2: `Even Numbers`\n",
    "\n",
    "    write a program that prints the even numbers from 1 to 20, each on a new line.\n",
    "\n",
    "\n",
    "Task 3: `Square Numbers`\n",
    "\n",
    "    Write a program that calculates and prints the square of each number from 1 to 5.\n",
    "\n",
    "\n",
    "Task 4: `Multiples of Three`\n",
    "\n",
    "    write a program that prints the multiples of 3 from 3 to 30, each on a new line.\n",
    "\n",
    "Task 5: `Reverse Counting`\n",
    "\n",
    "    Write a program that prints the numbers from 10 to 1 in descending order, each on a new line."
   ]
  },
  {
   "cell_type": "markdown",
   "id": "e8d412dd",
   "metadata": {},
   "source": [
    "# Task 1: `Counting Numbers`\n",
    "    \n",
    "   **write a program that prints the numbers from 1 to 10, each on a new line.**\n"
   ]
  },
  {
   "cell_type": "code",
   "execution_count": 1,
   "id": "a2a791c4",
   "metadata": {},
   "outputs": [
    {
     "name": "stdout",
     "output_type": "stream",
     "text": [
      "1\n",
      "2\n",
      "3\n",
      "4\n",
      "5\n",
      "6\n",
      "7\n",
      "8\n",
      "9\n",
      "10\n"
     ]
    }
   ],
   "source": [
    "for a in range(1,11):\n",
    "    print(a)"
   ]
  },
  {
   "cell_type": "code",
   "execution_count": 2,
   "id": "3d96596d",
   "metadata": {},
   "outputs": [
    {
     "name": "stdout",
     "output_type": "stream",
     "text": [
      "1\n",
      "2\n",
      "3\n",
      "4\n",
      "5\n",
      "6\n",
      "7\n",
      "8\n",
      "9\n",
      "10\n"
     ]
    }
   ],
   "source": [
    "a = 1\n",
    "while a <= 10:\n",
    "    print(a)\n",
    "    a =a + 1"
   ]
  },
  {
   "cell_type": "markdown",
   "id": "ffca1eb4",
   "metadata": {},
   "source": [
    "# Task 2: `Even Numbers`\n",
    "\n",
    "   **write a program that prints the even numbers from 1 to 20, each on a new line.**"
   ]
  },
  {
   "cell_type": "code",
   "execution_count": 2,
   "id": "c96560e2",
   "metadata": {},
   "outputs": [
    {
     "name": "stdout",
     "output_type": "stream",
     "text": [
      "2\n",
      "4\n",
      "6\n",
      "8\n",
      "10\n",
      "12\n",
      "14\n",
      "16\n",
      "18\n"
     ]
    }
   ],
   "source": [
    "for a in range (1,20):\n",
    "    if (a%2==0):\n",
    "        print(a)"
   ]
  },
  {
   "cell_type": "code",
   "execution_count": 7,
   "id": "3ee7a536",
   "metadata": {},
   "outputs": [
    {
     "name": "stdout",
     "output_type": "stream",
     "text": [
      "2\n",
      "4\n",
      "6\n",
      "8\n",
      "10\n",
      "12\n",
      "14\n",
      "16\n",
      "18\n",
      "20\n"
     ]
    }
   ],
   "source": [
    "a=1\n",
    "while a <= 20:\n",
    "    if(a%2==0):\n",
    "        print(a)\n",
    "    a = a+1"
   ]
  },
  {
   "cell_type": "markdown",
   "id": "9b6d90a0",
   "metadata": {},
   "source": [
    "# Task 3: `Square Numbers`\n",
    "\n",
    "  **Write a program that calculates and prints the square of each number from 1 to 5.**\n"
   ]
  },
  {
   "cell_type": "code",
   "execution_count": 10,
   "id": "f56320fe",
   "metadata": {},
   "outputs": [
    {
     "name": "stdout",
     "output_type": "stream",
     "text": [
      "1\n",
      "4\n",
      "9\n",
      "16\n",
      "25\n"
     ]
    }
   ],
   "source": [
    "for i in range(1,6):\n",
    "    print(i**2)"
   ]
  },
  {
   "cell_type": "code",
   "execution_count": 21,
   "id": "74ebddc4",
   "metadata": {},
   "outputs": [
    {
     "name": "stdout",
     "output_type": "stream",
     "text": [
      "1\n",
      "4\n",
      "9\n",
      "16\n",
      "25\n"
     ]
    }
   ],
   "source": [
    "a = 1\n",
    "while a <= 5:\n",
    "    print(a**2)\n",
    "    a = a+1"
   ]
  },
  {
   "cell_type": "markdown",
   "id": "fe876806",
   "metadata": {},
   "source": [
    "# Task 4: `Multiples of Three`\n",
    "\n",
    "  **write a program that prints the multiples of 3 from 3 to 30, each on a new line.**"
   ]
  },
  {
   "cell_type": "code",
   "execution_count": 63,
   "id": "587f19be",
   "metadata": {},
   "outputs": [
    {
     "name": "stdout",
     "output_type": "stream",
     "text": [
      "3\n",
      "6\n",
      "9\n",
      "12\n",
      "15\n",
      "18\n",
      "21\n",
      "24\n",
      "27\n",
      "30\n"
     ]
    }
   ],
   "source": [
    "for i in range(3,31):\n",
    "    if(i%3==0):\n",
    "     print(i)"
   ]
  },
  {
   "cell_type": "code",
   "execution_count": 71,
   "id": "7d2c5a71",
   "metadata": {},
   "outputs": [
    {
     "name": "stdout",
     "output_type": "stream",
     "text": [
      "3\n",
      "6\n",
      "9\n",
      "12\n",
      "15\n",
      "18\n",
      "21\n",
      "24\n",
      "27\n",
      "30\n"
     ]
    }
   ],
   "source": [
    "a = 3\n",
    "while a <= 30:\n",
    "    if(a%3==0):\n",
    "        print(a)\n",
    "    a = a + 1"
   ]
  },
  {
   "cell_type": "markdown",
   "id": "a9552203",
   "metadata": {},
   "source": [
    "# Task 5: `Reverse Counting`\n",
    "\n",
    "  **Write a program that prints the numbers from 10 to 1 in descending order, each on a new line.**"
   ]
  },
  {
   "cell_type": "code",
   "execution_count": 55,
   "id": "8549a0db",
   "metadata": {},
   "outputs": [
    {
     "name": "stdout",
     "output_type": "stream",
     "text": [
      "10\n",
      "9\n",
      "8\n",
      "7\n",
      "6\n",
      "5\n",
      "4\n",
      "3\n",
      "2\n",
      "1\n"
     ]
    }
   ],
   "source": [
    "for i in range(10,0,-1):\n",
    "    print(i)"
   ]
  },
  {
   "cell_type": "code",
   "execution_count": 46,
   "id": "c0ae7361",
   "metadata": {},
   "outputs": [
    {
     "name": "stdout",
     "output_type": "stream",
     "text": [
      "10\n",
      "9\n",
      "8\n",
      "7\n",
      "6\n",
      "5\n",
      "4\n",
      "3\n",
      "2\n",
      "1\n"
     ]
    }
   ],
   "source": [
    "a = 10\n",
    "while a > 0:\n",
    "    print(a)\n",
    "    a = a-1"
   ]
  },
  {
   "cell_type": "code",
   "execution_count": null,
   "id": "9ae2b04e",
   "metadata": {},
   "outputs": [],
   "source": []
  }
 ],
 "metadata": {
  "kernelspec": {
   "display_name": "Python 3 (ipykernel)",
   "language": "python",
   "name": "python3"
  },
  "language_info": {
   "codemirror_mode": {
    "name": "ipython",
    "version": 3
   },
   "file_extension": ".py",
   "mimetype": "text/x-python",
   "name": "python",
   "nbconvert_exporter": "python",
   "pygments_lexer": "ipython3",
   "version": "3.11.4"
  }
 },
 "nbformat": 4,
 "nbformat_minor": 5
}
