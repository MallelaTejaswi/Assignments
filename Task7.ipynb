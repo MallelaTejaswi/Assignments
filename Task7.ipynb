{
 "cells": [
  {
   "cell_type": "markdown",
   "id": "f02710a3",
   "metadata": {},
   "source": [
    "\n",
    "**Task 1: Dictionary Basics**\n",
    "Create a Python program that defines a dictionary to store information about your `favorite book`. Include the title, author, publication year, and genre as key-value pairs. Print out the dictionary.and do atleast 5 dictionary methods on it.\n",
    "\n",
    "**Task 2: Dictionary Lookup**\n",
    "Write a Python program that simulates a simple dictionary for translating `English words to Spanish`. Define a dictionary containing a few English words as `keys` and their corresponding Spanish translations as `values`. Allow `users to enter` an English word, and then display its Spanish translation `if it exists` in the dictionary.(use google for English to Spanish translator)\n",
    "\n",
    "**Task 3: Student Grades**\n",
    "Create a Python program that stores the `grades of five students` in a dictionary. Allow users to input the names of the students and their respective grades. Calculate and display the `average grade` of the students.\n",
    "\n",
    "**Task 4: Contact List**\n",
    "Build a basic contact list using a dictionary. Initially, the dictionary can be `empty`. Allow users to `add new contacts` with `names and phone numbers`. Users should also be able to search for contacts by name and display their phone numbers(use in operator).\n",
    "\n",
    "**Task 5: Dictionary Iteration**\n",
    "Write a Python program that defines a dictionary containing the names of `fruits as keys` and their corresponding `colors as values` (e.g., 'apple': 'red').Do atleast 5 dictionary methods on it.\n"
   ]
  },
  {
   "cell_type": "markdown",
   "id": "520bb034",
   "metadata": {},
   "source": [
    "**Task 1: Dictionary Basics**\n",
    "**Create a Python program that defines a dictionary to store information about your `favorite book`. Include the title, author, publication year, and genre as key-value pairs. Print out the dictionary.and do atleast 5 dictionary methods on it**"
   ]
  },
  {
   "cell_type": "code",
   "execution_count": 1,
   "id": "008b8347",
   "metadata": {},
   "outputs": [],
   "source": [
    "fav = {\"Tittle\" : 'The Guide',\"Author\" : 'RK Narayan',\"Publication year\" :'1958',\"genre\" :'Philosophical'}\n"
   ]
  },
  {
   "cell_type": "code",
   "execution_count": 2,
   "id": "44416b01",
   "metadata": {},
   "outputs": [
    {
     "data": {
      "text/plain": [
       "{'Tittle': 'The Guide',\n",
       " 'Author': 'RK Narayan',\n",
       " 'Publication year': '1958',\n",
       " 'genre': 'Philosophical'}"
      ]
     },
     "execution_count": 2,
     "metadata": {},
     "output_type": "execute_result"
    }
   ],
   "source": [
    "fav"
   ]
  },
  {
   "cell_type": "code",
   "execution_count": 4,
   "id": "f9ef65c7",
   "metadata": {},
   "outputs": [
    {
     "data": {
      "text/plain": [
       "'The Guide'"
      ]
     },
     "execution_count": 4,
     "metadata": {},
     "output_type": "execute_result"
    }
   ],
   "source": [
    "fav.get(\"Tittle\")"
   ]
  },
  {
   "cell_type": "code",
   "execution_count": 5,
   "id": "7180a7a6",
   "metadata": {},
   "outputs": [
    {
     "data": {
      "text/plain": [
       "dict_items([('Tittle', 'The Guide'), ('Author', 'RK Narayan'), ('Publication year', '1958'), ('genre', 'Philosophical')])"
      ]
     },
     "execution_count": 5,
     "metadata": {},
     "output_type": "execute_result"
    }
   ],
   "source": [
    "fav.items()"
   ]
  },
  {
   "cell_type": "code",
   "execution_count": 6,
   "id": "30518c62",
   "metadata": {},
   "outputs": [
    {
     "data": {
      "text/plain": [
       "dict_keys(['Tittle', 'Author', 'Publication year', 'genre'])"
      ]
     },
     "execution_count": 6,
     "metadata": {},
     "output_type": "execute_result"
    }
   ],
   "source": [
    "fav.keys()"
   ]
  },
  {
   "cell_type": "code",
   "execution_count": 7,
   "id": "3324dbde",
   "metadata": {},
   "outputs": [
    {
     "data": {
      "text/plain": [
       "dict_values(['The Guide', 'RK Narayan', '1958', 'Philosophical'])"
      ]
     },
     "execution_count": 7,
     "metadata": {},
     "output_type": "execute_result"
    }
   ],
   "source": [
    "fav.values()"
   ]
  },
  {
   "cell_type": "code",
   "execution_count": 8,
   "id": "50280ba4",
   "metadata": {},
   "outputs": [
    {
     "data": {
      "text/plain": [
       "'Philosophical'"
      ]
     },
     "execution_count": 8,
     "metadata": {},
     "output_type": "execute_result"
    }
   ],
   "source": [
    "fav.pop(\"genre\")"
   ]
  },
  {
   "cell_type": "code",
   "execution_count": 11,
   "id": "0e337efc",
   "metadata": {},
   "outputs": [
    {
     "data": {
      "text/plain": [
       "{'Tittle': 'The Guide', 'Author': 'RK Narayan', 'Publication year': '1958'}"
      ]
     },
     "execution_count": 11,
     "metadata": {},
     "output_type": "execute_result"
    }
   ],
   "source": [
    "fav"
   ]
  },
  {
   "cell_type": "markdown",
   "id": "5cad197b",
   "metadata": {},
   "source": [
    "**Task 2: Dictionary Lookup**\n",
    "**Write a Python program that simulates a simple dictionary for translating `English words to Spanish`. Define a dictionary containing a few English words as `keys` and their corresponding Spanish translations as `values`. Allow `users to enter` an English word, and then display its Spanish translation `if it exists` in the dictionary.(use google for English to Spanish translator)**"
   ]
  },
  {
   "cell_type": "code",
   "execution_count": 12,
   "id": "db225cc5",
   "metadata": {},
   "outputs": [],
   "source": [
    "dict1 = {\"Bye\":'adois',\"please\":'por favor',\"yes\":'si',\"thank you\":'gracias'}"
   ]
  },
  {
   "cell_type": "code",
   "execution_count": 15,
   "id": "9576945c",
   "metadata": {},
   "outputs": [
    {
     "name": "stdout",
     "output_type": "stream",
     "text": [
      "enter the english woord::yes\n"
     ]
    },
    {
     "data": {
      "text/plain": [
       "'si'"
      ]
     },
     "execution_count": 15,
     "metadata": {},
     "output_type": "execute_result"
    }
   ],
   "source": [
    "dict1.pop(input(\"enter the english woord::\"))\n"
   ]
  },
  {
   "cell_type": "code",
   "execution_count": 16,
   "id": "56d95140",
   "metadata": {},
   "outputs": [
    {
     "data": {
      "text/plain": [
       "{'Bye': 'adois', 'please': 'por favor', 'thank you': 'gracias'}"
      ]
     },
     "execution_count": 16,
     "metadata": {},
     "output_type": "execute_result"
    }
   ],
   "source": [
    "dict1"
   ]
  },
  {
   "cell_type": "markdown",
   "id": "56f49c48",
   "metadata": {},
   "source": [
    "**Task 3: Student Grades**\n",
    "**Create a Python program that stores the `grades of five students` in a dictionary. Allow users to input the names of the students and their respective grades. Calculate and display the `average grade` of the students.**"
   ]
  },
  {
   "cell_type": "code",
   "execution_count": 18,
   "id": "65b89dde",
   "metadata": {},
   "outputs": [
    {
     "name": "stdout",
     "output_type": "stream",
     "text": [
      "enter name of student1 : Teju\n",
      "enter the grade of student1 :: 10\n",
      "enter the name of student2 : Phani\n",
      "enter the grade of student2 :: 9\n",
      "enter the name of student3 :Ravali\n",
      "enter the grade of the student 3:: 9\n",
      "enter the name of student4 : Indu\n",
      "enter the grade of the student4 :: 10\n",
      "enter the name of the student : Pranith\n",
      "enter the grade of the student5 : 9\n"
     ]
    }
   ],
   "source": [
    "name = input(\"enter name of student1 : \")\n",
    "grade =int(input(\"enter the grade of student1 :: \"))\n",
    "name1 = input(\"enter the name of student2 : \")\n",
    "grade1 = int(input(\"enter the grade of student2 :: \"))\n",
    "name2 = input(\"enter the name of student3 :\")\n",
    "grade2 = int(input(\"enter the grade of the student 3:: \"))\n",
    "name3 = input(\"enter the name of student4 : \")\n",
    "grade3 = int(input(\"enter the grade of the student4 :: \"))\n",
    "name4 = input(\"enter the name of the student : \")\n",
    "grade4 =int(input(\"enter the grade of the student5 : \"))"
   ]
  },
  {
   "cell_type": "code",
   "execution_count": 21,
   "id": "22a02012",
   "metadata": {},
   "outputs": [],
   "source": [
    "student = {}"
   ]
  },
  {
   "cell_type": "code",
   "execution_count": 22,
   "id": "4f529b0c",
   "metadata": {},
   "outputs": [],
   "source": [
    "student.update({name:grade,name1:grade1,name2:grade2,name3:grade3,name4:grade4})\n"
   ]
  },
  {
   "cell_type": "code",
   "execution_count": 23,
   "id": "f44cb3ee",
   "metadata": {},
   "outputs": [
    {
     "data": {
      "text/plain": [
       "{'Teju': 10, 'Phani': 9, 'Ravali': 9, 'Indu': 10, 'Pranith': 9}"
      ]
     },
     "execution_count": 23,
     "metadata": {},
     "output_type": "execute_result"
    }
   ],
   "source": [
    "student"
   ]
  },
  {
   "cell_type": "code",
   "execution_count": 24,
   "id": "a375c8ab",
   "metadata": {},
   "outputs": [],
   "source": [
    "sum1 = sum(student.values())\n",
    "tot = len(student.keys())"
   ]
  },
  {
   "cell_type": "code",
   "execution_count": 25,
   "id": "dadae514",
   "metadata": {},
   "outputs": [],
   "source": [
    "average = sum1/tot"
   ]
  },
  {
   "cell_type": "code",
   "execution_count": 26,
   "id": "bd6185b2",
   "metadata": {},
   "outputs": [
    {
     "data": {
      "text/plain": [
       "9.4"
      ]
     },
     "execution_count": 26,
     "metadata": {},
     "output_type": "execute_result"
    }
   ],
   "source": [
    "average"
   ]
  },
  {
   "cell_type": "markdown",
   "id": "6217e9e4",
   "metadata": {},
   "source": [
    "**Task 4: Contact List**\n",
    "**Build a basic contact list using a dictionary. Initially, the dictionary can be `empty`. Allow users to `add new contacts` with `names and phone numbers`. Users should also be able to search for contacts by name and display their phone numbers(use in operator).**"
   ]
  },
  {
   "cell_type": "code",
   "execution_count": 27,
   "id": "573c60bb",
   "metadata": {},
   "outputs": [
    {
     "name": "stdout",
     "output_type": "stream",
     "text": [
      "enter name 1 : Akhil\n",
      "enter no.1 :: 7078213478\n",
      "enter name 2 : Swathi\n",
      "enter no.2 :: 9067412894\n",
      "enter name 3 : Ramya\n",
      "enter no.3 :: 6034219875\n"
     ]
    }
   ],
   "source": [
    "contacts = {}\n",
    "contact1 = input(\"enter name 1 : \")\n",
    "num1 = int(input(\"enter no.1 :: \"))\n",
    "contact2 = input(\"enter name 2 : \")\n",
    "num2 = int(input(\"enter no.2 :: \"))\n",
    "contact3 = input(\"enter name 3 : \")\n",
    "num3 = int(input(\"enter no.3 :: \"))\n"
   ]
  },
  {
   "cell_type": "code",
   "execution_count": 31,
   "id": "3118263d",
   "metadata": {},
   "outputs": [],
   "source": [
    "contacts.update({contact1:num1,contact2:num2,contact3:num3})\n"
   ]
  },
  {
   "cell_type": "code",
   "execution_count": 32,
   "id": "847611e5",
   "metadata": {},
   "outputs": [
    {
     "data": {
      "text/plain": [
       "{'Akhil': 7078213478, 'Swathi': 9067412894, 'Ramya': 6034219875}"
      ]
     },
     "execution_count": 32,
     "metadata": {},
     "output_type": "execute_result"
    }
   ],
   "source": [
    "contacts"
   ]
  },
  {
   "cell_type": "code",
   "execution_count": 33,
   "id": "f874874f",
   "metadata": {},
   "outputs": [
    {
     "data": {
      "text/plain": [
       "6034219875"
      ]
     },
     "execution_count": 33,
     "metadata": {},
     "output_type": "execute_result"
    }
   ],
   "source": [
    "contacts['Ramya']"
   ]
  },
  {
   "cell_type": "code",
   "execution_count": 34,
   "id": "6937ef9c",
   "metadata": {},
   "outputs": [
    {
     "data": {
      "text/plain": [
       "True"
      ]
     },
     "execution_count": 34,
     "metadata": {},
     "output_type": "execute_result"
    }
   ],
   "source": [
    "\"Akhil\" in contacts"
   ]
  },
  {
   "cell_type": "markdown",
   "id": "71583fd0",
   "metadata": {},
   "source": [
    "**Task 5: Dictionary Iteration**\n",
    "**Write a Python program that defines a dictionary containing the names of `fruits as keys` and their corresponding `colors as values` (e.g., 'apple': 'red').Do atleast 5 dictionary methods on it.**"
   ]
  },
  {
   "cell_type": "code",
   "execution_count": 37,
   "id": "e2d7b4d5",
   "metadata": {},
   "outputs": [],
   "source": [
    "fruits = {\"Apple\":'red',\"Banana\":'yellow',\"cherry\":'red',\"grapes\":'freen',\"orange\":'orange'}"
   ]
  },
  {
   "cell_type": "code",
   "execution_count": 38,
   "id": "db495c65",
   "metadata": {},
   "outputs": [
    {
     "data": {
      "text/plain": [
       "{'Apple': 'red',\n",
       " 'Banana': 'yellow',\n",
       " 'cherry': 'red',\n",
       " 'grapes': 'freen',\n",
       " 'orange': 'orange'}"
      ]
     },
     "execution_count": 38,
     "metadata": {},
     "output_type": "execute_result"
    }
   ],
   "source": [
    "fruits"
   ]
  },
  {
   "cell_type": "code",
   "execution_count": 41,
   "id": "a7f6e19b",
   "metadata": {},
   "outputs": [
    {
     "data": {
      "text/plain": [
       "'red'"
      ]
     },
     "execution_count": 41,
     "metadata": {},
     "output_type": "execute_result"
    }
   ],
   "source": [
    "fruits.get('cherry')"
   ]
  },
  {
   "cell_type": "code",
   "execution_count": 42,
   "id": "8a414b1c",
   "metadata": {},
   "outputs": [
    {
     "data": {
      "text/plain": [
       "dict_keys(['Apple', 'Banana', 'cherry', 'grapes', 'orange'])"
      ]
     },
     "execution_count": 42,
     "metadata": {},
     "output_type": "execute_result"
    }
   ],
   "source": [
    "fruits.keys()"
   ]
  },
  {
   "cell_type": "code",
   "execution_count": 43,
   "id": "be10c3ee",
   "metadata": {},
   "outputs": [
    {
     "data": {
      "text/plain": [
       "dict_values(['red', 'yellow', 'red', 'freen', 'orange'])"
      ]
     },
     "execution_count": 43,
     "metadata": {},
     "output_type": "execute_result"
    }
   ],
   "source": [
    "fruits.values()"
   ]
  },
  {
   "cell_type": "code",
   "execution_count": 44,
   "id": "5ba89a44",
   "metadata": {},
   "outputs": [
    {
     "data": {
      "text/plain": [
       "dict_values(['red', 'yellow', 'red', 'freen', 'orange'])"
      ]
     },
     "execution_count": 44,
     "metadata": {},
     "output_type": "execute_result"
    }
   ],
   "source": [
    "fruits.values()"
   ]
  },
  {
   "cell_type": "code",
   "execution_count": 45,
   "id": "5fbeba28",
   "metadata": {},
   "outputs": [
    {
     "data": {
      "text/plain": [
       "dict_items([('Apple', 'red'), ('Banana', 'yellow'), ('cherry', 'red'), ('grapes', 'freen'), ('orange', 'orange')])"
      ]
     },
     "execution_count": 45,
     "metadata": {},
     "output_type": "execute_result"
    }
   ],
   "source": [
    "fruits.items()"
   ]
  },
  {
   "cell_type": "code",
   "execution_count": 49,
   "id": "4e081dc7",
   "metadata": {},
   "outputs": [
    {
     "data": {
      "text/plain": [
       "'red'"
      ]
     },
     "execution_count": 49,
     "metadata": {},
     "output_type": "execute_result"
    }
   ],
   "source": [
    "fruits.pop(\"Apple\")"
   ]
  },
  {
   "cell_type": "code",
   "execution_count": 50,
   "id": "093b632c",
   "metadata": {},
   "outputs": [
    {
     "data": {
      "text/plain": [
       "{'Banana': 'yellow', 'cherry': 'red', 'grapes': 'freen', 'orange': 'orange'}"
      ]
     },
     "execution_count": 50,
     "metadata": {},
     "output_type": "execute_result"
    }
   ],
   "source": [
    "fruits"
   ]
  },
  {
   "cell_type": "code",
   "execution_count": 51,
   "id": "174fa987",
   "metadata": {},
   "outputs": [],
   "source": [
    "fruits.update({\"Kiwi\":\"Green\"})"
   ]
  },
  {
   "cell_type": "code",
   "execution_count": 52,
   "id": "c84cc0c5",
   "metadata": {},
   "outputs": [
    {
     "data": {
      "text/plain": [
       "{'Banana': 'yellow',\n",
       " 'cherry': 'red',\n",
       " 'grapes': 'freen',\n",
       " 'orange': 'orange',\n",
       " 'Kiwi': 'Green'}"
      ]
     },
     "execution_count": 52,
     "metadata": {},
     "output_type": "execute_result"
    }
   ],
   "source": [
    "fruits"
   ]
  },
  {
   "cell_type": "code",
   "execution_count": null,
   "id": "4646e5a9",
   "metadata": {},
   "outputs": [],
   "source": []
  }
 ],
 "metadata": {
  "kernelspec": {
   "display_name": "Python 3 (ipykernel)",
   "language": "python",
   "name": "python3"
  },
  "language_info": {
   "codemirror_mode": {
    "name": "ipython",
    "version": 3
   },
   "file_extension": ".py",
   "mimetype": "text/x-python",
   "name": "python",
   "nbconvert_exporter": "python",
   "pygments_lexer": "ipython3",
   "version": "3.11.4"
  }
 },
 "nbformat": 4,
 "nbformat_minor": 5
}
