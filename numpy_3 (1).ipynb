{
 "cells": [
  {
   "cell_type": "markdown",
   "id": "cc8d4d50",
   "metadata": {},
   "source": [
    "### Data Cleaning using numpy"
   ]
  },
  {
   "cell_type": "markdown",
   "id": "a9f62f05",
   "metadata": {},
   "source": [
    "**The following are the student marks of a class**\n",
    "[44,24,np.nan,59,32,96,188,52,62,58,52,120,np.nan,np.nan,3,56,81,59,,122,92,np.nan,87,96,97,1,19,2,53, 44]\n",
    "\n"
   ]
  },
  {
   "cell_type": "markdown",
   "id": "69b2a360",
   "metadata": {},
   "source": [
    "1. Find the no of outliers and missing values?\n",
    "2. replace the outliers with 45 and missing value with 87.\n",
    "3. what is the average marks of students after 2nd step?\n",
    "4. How many students got less than 60 marks?\n",
    "5. what is the maximum marks?\n",
    "6. Convert the marks to float32."
   ]
  },
  {
   "cell_type": "markdown",
   "id": "3692b4ec",
   "metadata": {},
   "source": [
    "### Solving Linear Equations"
   ]
  },
  {
   "cell_type": "markdown",
   "id": "b5172cfe",
   "metadata": {},
   "source": [
    "\n",
    "    \n",
    "1. 2x + 3y - z = 10\n",
    "\n",
    "    x - y + 2z = 5\n",
    "    \n",
    "    3x + 2y + z = 12\n",
    "    \n",
    "    \n",
    "    \n",
    "2. 2x + y - z + 3w = 8\n",
    "\n",
    "    3x - 2y + 2z + 2w = 1\n",
    "    \n",
    "    x + 3y - 2z + w = 7\n",
    "    \n",
    "    4x - y + z - 2w = 3\n",
    "   \n",
    "   \n",
    "   \n",
    "3. 4x + 2y - 3z = 10\n",
    "\n",
    "    -2x + 3y + z = -3\n",
    "    \n",
    "    x - y + 2z = 4\n",
    "    \n",
    "Solve the system of equations using NumPy's linalg.solve function.\n"
   ]
  },
  {
   "cell_type": "markdown",
   "id": "5bebe166",
   "metadata": {},
   "source": [
    "### Conditional Selection with np.where()"
   ]
  },
  {
   "cell_type": "markdown",
   "id": "036735c5",
   "metadata": {},
   "source": [
    "\n",
    "1.\tGenerate a random 1D array A of 10 integers between 1 and 100.\n",
    "\n",
    "2.\tUse np.where() to find the indices where the elements of A are greater than 50.\n",
    "\n",
    "3.\tCreate a new array B that contains elements from A where the condition is met.\n",
    "\n",
    "4.\tCalculate the mean of array B and print it along with arrays A and B."
   ]
  },
  {
   "cell_type": "markdown",
   "id": "f935d75b",
   "metadata": {},
   "source": [
    "### Replace Values with np.where()"
   ]
  },
  {
   "cell_type": "markdown",
   "id": "9c5ac3b7",
   "metadata": {},
   "source": [
    "1.\tCreate a 4x4 random integer matrix C with values between -10 and 10.\n",
    "\n",
    "2.\tUse np.where() to replace all negative values in matrix C with 0.\n",
    "\n",
    "3.\tPrint the original matrix C and the modified matrix."
   ]
  },
  {
   "cell_type": "code",
   "execution_count": 1,
   "id": "13dfb9ba",
   "metadata": {},
   "outputs": [],
   "source": [
    "import numpy as np"
   ]
  },
  {
   "cell_type": "code",
   "execution_count": 2,
   "id": "dcb2c339",
   "metadata": {},
   "outputs": [],
   "source": [
    "marks = np.array([44,24,np.nan,59,32,96,188,52,62,58,52,120,np.nan,np.nan,3,56,81,59,122,92,np.nan,87,96,97,1,19,2,53, 44])\n"
   ]
  },
  {
   "cell_type": "markdown",
   "id": "4df778b4",
   "metadata": {},
   "source": [
    "### 1. Find the no of outliers and missing values?"
   ]
  },
  {
   "cell_type": "code",
   "execution_count": 3,
   "id": "9c516108",
   "metadata": {},
   "outputs": [
    {
     "data": {
      "text/plain": [
       "array([188., 120., 122.])"
      ]
     },
     "execution_count": 3,
     "metadata": {},
     "output_type": "execute_result"
    }
   ],
   "source": [
    "outliers = (marks[(marks > 100) | (marks < 0)])\n",
    "outliers"
   ]
  },
  {
   "cell_type": "code",
   "execution_count": 4,
   "id": "49f4656a",
   "metadata": {},
   "outputs": [
    {
     "data": {
      "text/plain": [
       "array([188., 120., 122.])"
      ]
     },
     "execution_count": 4,
     "metadata": {},
     "output_type": "execute_result"
    }
   ],
   "source": [
    "marks[marks>100]"
   ]
  },
  {
   "cell_type": "code",
   "execution_count": 5,
   "id": "0fb22ed8",
   "metadata": {},
   "outputs": [
    {
     "data": {
      "text/plain": [
       "3"
      ]
     },
     "execution_count": 5,
     "metadata": {},
     "output_type": "execute_result"
    }
   ],
   "source": [
    "len(marks[marks>100])"
   ]
  },
  {
   "cell_type": "code",
   "execution_count": 6,
   "id": "d3bdb6b3",
   "metadata": {},
   "outputs": [
    {
     "data": {
      "text/plain": [
       "array([False, False,  True, False, False, False, False, False, False,\n",
       "       False, False, False,  True,  True, False, False, False, False,\n",
       "       False, False,  True, False, False, False, False, False, False,\n",
       "       False, False])"
      ]
     },
     "execution_count": 6,
     "metadata": {},
     "output_type": "execute_result"
    }
   ],
   "source": [
    "np.isnan(marks)"
   ]
  },
  {
   "cell_type": "code",
   "execution_count": 7,
   "id": "4b552097",
   "metadata": {},
   "outputs": [
    {
     "data": {
      "text/plain": [
       "4"
      ]
     },
     "execution_count": 7,
     "metadata": {},
     "output_type": "execute_result"
    }
   ],
   "source": [
    "sum(np.isnan(marks))   # Missing vales "
   ]
  },
  {
   "cell_type": "markdown",
   "id": "4496ce1c",
   "metadata": {},
   "source": [
    "### 2. replace the outliers with 45 and missing value with 87."
   ]
  },
  {
   "cell_type": "code",
   "execution_count": 8,
   "id": "00228432",
   "metadata": {},
   "outputs": [
    {
     "data": {
      "text/plain": [
       "array([ 44.,  24.,  nan,  59.,  32.,  96., 188.,  52.,  62.,  58.,  52.,\n",
       "       120.,  nan,  nan,   3.,  56.,  81.,  59., 122.,  92.,  nan,  87.,\n",
       "        96.,  97.,   1.,  19.,   2.,  53.,  44.])"
      ]
     },
     "execution_count": 8,
     "metadata": {},
     "output_type": "execute_result"
    }
   ],
   "source": [
    "marks"
   ]
  },
  {
   "cell_type": "code",
   "execution_count": 9,
   "id": "a49eaa3a",
   "metadata": {},
   "outputs": [
    {
     "data": {
      "text/plain": [
       "array([ 44.,  24.,  87.,  59.,  32.,  96., 188.,  52.,  62.,  58.,  52.,\n",
       "       120.,  87.,  87.,   3.,  56.,  81.,  59., 122.,  92.,  87.,  87.,\n",
       "        96.,  97.,   1.,  19.,   2.,  53.,  44.], dtype=float32)"
      ]
     },
     "execution_count": 9,
     "metadata": {},
     "output_type": "execute_result"
    }
   ],
   "source": [
    "marks = np.where(np.isnan(marks),87,marks).astype('float32')#missing values replaced with 87\n",
    "marks"
   ]
  },
  {
   "cell_type": "code",
   "execution_count": 10,
   "id": "71856e95",
   "metadata": {},
   "outputs": [
    {
     "data": {
      "text/plain": [
       "array([False, False, False, False, False, False,  True, False, False,\n",
       "       False, False,  True, False, False, False, False, False, False,\n",
       "        True, False, False, False, False, False, False, False, False,\n",
       "       False, False])"
      ]
     },
     "execution_count": 10,
     "metadata": {},
     "output_type": "execute_result"
    }
   ],
   "source": [
    "cond = (marks > 100) | (marks < 0)\n",
    "cond"
   ]
  },
  {
   "cell_type": "code",
   "execution_count": 11,
   "id": "f2f862d3",
   "metadata": {},
   "outputs": [
    {
     "data": {
      "text/plain": [
       "3"
      ]
     },
     "execution_count": 11,
     "metadata": {},
     "output_type": "execute_result"
    }
   ],
   "source": [
    "np.sum(cond)"
   ]
  },
  {
   "cell_type": "code",
   "execution_count": 12,
   "id": "3fafefcb",
   "metadata": {},
   "outputs": [],
   "source": [
    "marks = np.where(cond,45,marks)"
   ]
  },
  {
   "cell_type": "code",
   "execution_count": 13,
   "id": "f3e362ae",
   "metadata": {},
   "outputs": [
    {
     "data": {
      "text/plain": [
       "array([44., 24., 87., 59., 32., 96., 45., 52., 62., 58., 52., 45., 87.,\n",
       "       87.,  3., 56., 81., 59., 45., 92., 87., 87., 96., 97.,  1., 19.,\n",
       "        2., 53., 44.], dtype=float32)"
      ]
     },
     "execution_count": 13,
     "metadata": {},
     "output_type": "execute_result"
    }
   ],
   "source": [
    "marks"
   ]
  },
  {
   "cell_type": "markdown",
   "id": "44cfda41",
   "metadata": {},
   "source": [
    "### 3. what is the average marks of students after 2nd step?"
   ]
  },
  {
   "cell_type": "code",
   "execution_count": 14,
   "id": "a8882b93",
   "metadata": {},
   "outputs": [
    {
     "data": {
      "text/plain": [
       "56.96552"
      ]
     },
     "execution_count": 14,
     "metadata": {},
     "output_type": "execute_result"
    }
   ],
   "source": [
    "average = np.mean(marks)\n",
    "average"
   ]
  },
  {
   "cell_type": "markdown",
   "id": "4bbb479a",
   "metadata": {},
   "source": [
    "### 4. How many students got less than 60 marks?"
   ]
  },
  {
   "cell_type": "code",
   "execution_count": 16,
   "id": "d8ef9908",
   "metadata": {},
   "outputs": [
    {
     "data": {
      "text/plain": [
       "18"
      ]
     },
     "execution_count": 16,
     "metadata": {},
     "output_type": "execute_result"
    }
   ],
   "source": [
    "len(marks[marks<60])"
   ]
  },
  {
   "cell_type": "markdown",
   "id": "ff4834ed",
   "metadata": {},
   "source": [
    "### 5. what is the maximum marks?"
   ]
  },
  {
   "cell_type": "code",
   "execution_count": 17,
   "id": "7cb794a8",
   "metadata": {},
   "outputs": [
    {
     "data": {
      "text/plain": [
       "97.0"
      ]
     },
     "execution_count": 17,
     "metadata": {},
     "output_type": "execute_result"
    }
   ],
   "source": [
    "np.max(marks)"
   ]
  },
  {
   "cell_type": "markdown",
   "id": "a32f9747",
   "metadata": {},
   "source": [
    "### 6. Convert the marks to float32."
   ]
  },
  {
   "cell_type": "code",
   "execution_count": 18,
   "id": "6bd50c53",
   "metadata": {},
   "outputs": [
    {
     "data": {
      "text/plain": [
       "array([44., 24., 87., 59., 32., 96., 45., 52., 62., 58., 52., 45., 87.,\n",
       "       87.,  3., 56., 81., 59., 45., 92., 87., 87., 96., 97.,  1., 19.,\n",
       "        2., 53., 44.])"
      ]
     },
     "execution_count": 18,
     "metadata": {},
     "output_type": "execute_result"
    }
   ],
   "source": [
    "np.array(marks,dtype = \"float64\")"
   ]
  },
  {
   "cell_type": "code",
   "execution_count": 19,
   "id": "08a4a968",
   "metadata": {},
   "outputs": [
    {
     "data": {
      "text/plain": [
       "dtype('float32')"
      ]
     },
     "execution_count": 19,
     "metadata": {},
     "output_type": "execute_result"
    }
   ],
   "source": [
    "marks.dtype"
   ]
  },
  {
   "cell_type": "markdown",
   "id": "c3303eb7",
   "metadata": {},
   "source": [
    "# Solving Linear Equations\n",
    "2x + 3y - z = 10\n",
    "\n",
    "x - y + 2z = 5\n",
    "\n",
    "3x + 2y + z = 12"
   ]
  },
  {
   "cell_type": "code",
   "execution_count": 20,
   "id": "c657ea13",
   "metadata": {},
   "outputs": [
    {
     "data": {
      "text/plain": [
       "array([[ 2,  3, -1],\n",
       "       [ 1, -1,  2],\n",
       "       [ 3,  2,  1]])"
      ]
     },
     "execution_count": 20,
     "metadata": {},
     "output_type": "execute_result"
    }
   ],
   "source": [
    "x = np.array([[2,3,-1],[1,-1,2],[3,2,1]])\n",
    "x"
   ]
  },
  {
   "cell_type": "code",
   "execution_count": 21,
   "id": "0c3d3e8d",
   "metadata": {},
   "outputs": [
    {
     "data": {
      "text/plain": [
       "array([10,  5, 12])"
      ]
     },
     "execution_count": 21,
     "metadata": {},
     "output_type": "execute_result"
    }
   ],
   "source": [
    "y = np.array([10,5,12])\n",
    "y"
   ]
  },
  {
   "cell_type": "code",
   "execution_count": 22,
   "id": "541807db",
   "metadata": {},
   "outputs": [
    {
     "data": {
      "text/plain": [
       "array([-7.36952666e+15,  7.36952666e+15,  7.36952666e+15])"
      ]
     },
     "execution_count": 22,
     "metadata": {},
     "output_type": "execute_result"
    }
   ],
   "source": [
    "np.linalg.solve(x,y)"
   ]
  },
  {
   "cell_type": "markdown",
   "id": "c5ac3857",
   "metadata": {},
   "source": [
    "2x + y - z + 3w = 8\n",
    "\n",
    "3x - 2y + 2z + 2w = 1\n",
    "\n",
    "x + 3y - 2z + w = 7\n",
    "\n",
    "4x - y + z - 2w = 3"
   ]
  },
  {
   "cell_type": "code",
   "execution_count": 23,
   "id": "750e14da",
   "metadata": {},
   "outputs": [
    {
     "data": {
      "text/plain": [
       "array([[ 2,  1, -1,  3],\n",
       "       [ 3, -2,  2,  2],\n",
       "       [ 1,  3, -2,  1],\n",
       "       [ 4, -1,  1, -2]])"
      ]
     },
     "execution_count": 23,
     "metadata": {},
     "output_type": "execute_result"
    }
   ],
   "source": [
    "s = np.array([[2,1,-1,3],[3,-2,2,2],[1,3,-2,1],[4,-1,1,-2]])\n",
    "s"
   ]
  },
  {
   "cell_type": "code",
   "execution_count": 25,
   "id": "d72bc235",
   "metadata": {},
   "outputs": [
    {
     "data": {
      "text/plain": [
       "array([8, 1, 7, 3])"
      ]
     },
     "execution_count": 25,
     "metadata": {},
     "output_type": "execute_result"
    }
   ],
   "source": [
    "a = np.array([8,1,7,3])\n",
    "a"
   ]
  },
  {
   "cell_type": "code",
   "execution_count": 26,
   "id": "25ef7a93",
   "metadata": {},
   "outputs": [
    {
     "data": {
      "text/plain": [
       "array([ 1.73170732, -0.75609756, -3.46341463,  0.6097561 ])"
      ]
     },
     "execution_count": 26,
     "metadata": {},
     "output_type": "execute_result"
    }
   ],
   "source": [
    "np.linalg.solve(s,a)"
   ]
  },
  {
   "cell_type": "markdown",
   "id": "6984ad70",
   "metadata": {},
   "source": [
    "4x + 2y - 3z = 10\n",
    "\n",
    "-2x + 3y + z = -3\n",
    "\n",
    "x - y + 2z = 4"
   ]
  },
  {
   "cell_type": "code",
   "execution_count": 27,
   "id": "aae9cbdb",
   "metadata": {},
   "outputs": [
    {
     "data": {
      "text/plain": [
       "array([[ 4,  2, -3],\n",
       "       [-2,  3,  1],\n",
       "       [ 1, -1,  2]])"
      ]
     },
     "execution_count": 27,
     "metadata": {},
     "output_type": "execute_result"
    }
   ],
   "source": [
    "v = np.array([[4,2,-3],[-2,3,1],[1,-1,2]])\n",
    "v"
   ]
  },
  {
   "cell_type": "code",
   "execution_count": 28,
   "id": "adbc7ea9",
   "metadata": {},
   "outputs": [
    {
     "data": {
      "text/plain": [
       "array([10, -3,  4])"
      ]
     },
     "execution_count": 28,
     "metadata": {},
     "output_type": "execute_result"
    }
   ],
   "source": [
    "t = np.array([10,-3,4])\n",
    "t"
   ]
  },
  {
   "cell_type": "code",
   "execution_count": 29,
   "id": "e33e4b1a",
   "metadata": {},
   "outputs": [
    {
     "data": {
      "text/plain": [
       "array([2.85365854, 0.6097561 , 0.87804878])"
      ]
     },
     "execution_count": 29,
     "metadata": {},
     "output_type": "execute_result"
    }
   ],
   "source": [
    "np.linalg.solve(v,t)"
   ]
  },
  {
   "cell_type": "markdown",
   "id": "debd9bb7",
   "metadata": {},
   "source": [
    "## Conditional Selection with np.where()\n",
    "1.Generate a random 1D array A of 10 integers between 1 and 100."
   ]
  },
  {
   "cell_type": "code",
   "execution_count": 30,
   "id": "5cb732fc",
   "metadata": {},
   "outputs": [
    {
     "data": {
      "text/plain": [
       "array([26, 20, 83, 52, 61, 13, 62, 44, 98, 73])"
      ]
     },
     "execution_count": 30,
     "metadata": {},
     "output_type": "execute_result"
    }
   ],
   "source": [
    "arr1 = np.random.randint(1,100,10)\n",
    "A = np.array(arr1)\n",
    "A"
   ]
  },
  {
   "cell_type": "markdown",
   "id": "d3c36573",
   "metadata": {},
   "source": [
    "### 2 Use np.where() to find the indices where the elements of A are greater than 50."
   ]
  },
  {
   "cell_type": "code",
   "execution_count": 31,
   "id": "c786daf6",
   "metadata": {},
   "outputs": [
    {
     "name": "stdout",
     "output_type": "stream",
     "text": [
      "[83 52 61 62 98 73]\n"
     ]
    },
    {
     "data": {
      "text/plain": [
       "(array([2, 3, 4, 6, 8, 9], dtype=int64),)"
      ]
     },
     "execution_count": 31,
     "metadata": {},
     "output_type": "execute_result"
    }
   ],
   "source": [
    "elmt = A>50\n",
    "print(A[elmt])\n",
    "np.where(elmt)"
   ]
  },
  {
   "cell_type": "markdown",
   "id": "e9027466",
   "metadata": {},
   "source": [
    "### 3.Create a new array B that contains elements from A where the condition is met."
   ]
  },
  {
   "cell_type": "code",
   "execution_count": 32,
   "id": "ef383e5d",
   "metadata": {},
   "outputs": [
    {
     "data": {
      "text/plain": [
       "array([83, 52, 61, 62, 98, 73])"
      ]
     },
     "execution_count": 32,
     "metadata": {},
     "output_type": "execute_result"
    }
   ],
   "source": [
    "B = np.array(A[A>50])\n",
    "B"
   ]
  },
  {
   "cell_type": "markdown",
   "id": "7446f875",
   "metadata": {},
   "source": [
    "### 4.Calculate the mean of array B and print it along with arrays A and B."
   ]
  },
  {
   "cell_type": "code",
   "execution_count": 33,
   "id": "3af57e65",
   "metadata": {},
   "outputs": [
    {
     "data": {
      "text/plain": [
       "53.2"
      ]
     },
     "execution_count": 33,
     "metadata": {},
     "output_type": "execute_result"
    }
   ],
   "source": [
    "np.mean(A)"
   ]
  },
  {
   "cell_type": "code",
   "execution_count": 34,
   "id": "407b57b0",
   "metadata": {},
   "outputs": [
    {
     "data": {
      "text/plain": [
       "71.5"
      ]
     },
     "execution_count": 34,
     "metadata": {},
     "output_type": "execute_result"
    }
   ],
   "source": [
    "np.mean(B)"
   ]
  },
  {
   "cell_type": "markdown",
   "id": "38623aea",
   "metadata": {},
   "source": [
    "## Replace Values with np.where()\n",
    "1.Create a 4x4 random integer matrix C with values between -10 and 10"
   ]
  },
  {
   "cell_type": "code",
   "execution_count": 35,
   "id": "787fb5cb",
   "metadata": {},
   "outputs": [
    {
     "data": {
      "text/plain": [
       "array([[  5,   9, -10,   3],\n",
       "       [ -6,  -4,  -8,   7],\n",
       "       [  5,  -8,  -7,  -4],\n",
       "       [ -4,  -4,   2,   1]])"
      ]
     },
     "execution_count": 35,
     "metadata": {},
     "output_type": "execute_result"
    }
   ],
   "source": [
    "c = np.random.randint(-10,10,16).reshape(4,4)\n",
    "c"
   ]
  },
  {
   "cell_type": "markdown",
   "id": "5196ef38",
   "metadata": {},
   "source": [
    "### 2.Use np.where() to replace all negative values in matrix C with 0"
   ]
  },
  {
   "cell_type": "code",
   "execution_count": 36,
   "id": "0cb4f860",
   "metadata": {},
   "outputs": [
    {
     "data": {
      "text/plain": [
       "array([[5, 9, 0, 3],\n",
       "       [0, 0, 0, 7],\n",
       "       [5, 0, 0, 0],\n",
       "       [0, 0, 2, 1]])"
      ]
     },
     "execution_count": 36,
     "metadata": {},
     "output_type": "execute_result"
    }
   ],
   "source": [
    "modified = np.where(c<0,0,c)\n",
    "modified"
   ]
  },
  {
   "cell_type": "markdown",
   "id": "25f861a3",
   "metadata": {},
   "source": [
    "### 3.Print the original matrix C and the modified matrix."
   ]
  },
  {
   "cell_type": "code",
   "execution_count": 37,
   "id": "228a5e7d",
   "metadata": {},
   "outputs": [
    {
     "data": {
      "text/plain": [
       "array([[  5,   9, -10,   3],\n",
       "       [ -6,  -4,  -8,   7],\n",
       "       [  5,  -8,  -7,  -4],\n",
       "       [ -4,  -4,   2,   1]])"
      ]
     },
     "execution_count": 37,
     "metadata": {},
     "output_type": "execute_result"
    }
   ],
   "source": [
    "c"
   ]
  },
  {
   "cell_type": "code",
   "execution_count": 38,
   "id": "5832f5e6",
   "metadata": {},
   "outputs": [
    {
     "data": {
      "text/plain": [
       "array([[5, 9, 0, 3],\n",
       "       [0, 0, 0, 7],\n",
       "       [5, 0, 0, 0],\n",
       "       [0, 0, 2, 1]])"
      ]
     },
     "execution_count": 38,
     "metadata": {},
     "output_type": "execute_result"
    }
   ],
   "source": [
    "modified"
   ]
  },
  {
   "cell_type": "code",
   "execution_count": null,
   "id": "3699c273",
   "metadata": {},
   "outputs": [],
   "source": []
  }
 ],
 "metadata": {
  "kernelspec": {
   "display_name": "Python 3 (ipykernel)",
   "language": "python",
   "name": "python3"
  },
  "language_info": {
   "codemirror_mode": {
    "name": "ipython",
    "version": 3
   },
   "file_extension": ".py",
   "mimetype": "text/x-python",
   "name": "python",
   "nbconvert_exporter": "python",
   "pygments_lexer": "ipython3",
   "version": "3.11.4"
  }
 },
 "nbformat": 4,
 "nbformat_minor": 5
}
