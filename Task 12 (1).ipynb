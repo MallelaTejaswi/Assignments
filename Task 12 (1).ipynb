{
 "cells": [
  {
   "cell_type": "markdown",
   "id": "8060b9a4",
   "metadata": {},
   "source": [
    "**while loops and their use in programming.**\n",
    "1. Write a Python program that uses a while loop to print the numbers from `A` to `P`.\n",
    "\n",
    "2. Modify the program to print only the even numbers from `1 to 20 except mutiple of 3` using a while loop.\n",
    "\n",
    "3. Create a program that prompts the user for an integer input and then uses a while loop to print the countdown from `that number to 1`.\n",
    "\n",
    "\n",
    "4. Write a Python program that uses a while loop to repeatedly ask the user to enter a number. If the user enters 0, exit the loop using the `break` statement. Otherwise, continue prompting for numbers.\n",
    "\n",
    "5. Create a program that uses a while loop to print the numbers from 1 to 20, but skip printing the numbers 5, 10, and 15 using the `continue` statement.\n",
    "\n",
    "6. Write a Python program that simulates a simple password entry system. Ask the user to enter a password, and use a while loop to repeatedly prompt for the password until the correct password \"abc123\" is entered. Once the correct password is entered, exit the loop.\n",
    "\n",
    "7. Calculate and print the sum of all the positive integers entered by the user.\n",
    "\n",
    "\n",
    "\n",
    "."
   ]
  },
  {
   "cell_type": "markdown",
   "id": "7350dbcf",
   "metadata": {},
   "source": [
    "**1. Write a Python program that uses a while loop to print the numbers from `A` to `P`.**"
   ]
  },
  {
   "cell_type": "code",
   "execution_count": 16,
   "id": "0b249b32",
   "metadata": {},
   "outputs": [],
   "source": [
    "a = 1"
   ]
  },
  {
   "cell_type": "code",
   "execution_count": 18,
   "id": "1e4674c5",
   "metadata": {},
   "outputs": [
    {
     "name": "stdout",
     "output_type": "stream",
     "text": [
      "A\n",
      "B\n",
      "C\n",
      "D\n",
      "E\n",
      "F\n",
      "G\n",
      "H\n",
      "I\n",
      "J\n",
      "K\n",
      "L\n",
      "M\n",
      "N\n",
      "O\n",
      "P\n"
     ]
    }
   ],
   "source": [
    "while a <= 16:\n",
    "    print(chr(64+a))\n",
    "    a = a + 1"
   ]
  },
  {
   "cell_type": "markdown",
   "id": "7fb6bc8f",
   "metadata": {},
   "source": [
    "**2. Modify the program to print only the even numbers from `1 to 20 except mutiple of 3` using a while loop.**"
   ]
  },
  {
   "cell_type": "code",
   "execution_count": 31,
   "id": "2610a775",
   "metadata": {},
   "outputs": [
    {
     "name": "stdout",
     "output_type": "stream",
     "text": [
      "2\n",
      "4\n",
      "8\n",
      "10\n",
      "14\n",
      "16\n",
      "20\n"
     ]
    }
   ],
   "source": [
    "a = 1\n",
    "while a<=20:\n",
    "    if (a%3!=0) and (a%2==0):\n",
    "        print(a)\n",
    "    a = a+1"
   ]
  },
  {
   "cell_type": "markdown",
   "id": "f29176db",
   "metadata": {},
   "source": [
    "**3. Create a program that prompts the user for an integer input and then uses a while loop to print the countdown from that number to 1.**"
   ]
  },
  {
   "cell_type": "code",
   "execution_count": 6,
   "id": "1ca04ec8",
   "metadata": {},
   "outputs": [
    {
     "name": "stdout",
     "output_type": "stream",
     "text": [
      "enter a number :: 9\n",
      "9\n",
      "8\n",
      "7\n",
      "6\n",
      "5\n",
      "4\n",
      "3\n",
      "2\n",
      "1\n"
     ]
    }
   ],
   "source": [
    "a = int(input(\"enter a number :: \"))\n",
    "\n",
    "while a:\n",
    "    print(a)\n",
    "    a = a - 1"
   ]
  },
  {
   "cell_type": "markdown",
   "id": "f1b8ebd8",
   "metadata": {},
   "source": [
    "**4. Write a Python program that uses a while loop to repeatedly ask the user to enter a number. If the user enters 0, exit the loop using the `break` statement. Otherwise, continue prompting for numbers.**"
   ]
  },
  {
   "cell_type": "code",
   "execution_count": 1,
   "id": "61c12735",
   "metadata": {},
   "outputs": [
    {
     "name": "stdout",
     "output_type": "stream",
     "text": [
      "Enter a number ::5\n",
      "Enter a number ::0\n"
     ]
    }
   ],
   "source": [
    "a = int(input(\"Enter a number ::\"))\n",
    "while a != 0:\n",
    "        a = int(input(\"Enter a number ::\"))\n",
    "        continue\n",
    "        if(a == 0):\n",
    "            break"
   ]
  },
  {
   "cell_type": "markdown",
   "id": "54e6792b",
   "metadata": {},
   "source": [
    "**5. Create a program that uses a while loop to print the numbers from 1 to 20, but skip printing the numbers 5, 10, and 15 using the `continue` statement.**"
   ]
  },
  {
   "cell_type": "code",
   "execution_count": 5,
   "id": "e64d6bfb",
   "metadata": {},
   "outputs": [
    {
     "name": "stdout",
     "output_type": "stream",
     "text": [
      "1\n",
      "2\n",
      "3\n",
      "4\n",
      "6\n",
      "7\n",
      "8\n",
      "9\n",
      "11\n",
      "12\n",
      "13\n",
      "14\n",
      "16\n",
      "17\n",
      "18\n",
      "19\n",
      "20\n"
     ]
    }
   ],
   "source": [
    "a = 0\n",
    "while a < 20:\n",
    "    a = a + 1\n",
    "    if (a==5) or (a==10) or (a==15):\n",
    "        continue\n",
    "    else:\n",
    "        print(a)"
   ]
  },
  {
   "cell_type": "markdown",
   "id": "68d0b637",
   "metadata": {},
   "source": [
    "**6. Write a Python program that simulates a simple password entry system. Ask the user to enter a password, and use a while loop to repeatedly prompt for the password until the correct password \"abc123\" is entered. Once the correct password is entered, exit the loop.**"
   ]
  },
  {
   "cell_type": "code",
   "execution_count": 4,
   "id": "93c0f795",
   "metadata": {},
   "outputs": [
    {
     "name": "stdout",
     "output_type": "stream",
     "text": [
      "Enter a password ::tej987\n",
      "Enter a password ::ghy\n",
      "Enter a password ::abc123\n"
     ]
    }
   ],
   "source": [
    "password = ('abc123')\n",
    "\n",
    "while password:\n",
    "    user = input(\"Enter a password ::\")\n",
    "    if (password == user):\n",
    "        break"
   ]
  },
  {
   "cell_type": "markdown",
   "id": "4976f273",
   "metadata": {},
   "source": [
    "**7. Calculate and print the sum of all the positive integers entered by the user**"
   ]
  },
  {
   "cell_type": "code",
   "execution_count": 6,
   "id": "d75934f1",
   "metadata": {},
   "outputs": [
    {
     "name": "stdout",
     "output_type": "stream",
     "text": [
      "enter the number :: 6\n",
      "enter the number :: 8\n",
      "14\n",
      "enter the number :: 10\n",
      "24\n",
      "enter the number :: 0\n",
      "24\n"
     ]
    }
   ],
   "source": [
    "num = int(input(\"enter the number :: \"))\n",
    "total = num\n",
    "while num :\n",
    "    if num > 0:\n",
    "        num = int(input(\"enter the number :: \"))\n",
    "        total = total + num\n",
    "        print(total)\n",
    "    else:\n",
    "        break\n"
   ]
  },
  {
   "cell_type": "code",
   "execution_count": null,
   "id": "289d27a4",
   "metadata": {},
   "outputs": [],
   "source": []
  }
 ],
 "metadata": {
  "kernelspec": {
   "display_name": "Python 3 (ipykernel)",
   "language": "python",
   "name": "python3"
  },
  "language_info": {
   "codemirror_mode": {
    "name": "ipython",
    "version": 3
   },
   "file_extension": ".py",
   "mimetype": "text/x-python",
   "name": "python",
   "nbconvert_exporter": "python",
   "pygments_lexer": "ipython3",
   "version": "3.11.4"
  }
 },
 "nbformat": 4,
 "nbformat_minor": 5
}
