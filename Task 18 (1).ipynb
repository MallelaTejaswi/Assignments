{
 "cells": [
  {
   "cell_type": "markdown",
   "id": "c9fb96f1",
   "metadata": {},
   "source": [
    "In this assignment, you will create a Python program to calculate the average grade of students in a function. However, the program should handle various exceptions that might occur during user input and grade calculation.\n",
    "**Requirements:**\n",
    "1. Your program should prompt the user to enter the total number of students.\n",
    "2. For each student, prompt the user to enter their name and three subject marks (out of 100).\n",
    "3. Handle the following exceptions\n",
    ":\n",
    "    a. ValueError: If the user enters a non-numeric value for the number of students or subject marks.\n",
    "    b. ZeroDivisionError: If any student's average marks cannot be calculated due to division by zero (e.g., no subject marks\n",
    "provided). c. NegativeValueError: If any student's marks are negative.\n",
    "4. Display appropriate error messages for each exception and prompt the user to try again.\n",
    "5. Use a try-except block for exception handling.\n",
    "6. Calculate the average marks for each student and display their names along with their average marks.\n",
    "7. Calculate and display the overall class average.\n",
    "8. Implement a loop so that the user can re-enter data if an exception occurs or continue calculating for another class.\n",
    "9. Include a graceful exit message when the user decides to stop.\n",
    "\n",
    "**Custom(User Defined) Exceptions:**\n",
    "Define two custom exception classes:\n",
    "1. `NegativeValueError: This exception should be raised when any of the subject marks are negative.\n",
    "2. `InvalidNumber Error: This exception should be raised when the user enters an invalid number for the total number of students (e.g., a negative number)."
   ]
  },
  {
   "cell_type": "code",
   "execution_count": 1,
   "id": "0bcb5291",
   "metadata": {},
   "outputs": [
    {
     "name": "stdout",
     "output_type": "stream",
     "text": [
      "Enter the total number of students present in the class :: 3\n",
      "Enter the name of student1 ::Indu\n",
      "Enter the Maths marks of student1 ::95\n",
      "Enter a Physics marks of student1 ::92\n",
      "Enter a Chemistry marks of student1 ::88\n",
      "91.66666666666667\n",
      "Enter the name student2 ::Bindu\n",
      "Enter a Maths2 marks of student2 ::90\n",
      "Enter the Physics2 marks of student2 ::83\n",
      "Enter the Chemistry2 marks of student2 ::86\n",
      "86.33333333333333\n",
      "Enter the name of student3 ::Hema\n",
      "Enter a Maths3 marks of student3 ::77\n",
      "Enter the Physics3 marks of student3 ::81\n",
      "Enter the Chemistry3 marks of student3 ::69\n",
      "75.66666666666667\n",
      "total class average :: 84.55555555555556\n",
      "Thank You\n"
     ]
    }
   ],
   "source": [
    "try:\n",
    "        def stud_avg(total_students):\n",
    "            \n",
    "            total_students = int(input(\"Enter the total number of students present in the class :: \"))\n",
    "            if total_students<=0:\n",
    "                raise InvalidNumberError(\"please enter valid number \")\n",
    "                \n",
    "            student1 = input(\"Enter the name of student1 ::\")\n",
    "            std1_maths = int(input('Enter the Maths marks of student1 ::'))\n",
    "            std1_physics = int(input('Enter a Physics marks of student1 ::'))\n",
    "            std1_chemistry = int(input('Enter a Chemistry marks of student1 ::'))\n",
    "    \n",
    "            student1_score = dict(maths = {std1_maths},physics = {std1_physics},chemistry = {std1_chemistry})\n",
    "    \n",
    "            student1_avg = ((std1_maths+std1_physics+std1_chemistry)/3)\n",
    "            print(student1_avg)\n",
    "    \n",
    "            student2 = input('Enter the name student2 ::')\n",
    "            std2_maths2 = int(input('Enter a Maths2 marks of student2 ::'))\n",
    "            std2_physics2 = int(input('Enter the Physics2 marks of student2 ::'))\n",
    "            std2_chemistry2 = int(input('Enter the Chemistry2 marks of student2 ::'))\n",
    "    \n",
    "            student2_score = dict(maths = {std2_maths2},physics = {std2_physics2},chemistry = {std2_chemistry2})\n",
    "    \n",
    "            student2_avg = ((std2_maths2+std2_physics2+std2_chemistry2)/3)\n",
    "            print(student2_avg)\n",
    "    \n",
    "            student3 = input('Enter the name of student3 ::')\n",
    "            std3_maths3 = int(input('Enter a Maths3 marks of student3 ::'))\n",
    "            std3_physics3 = int(input('Enter the Physics3 marks of student3 ::'))\n",
    "            std3_chemistry3 = int(input('Enter the Chemistry3 marks of student3 ::'))\n",
    "    \n",
    "            student3_score = dict(maths = {std3_maths3},physics = {std3_physics3},chemistry = {std3_chemistry3})\n",
    "    \n",
    "            student3_avg = ((std3_maths3+std3_physics3+std3_chemistry3)/3)\n",
    "            print(student3_avg)\n",
    " \n",
    "            total_average = ((student1_avg+student2_avg+student3_avg)/3)\n",
    "            print(f\"total class average :: {total_average}\")\n",
    "        stud_avg(3)\n",
    "except ValueError:\n",
    "    print('please enter the numerics')\n",
    "except ZeroDivisionError:\n",
    "    print('Enter the valid details')\n",
    "except NegativeValueError:\n",
    "    print('Enter only positive number')\n",
    "finally:\n",
    "    print('Thank You')\n",
    "    "
   ]
  },
  {
   "cell_type": "code",
   "execution_count": null,
   "id": "99872f2d",
   "metadata": {},
   "outputs": [],
   "source": []
  },
  {
   "cell_type": "code",
   "execution_count": null,
   "id": "d9932e8b",
   "metadata": {},
   "outputs": [],
   "source": []
  }
 ],
 "metadata": {
  "kernelspec": {
   "display_name": "Python 3 (ipykernel)",
   "language": "python",
   "name": "python3"
  },
  "language_info": {
   "codemirror_mode": {
    "name": "ipython",
    "version": 3
   },
   "file_extension": ".py",
   "mimetype": "text/x-python",
   "name": "python",
   "nbconvert_exporter": "python",
   "pygments_lexer": "ipython3",
   "version": "3.11.4"
  }
 },
 "nbformat": 4,
 "nbformat_minor": 5
}
