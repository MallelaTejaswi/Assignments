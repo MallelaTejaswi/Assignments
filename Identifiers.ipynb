{
 "cells": [
  {
   "cell_type": "markdown",
   "id": "5efd181d",
   "metadata": {},
   "source": [
    "# Check the valid Identifiers and invalid identifers using Python"
   ]
  },
  {
   "cell_type": "markdown",
   "id": "aebe5a40",
   "metadata": {},
   "source": [
    "1. **Run all the identifiers and seprate valid and Invalid Identifiers?**\n",
    "\n",
    "2. **Why Python treating them as invalid Identifers.Explain?**"
   ]
  },
  {
   "cell_type": "markdown",
   "id": "77c112d3",
   "metadata": {},
   "source": [
    "* my_variable = 25\n",
    " **Valid**\n",
    "\n",
    "* counter = 40.7\n",
    " **valid** \n",
    "\n",
    "* _total = \"Hello\"\n",
    " **valid**\n",
    "\n",
    " - 123abc   = 34      \n",
    "  **invalid** - it start with number\n",
    " - my variable   =6.7\n",
    "  **invalid** - because of space\n",
    " \n",
    " - @count  = \"hi\"      \n",
    " **invalid** - it starts with special character\n",
    " - for   = \"True\"\n",
    " **invalid** - it is an key word\n",
    " - Name123  =136\n",
    " **valid**\n",
    "* myFunction = True\n",
    " **valid**\n",
    "* _data = False\n",
    " **valid**\n",
    "- if_condition? = \"Innomatics\"\n",
    " **invalid** - because it start with keyword and special character\n",
    "- class = \"Hyderabad\"\n",
    " **invalid** - it starts with keyword"
   ]
  },
  {
   "cell_type": "markdown",
   "id": "35c32a6f",
   "metadata": {},
   "source": [
    "### Use different identifiers and assign the below values"
   ]
  },
  {
   "cell_type": "markdown",
   "id": "d606e5ac",
   "metadata": {},
   "source": [
    "10\n",
    "\n",
    "-5\n",
    "\n",
    "3.14159\n",
    "\n",
    "-0.12345\n",
    "\n",
    "1000\n",
    "\n",
    "\"Hello, World!\"\n",
    "\n",
    "\"Python\"\n",
    "\n",
    "\"I am learning\"\n",
    "\n",
    "\"Text type\"\n",
    "\n",
    "\"String\"\n",
    "\n",
    "True\n",
    "\n",
    "False\n",
    "\n",
    "True\n",
    "\n",
    "False\n",
    "\n",
    "True\n",
    "\n"
   ]
  },
  {
   "cell_type": "code",
   "execution_count": 88,
   "id": "73480046",
   "metadata": {},
   "outputs": [
    {
     "name": "stdout",
     "output_type": "stream",
     "text": [
      "10\n"
     ]
    }
   ],
   "source": [
    "num = (10)\n",
    "print(num)"
   ]
  },
  {
   "cell_type": "code",
   "execution_count": 30,
   "id": "bc176b3f",
   "metadata": {},
   "outputs": [
    {
     "data": {
      "text/plain": [
       "4"
      ]
     },
     "execution_count": 30,
     "metadata": {},
     "output_type": "execute_result"
    }
   ],
   "source": [
    "~ -5  #not"
   ]
  },
  {
   "cell_type": "code",
   "execution_count": 33,
   "id": "378c21fd",
   "metadata": {},
   "outputs": [
    {
     "name": "stdout",
     "output_type": "stream",
     "text": [
      "3.14159\n"
     ]
    }
   ],
   "source": [
    "a = 3.14159\n",
    "print(a)"
   ]
  },
  {
   "cell_type": "code",
   "execution_count": 37,
   "id": "ee243c9c",
   "metadata": {},
   "outputs": [
    {
     "name": "stdout",
     "output_type": "stream",
     "text": [
      "-0.12345\n"
     ]
    }
   ],
   "source": [
    "x = -0.12345\n",
    "print(x)"
   ]
  },
  {
   "cell_type": "code",
   "execution_count": 38,
   "id": "90a6dace",
   "metadata": {},
   "outputs": [
    {
     "name": "stdout",
     "output_type": "stream",
     "text": [
      "1000\n"
     ]
    }
   ],
   "source": [
    "b = 1000\n",
    "print(b)"
   ]
  },
  {
   "cell_type": "code",
   "execution_count": 42,
   "id": "dfb030c5",
   "metadata": {},
   "outputs": [
    {
     "data": {
      "text/plain": [
       "'Hello, World!'"
      ]
     },
     "execution_count": 42,
     "metadata": {},
     "output_type": "execute_result"
    }
   ],
   "source": [
    "a = \"Hello,\"\n",
    "b = \" World!\"\n",
    "a + b"
   ]
  },
  {
   "cell_type": "code",
   "execution_count": 89,
   "id": "459d5cd9",
   "metadata": {},
   "outputs": [
    {
     "name": "stdout",
     "output_type": "stream",
     "text": [
      "python\n"
     ]
    }
   ],
   "source": [
    "course = \"python\"\n",
    "print (course)"
   ]
  },
  {
   "cell_type": "code",
   "execution_count": 63,
   "id": "703ce49a",
   "metadata": {},
   "outputs": [
    {
     "name": "stdout",
     "output_type": "stream",
     "text": [
      "I am learning\n"
     ]
    }
   ],
   "source": [
    "python = \"I am learning\"\n",
    "print(python)"
   ]
  },
  {
   "cell_type": "code",
   "execution_count": 58,
   "id": "39859ce2",
   "metadata": {},
   "outputs": [
    {
     "name": "stdout",
     "output_type": "stream",
     "text": [
      "python\n"
     ]
    }
   ],
   "source": [
    "course = \"python\"\n",
    "print(course)"
   ]
  },
  {
   "cell_type": "code",
   "execution_count": 65,
   "id": "61c7de1b",
   "metadata": {},
   "outputs": [
    {
     "name": "stdout",
     "output_type": "stream",
     "text": [
      "String\n"
     ]
    }
   ],
   "source": [
    "a = \"String\"\n",
    "print(a)"
   ]
  },
  {
   "cell_type": "code",
   "execution_count": 66,
   "id": "c53831f1",
   "metadata": {},
   "outputs": [
    {
     "name": "stdout",
     "output_type": "stream",
     "text": [
      "True\n"
     ]
    }
   ],
   "source": [
    "bool = True\n",
    "print (bool)"
   ]
  },
  {
   "cell_type": "code",
   "execution_count": 82,
   "id": "eda1c22a",
   "metadata": {},
   "outputs": [
    {
     "name": "stdout",
     "output_type": "stream",
     "text": [
      "False\n"
     ]
    }
   ],
   "source": [
    "_Teju = False\n",
    "print(_Teju)"
   ]
  },
  {
   "cell_type": "code",
   "execution_count": 77,
   "id": "79a53243",
   "metadata": {},
   "outputs": [
    {
     "name": "stdout",
     "output_type": "stream",
     "text": [
      "True\n"
     ]
    }
   ],
   "source": [
    "c = True\n",
    "print(c)"
   ]
  },
  {
   "cell_type": "code",
   "execution_count": 87,
   "id": "240721dd",
   "metadata": {},
   "outputs": [
    {
     "data": {
      "text/plain": [
       "True"
      ]
     },
     "execution_count": 87,
     "metadata": {},
     "output_type": "execute_result"
    }
   ],
   "source": [
    "not false"
   ]
  },
  {
   "cell_type": "code",
   "execution_count": null,
   "id": "5832da9b",
   "metadata": {},
   "outputs": [],
   "source": []
  }
 ],
 "metadata": {
  "kernelspec": {
   "display_name": "Python 3 (ipykernel)",
   "language": "python",
   "name": "python3"
  },
  "language_info": {
   "codemirror_mode": {
    "name": "ipython",
    "version": 3
   },
   "file_extension": ".py",
   "mimetype": "text/x-python",
   "name": "python",
   "nbconvert_exporter": "python",
   "pygments_lexer": "ipython3",
   "version": "3.11.4"
  }
 },
 "nbformat": 4,
 "nbformat_minor": 5
}
