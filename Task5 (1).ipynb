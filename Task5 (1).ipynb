{
 "cells": [
  {
   "cell_type": "markdown",
   "id": "f9cca2f0",
   "metadata": {},
   "source": [
    "**Task1: Append and Modify Elements**\n",
    "    \n",
    "* Create an empty list called numbers. Append the numbers 1, 2, and 3 to the list.\n",
    "* Modify the element at index 1 to be 4.\n",
    "* Print the updated list.\n",
    "\n",
    "**Task2: Slicing and Concatenation**\n",
    "\n",
    "* Create a list called fruits with elements 'apple', 'banana', 'orange', 'mango', and 'kiwi'. \n",
    "* Create a new list  by slicing fruits to include only the citrus fruits ('orange' and 'mango\"). * Create a new list called tropical by slicing fruits to include only the tropical fruits ('banana\" and \"kiwi'). \n",
    "* Concatenate citrus and tropical lists to create a new list called combined. Print combined.\n",
    "\n",
    "**Task3: Counting and Removing Elements**\n",
    "\n",
    "* Create a list called colors with repeated elements 'red', 'blue', 'red', 'green', 'red'. Print the number of occurrences of 'red' in the list. Remove all occurrences of 'red' from the list. Print the updated list.\n",
    "\n",
    "**Task 4: List Manipulation**\n",
    "\n",
    "* Add 'cheese' to the end of the list. Remove 'milk' from the list.\n",
    "* Create a list called groceries with initial items: 'bread', 'milk', 'eggs', 'butter'. Print the final list of groceries.\n",
    "* Insert 'yogurt' at index 1.\n",
    "\n"
   ]
  },
  {
   "cell_type": "markdown",
   "id": "05e4dee9",
   "metadata": {},
   "source": [
    "# Task1: Append and Modify Elements"
   ]
  },
  {
   "cell_type": "markdown",
   "id": "f1db1450",
   "metadata": {},
   "source": [
    "**1.Create an empty list called numbers. Append the numbers 1, 2, and 3 to the list.**\n",
    "\n",
    "**2.Modify the element at index 1 to be 4.**\n",
    "\n",
    "**3.Print the updated list.**"
   ]
  },
  {
   "cell_type": "code",
   "execution_count": 9,
   "id": "d8ceec2f",
   "metadata": {},
   "outputs": [],
   "source": [
    "numbers = []"
   ]
  },
  {
   "cell_type": "code",
   "execution_count": 10,
   "id": "01047847",
   "metadata": {},
   "outputs": [],
   "source": [
    "numbers.append(1)"
   ]
  },
  {
   "cell_type": "code",
   "execution_count": 11,
   "id": "2dd3d22b",
   "metadata": {},
   "outputs": [],
   "source": [
    "numbers.append(2)"
   ]
  },
  {
   "cell_type": "code",
   "execution_count": 12,
   "id": "da6c3679",
   "metadata": {},
   "outputs": [],
   "source": [
    "numbers.append(3)"
   ]
  },
  {
   "cell_type": "code",
   "execution_count": 13,
   "id": "4b0381a6",
   "metadata": {},
   "outputs": [
    {
     "data": {
      "text/plain": [
       "[1, 2, 3]"
      ]
     },
     "execution_count": 13,
     "metadata": {},
     "output_type": "execute_result"
    }
   ],
   "source": [
    "numbers"
   ]
  },
  {
   "cell_type": "code",
   "execution_count": 14,
   "id": "bd5e3ca1",
   "metadata": {},
   "outputs": [],
   "source": [
    "numbers.insert(1,4)"
   ]
  },
  {
   "cell_type": "code",
   "execution_count": 15,
   "id": "2e1faf04",
   "metadata": {},
   "outputs": [
    {
     "data": {
      "text/plain": [
       "[1, 4, 2, 3]"
      ]
     },
     "execution_count": 15,
     "metadata": {},
     "output_type": "execute_result"
    }
   ],
   "source": [
    "numbers"
   ]
  },
  {
   "cell_type": "code",
   "execution_count": 16,
   "id": "997ae871",
   "metadata": {},
   "outputs": [
    {
     "name": "stdout",
     "output_type": "stream",
     "text": [
      "[1, 4, 2, 3]\n"
     ]
    }
   ],
   "source": [
    "print(numbers)"
   ]
  },
  {
   "cell_type": "markdown",
   "id": "8050dc93",
   "metadata": {},
   "source": [
    "# Task2: Slicing and Concatenation"
   ]
  },
  {
   "cell_type": "markdown",
   "id": "103d2365",
   "metadata": {},
   "source": [
    "**1.Create a list called fruits with elements 'apple', 'banana', 'orange', 'mango', and 'kiwi'.**"
   ]
  },
  {
   "cell_type": "code",
   "execution_count": 17,
   "id": "9328a68b",
   "metadata": {},
   "outputs": [],
   "source": [
    "fruits = ['apple', 'banana', 'orange', 'mango', \"kiwi\"]"
   ]
  },
  {
   "cell_type": "markdown",
   "id": "3de150ce",
   "metadata": {},
   "source": [
    "**2.Create a new list  by slicing fruits to include only the citrus fruits ('orange' and 'mango\"). * Create a new list called tropical by slicing fruits to include only the tropical fruits ('banana\" and \"kiwi').**"
   ]
  },
  {
   "cell_type": "code",
   "execution_count": 18,
   "id": "91db9823",
   "metadata": {},
   "outputs": [],
   "source": [
    "citrus_fruits = fruits[2:4:]"
   ]
  },
  {
   "cell_type": "code",
   "execution_count": 19,
   "id": "4b7ec97f",
   "metadata": {},
   "outputs": [
    {
     "data": {
      "text/plain": [
       "['orange', 'mango']"
      ]
     },
     "execution_count": 19,
     "metadata": {},
     "output_type": "execute_result"
    }
   ],
   "source": [
    "citrus_fruits"
   ]
  },
  {
   "cell_type": "code",
   "execution_count": 20,
   "id": "0062af13",
   "metadata": {},
   "outputs": [],
   "source": [
    "tropical_fruits = fruits[1::3]"
   ]
  },
  {
   "cell_type": "code",
   "execution_count": 21,
   "id": "266ea8c1",
   "metadata": {},
   "outputs": [
    {
     "data": {
      "text/plain": [
       "['banana', 'kiwi']"
      ]
     },
     "execution_count": 21,
     "metadata": {},
     "output_type": "execute_result"
    }
   ],
   "source": [
    "tropical_fruits"
   ]
  },
  {
   "cell_type": "markdown",
   "id": "d31506a7",
   "metadata": {},
   "source": [
    "**3.Concatenate citrus and tropical lists to create a new list called combined. Print combined.**"
   ]
  },
  {
   "cell_type": "code",
   "execution_count": 22,
   "id": "3ce26463",
   "metadata": {},
   "outputs": [],
   "source": [
    "combined = citrus_fruits + tropical_fruits"
   ]
  },
  {
   "cell_type": "code",
   "execution_count": 23,
   "id": "708447f1",
   "metadata": {},
   "outputs": [
    {
     "name": "stdout",
     "output_type": "stream",
     "text": [
      "['orange', 'mango', 'banana', 'kiwi']\n"
     ]
    }
   ],
   "source": [
    "print(combined)"
   ]
  },
  {
   "cell_type": "markdown",
   "id": "d45f83e3",
   "metadata": {},
   "source": [
    "# **Task3: Counting and Removing Elements**"
   ]
  },
  {
   "cell_type": "markdown",
   "id": "8ca67139",
   "metadata": {},
   "source": [
    "**1.Create a list called colors with repeated elements 'red', 'blue', 'red', 'green', 'red'. Print the number of occurrences of 'red' in the list. Remove all occurrences of 'red' from the list. Print the updated list.**"
   ]
  },
  {
   "cell_type": "code",
   "execution_count": 24,
   "id": "204ec225",
   "metadata": {},
   "outputs": [],
   "source": [
    "color = ['red', 'blue', 'red', 'green', 'red']"
   ]
  },
  {
   "cell_type": "code",
   "execution_count": 25,
   "id": "28142dff",
   "metadata": {},
   "outputs": [
    {
     "data": {
      "text/plain": [
       "3"
      ]
     },
     "execution_count": 25,
     "metadata": {},
     "output_type": "execute_result"
    }
   ],
   "source": [
    "color.count('red')"
   ]
  },
  {
   "cell_type": "code",
   "execution_count": 26,
   "id": "beba9586",
   "metadata": {},
   "outputs": [],
   "source": [
    "color.remove('red')"
   ]
  },
  {
   "cell_type": "code",
   "execution_count": 27,
   "id": "50bba6e4",
   "metadata": {},
   "outputs": [
    {
     "data": {
      "text/plain": [
       "['blue', 'red', 'green', 'red']"
      ]
     },
     "execution_count": 27,
     "metadata": {},
     "output_type": "execute_result"
    }
   ],
   "source": [
    "color"
   ]
  },
  {
   "cell_type": "code",
   "execution_count": 28,
   "id": "10b4051f",
   "metadata": {},
   "outputs": [],
   "source": [
    "color.remove('red')"
   ]
  },
  {
   "cell_type": "code",
   "execution_count": 30,
   "id": "0f2e9615",
   "metadata": {},
   "outputs": [],
   "source": [
    "color.remove('red')"
   ]
  },
  {
   "cell_type": "code",
   "execution_count": 31,
   "id": "14f55810",
   "metadata": {},
   "outputs": [
    {
     "data": {
      "text/plain": [
       "['blue', 'green']"
      ]
     },
     "execution_count": 31,
     "metadata": {},
     "output_type": "execute_result"
    }
   ],
   "source": [
    "color"
   ]
  },
  {
   "cell_type": "markdown",
   "id": "f693f264",
   "metadata": {},
   "source": [
    "# Task 4: List Manipulation"
   ]
  },
  {
   "cell_type": "markdown",
   "id": "ada2627b",
   "metadata": {},
   "source": [
    "**.Add 'cheese' to the end of the list. Remove 'milk' from the list.**\n",
    "\n",
    "**.Create a list called groceries with initial items: 'bread', 'milk', 'eggs', 'butter'. Print the final list of groceries.**\n",
    "\n",
    "**.Insert 'yogurt' at index 1.**"
   ]
  },
  {
   "cell_type": "code",
   "execution_count": 32,
   "id": "b4b00631",
   "metadata": {},
   "outputs": [],
   "source": [
    "groceries = ['bread', 'milk', 'eggs', 'butter']"
   ]
  },
  {
   "cell_type": "code",
   "execution_count": 33,
   "id": "04d61f91",
   "metadata": {},
   "outputs": [],
   "source": [
    "groceries.append('cheese')"
   ]
  },
  {
   "cell_type": "code",
   "execution_count": 34,
   "id": "c591c5fd",
   "metadata": {},
   "outputs": [
    {
     "data": {
      "text/plain": [
       "['bread', 'milk', 'eggs', 'butter', 'cheese']"
      ]
     },
     "execution_count": 34,
     "metadata": {},
     "output_type": "execute_result"
    }
   ],
   "source": [
    "groceries"
   ]
  },
  {
   "cell_type": "code",
   "execution_count": 35,
   "id": "76a17424",
   "metadata": {},
   "outputs": [],
   "source": [
    "groceries.remove('milk')"
   ]
  },
  {
   "cell_type": "code",
   "execution_count": 36,
   "id": "e1b4c56c",
   "metadata": {},
   "outputs": [
    {
     "data": {
      "text/plain": [
       "['bread', 'eggs', 'butter', 'cheese']"
      ]
     },
     "execution_count": 36,
     "metadata": {},
     "output_type": "execute_result"
    }
   ],
   "source": [
    "groceries"
   ]
  },
  {
   "cell_type": "code",
   "execution_count": 37,
   "id": "f8ddfdb5",
   "metadata": {},
   "outputs": [],
   "source": [
    "groceries.insert(1, 'yogurt')"
   ]
  },
  {
   "cell_type": "code",
   "execution_count": 38,
   "id": "f7f69cf3",
   "metadata": {},
   "outputs": [
    {
     "data": {
      "text/plain": [
       "['bread', 'yogurt', 'eggs', 'butter', 'cheese']"
      ]
     },
     "execution_count": 38,
     "metadata": {},
     "output_type": "execute_result"
    }
   ],
   "source": [
    "groceries"
   ]
  },
  {
   "cell_type": "code",
   "execution_count": null,
   "id": "a5058717",
   "metadata": {},
   "outputs": [],
   "source": []
  }
 ],
 "metadata": {
  "kernelspec": {
   "display_name": "Python 3 (ipykernel)",
   "language": "python",
   "name": "python3"
  },
  "language_info": {
   "codemirror_mode": {
    "name": "ipython",
    "version": 3
   },
   "file_extension": ".py",
   "mimetype": "text/x-python",
   "name": "python",
   "nbconvert_exporter": "python",
   "pygments_lexer": "ipython3",
   "version": "3.11.4"
  }
 },
 "nbformat": 4,
 "nbformat_minor": 5
}
