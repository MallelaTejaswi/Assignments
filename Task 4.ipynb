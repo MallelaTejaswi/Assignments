{
 "cells": [
  {
   "cell_type": "markdown",
   "id": "3d1e574e",
   "metadata": {},
   "source": [
    "1. Ask user to  enter a  website name and check whether it is valid or not(True/False)\n",
    "\n",
    "\n",
    "2. name = \"Innomatics\", course = \"Data Science\"\n",
    "   write python code in `different ways` to show output as :\n",
    "   `\"Hello World I am learning Data Science in Innomatics\"`\n",
    "   \n",
    "   \n",
    "3. Replace `Science` with `Analysis` in the above output.\n",
    "\n",
    "\n",
    "4. `string = '     Hello World I am learning Python in Innomatics   '`\n",
    "    a. How many characters are there in the string.\n",
    "    b. Slice only 'Python' from above string\n",
    "    c. Remove white spaces on both sides then find no.of characters in the string.\n",
    "    d. Convert the string in Upper case\n",
    "    \n",
    "    \n",
    "5. What is the index number of 'World' in above string.\n",
    "\n",
    "\n",
    "6. Split the string with respect to `whitespace`.after that `store` that splitted into a variable and find the `data type`of that variable.\n",
    "\n",
    "\n",
    "7. How many times 'a' is `repeated` in above string.\n",
    "\n",
    "8. "
   ]
  },
  {
   "cell_type": "markdown",
   "id": "5163a677",
   "metadata": {},
   "source": [
    "**1. Ask user to  enter a  website name and check whether it is valid or not(True/False)**"
   ]
  },
  {
   "cell_type": "code",
   "execution_count": 36,
   "id": "72b5e955",
   "metadata": {},
   "outputs": [
    {
     "name": "stdout",
     "output_type": "stream",
     "text": [
      "Enter a website : www.teju@gmail.com\n"
     ]
    },
    {
     "data": {
      "text/plain": [
       "True"
      ]
     },
     "execution_count": 36,
     "metadata": {},
     "output_type": "execute_result"
    }
   ],
   "source": [
    "website = input(\"Enter a website : \")\n",
    "website.startswith('www.')\n",
    "website.endswith('.com')"
   ]
  },
  {
   "cell_type": "markdown",
   "id": "1af775c6",
   "metadata": {},
   "source": [
    "**2. name = \"Innomatics\", course = \"Data Science\"\n",
    "   write python code in `different ways` to show output as :\n",
    "   `\"Hello World I am learning Data Science in Innomatics\"`**"
   ]
  },
  {
   "cell_type": "code",
   "execution_count": 19,
   "id": "4f1956ac",
   "metadata": {},
   "outputs": [],
   "source": [
    "name = \"Innomatics\"\n",
    "course = \"Data Science\""
   ]
  },
  {
   "cell_type": "code",
   "execution_count": 22,
   "id": "363d2f9d",
   "metadata": {},
   "outputs": [
    {
     "name": "stdout",
     "output_type": "stream",
     "text": [
      "Hello world I am learning Data Science in Innomatics\n"
     ]
    }
   ],
   "source": [
    "print(f'Hello world I am learning {course} in {name}')"
   ]
  },
  {
   "cell_type": "code",
   "execution_count": 23,
   "id": "dd5e7109",
   "metadata": {},
   "outputs": [
    {
     "name": "stdout",
     "output_type": "stream",
     "text": [
      "Hello world I am learning Data Science in Innomatics\n"
     ]
    }
   ],
   "source": [
    "print('Hello world I am learning {} in {}'.format(course,name))"
   ]
  },
  {
   "cell_type": "code",
   "execution_count": 31,
   "id": "a4eb929b",
   "metadata": {},
   "outputs": [
    {
     "name": "stdout",
     "output_type": "stream",
     "text": [
      "Hello world I am learning Data Science in Innomatics\n"
     ]
    }
   ],
   "source": [
    "print('Hello world I am learning '+course+' in ' +name+ '')"
   ]
  },
  {
   "cell_type": "code",
   "execution_count": 32,
   "id": "6ed87e6b",
   "metadata": {},
   "outputs": [
    {
     "name": "stdout",
     "output_type": "stream",
     "text": [
      "Hello world I am learning Innomatics in Data Science\n"
     ]
    }
   ],
   "source": [
    "print('Hello world I am learning',name,'in',course,)"
   ]
  },
  {
   "cell_type": "markdown",
   "id": "bf73c074",
   "metadata": {},
   "source": [
    "**3. Replace `Science` with `Analysis` in the above output.**"
   ]
  },
  {
   "cell_type": "code",
   "execution_count": 48,
   "id": "8891b8d8",
   "metadata": {
    "scrolled": true
   },
   "outputs": [
    {
     "data": {
      "text/plain": [
       "'Hello I am learning Data Analysis in innomatics'"
      ]
     },
     "execution_count": 48,
     "metadata": {},
     "output_type": "execute_result"
    }
   ],
   "source": [
    "name = \"Hello I am learning Data Science in innomatics\"\n",
    "name.replace('Science','Analysis')"
   ]
  },
  {
   "cell_type": "markdown",
   "id": "9c278ce9",
   "metadata": {},
   "source": [
    "**4. `string = '     Hello World I am learning Python in Innomatics   '`\n",
    "    a. How many characters are there in the string.\n",
    "    b. Slice only 'Python' from above string\n",
    "    c. Remove white spaces on both sides then find no.of characters in the string.\n",
    "    d. Convert the string in Upper case**"
   ]
  },
  {
   "cell_type": "code",
   "execution_count": 62,
   "id": "a57cdd2b",
   "metadata": {},
   "outputs": [
    {
     "data": {
      "text/plain": [
       "54"
      ]
     },
     "execution_count": 62,
     "metadata": {},
     "output_type": "execute_result"
    }
   ],
   "source": [
    "string = '     Hello World I am learning Python in Innomatics   '\n",
    "len(string)"
   ]
  },
  {
   "cell_type": "code",
   "execution_count": 66,
   "id": "ba75094b",
   "metadata": {},
   "outputs": [
    {
     "data": {
      "text/plain": [
       "'Python '"
      ]
     },
     "execution_count": 66,
     "metadata": {},
     "output_type": "execute_result"
    }
   ],
   "source": [
    "string[-23:-16:1]"
   ]
  },
  {
   "cell_type": "code",
   "execution_count": 69,
   "id": "58ee4206",
   "metadata": {},
   "outputs": [
    {
     "data": {
      "text/plain": [
       "'Hello World I am learning Python in Innomatics'"
      ]
     },
     "execution_count": 69,
     "metadata": {},
     "output_type": "execute_result"
    }
   ],
   "source": [
    "string.strip()"
   ]
  },
  {
   "cell_type": "code",
   "execution_count": 74,
   "id": "cb4dfcd7",
   "metadata": {},
   "outputs": [
    {
     "data": {
      "text/plain": [
       "46"
      ]
     },
     "execution_count": 74,
     "metadata": {},
     "output_type": "execute_result"
    }
   ],
   "source": [
    "name = 'Hello World I am learning Python in Innomatics'\n",
    "len(name)"
   ]
  },
  {
   "cell_type": "code",
   "execution_count": 79,
   "id": "a1051a55",
   "metadata": {},
   "outputs": [
    {
     "data": {
      "text/plain": [
       "'HELLO WORLD I AM LEARNING PYTHON IN INNOMATICS'"
      ]
     },
     "execution_count": 79,
     "metadata": {},
     "output_type": "execute_result"
    }
   ],
   "source": [
    "name = 'Hello World I am learning Python in Innomatics'\n",
    "name.upper()"
   ]
  },
  {
   "cell_type": "markdown",
   "id": "e3eee1f6",
   "metadata": {},
   "source": [
    "**5. What is the index number of 'World' in above string.**"
   ]
  },
  {
   "cell_type": "code",
   "execution_count": 92,
   "id": "ba33fcca",
   "metadata": {},
   "outputs": [
    {
     "data": {
      "text/plain": [
       "6"
      ]
     },
     "execution_count": 92,
     "metadata": {},
     "output_type": "execute_result"
    }
   ],
   "source": [
    "name = 'Hello World I am learning Python in Innomatics'\n",
    "name.index('World')"
   ]
  },
  {
   "cell_type": "markdown",
   "id": "7f8175f7",
   "metadata": {},
   "source": [
    "**6. Split the string with respect to `whitespace`.after that `store` that splitted into a variable and find the `data type`of that variable.**"
   ]
  },
  {
   "cell_type": "code",
   "execution_count": 117,
   "id": "7224aaa3",
   "metadata": {},
   "outputs": [],
   "source": [
    "string1 = '  Hello World I am learning Python in Innomatics   '"
   ]
  },
  {
   "cell_type": "code",
   "execution_count": 118,
   "id": "7ff82c3c",
   "metadata": {},
   "outputs": [
    {
     "data": {
      "text/plain": [
       "['Hello', 'World', 'I', 'am', 'learning', 'Python', 'in', 'Innomatics']"
      ]
     },
     "execution_count": 118,
     "metadata": {},
     "output_type": "execute_result"
    }
   ],
   "source": [
    "string1.split()"
   ]
  },
  {
   "cell_type": "code",
   "execution_count": 119,
   "id": "5c99961d",
   "metadata": {},
   "outputs": [
    {
     "data": {
      "text/plain": [
       "str"
      ]
     },
     "execution_count": 119,
     "metadata": {},
     "output_type": "execute_result"
    }
   ],
   "source": [
    "type(string1)"
   ]
  },
  {
   "cell_type": "markdown",
   "id": "3498b0f5",
   "metadata": {},
   "source": [
    "**7. How many times 'a' is `repeated` in above string.**"
   ]
  },
  {
   "cell_type": "code",
   "execution_count": 123,
   "id": "7d7255f4",
   "metadata": {},
   "outputs": [
    {
     "data": {
      "text/plain": [
       "3"
      ]
     },
     "execution_count": 123,
     "metadata": {},
     "output_type": "execute_result"
    }
   ],
   "source": [
    "string = 'Hello World I am learning Python in Innomatics'\n",
    "string.count('a')"
   ]
  },
  {
   "cell_type": "code",
   "execution_count": null,
   "id": "354e6a95",
   "metadata": {},
   "outputs": [],
   "source": []
  }
 ],
 "metadata": {
  "kernelspec": {
   "display_name": "Python 3 (ipykernel)",
   "language": "python",
   "name": "python3"
  },
  "language_info": {
   "codemirror_mode": {
    "name": "ipython",
    "version": 3
   },
   "file_extension": ".py",
   "mimetype": "text/x-python",
   "name": "python",
   "nbconvert_exporter": "python",
   "pygments_lexer": "ipython3",
   "version": "3.11.4"
  }
 },
 "nbformat": 4,
 "nbformat_minor": 5
}
