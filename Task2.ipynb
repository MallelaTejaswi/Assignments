{
 "cells": [
  {
   "cell_type": "markdown",
   "id": "b8536ea7",
   "metadata": {},
   "source": [
    "* Write a program that calculates the `sum, difference, product, and quotient` of two numbers: 10 and 5.\n",
    "\n",
    "* Create a program that calculates the `area of a circle` with a radius of 4.5 units."
   ]
  },
  {
   "cell_type": "markdown",
   "id": "3f81b9d8",
   "metadata": {},
   "source": [
    "*  Write a program that `swaps` the values of two variables: x with a value of 5 and \"y\" with a value of 10.\n",
    "* Create a program that calculates `compound interest` for a principal amount of $1000, an interest rate of 5%, and a time period of 3 years."
   ]
  },
  {
   "cell_type": "markdown",
   "id": "768483d0",
   "metadata": {},
   "source": [
    "* Write a program that `compares` two numbers: 7 and 12, and determines whether the first number is greater than, less than, or equal to the second number.\n",
    "* Create a program that `checks` if a person of age 18 is eligible to vote based on the voting age requirement.(True/False)"
   ]
  },
  {
   "cell_type": "markdown",
   "id": "7881a204",
   "metadata": {},
   "source": [
    "* Create a program that `swaps` the values of two integers: `a` with a value of 10 and `b` with a value of 20 using\n",
    " *  bitwise XOR (^) operator.\n",
    " * Logical AND\n",
    " * Logical OR\n",
    " * Logical NOT"
   ]
  },
  {
   "cell_type": "markdown",
   "id": "1844e65c",
   "metadata": {},
   "source": [
    "*  Create a Python program that calculates the `area of a rectangle`. Prompt the `user to enter` the length and width of the rectangle, `store them` in variables, and compute the area using the formula:area length width.Finally, `print the calculated area.\n",
    "\n",
    "* Create a Python program that calculates the `average` of three exam scores. Prompt the user to enter the scores, `store them` in variables, calculate the average, and print the result.\n",
    "\n",
    "* Write a Python program that `converts` temperature from Celsius to Fahrenheit. Prompt the user to enter a temperature in Celsius, store it in a variable, and convert it to Fahrenheit using the formula: `Fahrenheit = (Celsius* 9/5)+32`, and print the converted temperature.\n",
    "\n",
    "* What are the `logical operators` in Python? Explain `each one` with an example.\n",
    "\n",
    "* What are the `membership` operators in Python? Explain their usage with examples\n",
    "\n",
    "* List and briefly explain the `basic data types` available in Python.\n",
    "\n",
    "* Write a Python code snippet that `assigns a value to a variable `and determines its `data type` using the type() function."
   ]
  },
  {
   "cell_type": "markdown",
   "id": "95ed62b5",
   "metadata": {},
   "source": [
    "Assignment: Basic Python Operators\n",
    "\n",
    "**Task 1: Arithmetic Operators**\n",
    "1. Write a Python program that takes two user-input numbers and displays their sum using the addition operator.\n",
    "2. Create a program to calculate the area of a rectangle. Prompt the user for the length and width, then use multiplication to find the area.\n",
    "3. Implement a program that converts temperature from Celsius to Fahrenheit using the formula: Fahrenheit = (Celsius * 9/5) + 32.\n",
    "\n",
    "**Task 2: Comparison Operators**\n",
    "1. Write a program that compares two user-input numbers and prints whether the first number is greater than the second number or not.\n",
    "2. Create a program that determines whether a user-input year is a leap year or not. A leap year is divisible by 4 and not divisible by 100, unless it is also divisible by 400.\n",
    "3. Implement a simple guessing game. Generate a random number between 1 and 100 and have the user guess the number. Provide feedback if their guess is too high or too low, and let them know when they've guessed correctly.\n",
    "\n",
    "**Task 3: Logical Operators**\n",
    "1. Write a program that checks whether a user-input number is positive and even using logical AND (`and`) operator.\n",
    "2. Create a login system where you define a correct username and password. Ask the user for their input and compare it with the correct credentials using logical OR (`or`) operator. Provide access if either the username or password is correct.\n",
    "3. Implement a program that determines whether a given year is a leap year and divisible by 7 using logical NOT (`not`) operator.\n",
    "\n",
    "**Task 4: Assignment Operators**\n",
    "1. Write a program to calculate the square of a number using the exponentiation operator (`**`) and assign it back to the same variable.\n",
    "2. Create a program that keeps track of the total score in a game. Prompt the user for their latest score and update the total score using the addition assignment operator (`+=`).\n",
    "3. Implement a program to convert seconds into hours, minutes, and remaining seconds using both division and modulo operators, and then assign each value using assignment operators.\n",
    "\n",
    "**Task 5: Bitwise Operators**\n",
    "1. Write a program that performs a bitwise AND operation between two user-input numbers and displays the result.\n",
    "2. Create a program to toggle the nth bit of a given number. Ask the user for the number and the value of n, then use bitwise XOR (^) operator to toggle the bit.\n",
    "3. Implement a program to swap the values of two variables without using a temporary variable, only using bitwise XOR (^) operator.\n",
    "\n"
   ]
  },
  {
   "cell_type": "code",
   "execution_count": 3,
   "id": "04ee446a",
   "metadata": {},
   "outputs": [
    {
     "name": "stdout",
     "output_type": "stream",
     "text": [
      "15\n"
     ]
    }
   ],
   "source": [
    "a = 10\n",
    "b = 5              # Sum\n",
    "print (a+b)"
   ]
  },
  {
   "cell_type": "code",
   "execution_count": 10,
   "id": "b38383f7",
   "metadata": {},
   "outputs": [
    {
     "name": "stdout",
     "output_type": "stream",
     "text": [
      "5\n"
     ]
    }
   ],
   "source": [
    "a = 10\n",
    "b = 5              #difference\n",
    "print(a-b)"
   ]
  },
  {
   "cell_type": "code",
   "execution_count": null,
   "id": "59e778cb",
   "metadata": {},
   "outputs": [],
   "source": [
    "a = 10\n",
    "b = 5           #product\n",
    "print(a*b)"
   ]
  },
  {
   "cell_type": "code",
   "execution_count": 7,
   "id": "c5b89e2e",
   "metadata": {
    "scrolled": true
   },
   "outputs": [
    {
     "name": "stdout",
     "output_type": "stream",
     "text": [
      "2\n"
     ]
    }
   ],
   "source": [
    "a = 10\n",
    "b = 5                 # Quotient\n",
    "print(a//b)"
   ]
  },
  {
   "cell_type": "markdown",
   "id": "44dca7bc",
   "metadata": {},
   "source": [
    "# Area of circle, r=4.5"
   ]
  },
  {
   "cell_type": "code",
   "execution_count": 45,
   "id": "0d1b52f1",
   "metadata": {},
   "outputs": [
    {
     "name": "stdout",
     "output_type": "stream",
     "text": [
      "63.615375\n"
     ]
    }
   ],
   "source": [
    "radius = 4.5\n",
    "area = 3.1415*radius**2\n",
    "print(area)"
   ]
  },
  {
   "cell_type": "markdown",
   "id": "09a6f7e8",
   "metadata": {},
   "source": [
    "# Swaping of variables"
   ]
  },
  {
   "cell_type": "code",
   "execution_count": 43,
   "id": "cf42427e",
   "metadata": {
    "scrolled": true
   },
   "outputs": [
    {
     "name": "stdout",
     "output_type": "stream",
     "text": [
      "value of x: 10\n",
      "value of y: 5\n"
     ]
    }
   ],
   "source": [
    "x = 5\n",
    "y = 10\n",
    "temp = x   #we have to create a temp value for swappinf the variables\n",
    "x = y\n",
    "y = x\n",
    "print(\"value of x: 10\")\n",
    "print(\"value of y: 5\")"
   ]
  },
  {
   "cell_type": "markdown",
   "id": "d50ce9ee",
   "metadata": {},
   "source": [
    "# Compound interest"
   ]
  },
  {
   "cell_type": "code",
   "execution_count": 36,
   "id": "cc5bd6ce",
   "metadata": {},
   "outputs": [
    {
     "name": "stdout",
     "output_type": "stream",
     "text": [
      "compound_interest: 157.62500000000023\n"
     ]
    }
   ],
   "source": [
    "principal = 1000                # \n",
    "rate = 0.05\n",
    "time = 3\n",
    "compound_interest = principal * (1 + rate)**time - principal\n",
    "print(\"compound_interest:\",compound_interest)"
   ]
  },
  {
   "cell_type": "markdown",
   "id": "56d0cdae",
   "metadata": {},
   "source": [
    "# Write a program that `compares` two numbers: 7 and 12, and determines whether the first number is greater than, less than, or equal to the second number."
   ]
  },
  {
   "cell_type": "code",
   "execution_count": 33,
   "id": "513c4640",
   "metadata": {},
   "outputs": [
    {
     "data": {
      "text/plain": [
       "True"
      ]
     },
     "execution_count": 33,
     "metadata": {},
     "output_type": "execute_result"
    }
   ],
   "source": [
    "a = 17\n",
    "b = 12\n",
    "a > b  #greater than"
   ]
  },
  {
   "cell_type": "code",
   "execution_count": 34,
   "id": "d0af4a13",
   "metadata": {},
   "outputs": [
    {
     "data": {
      "text/plain": [
       "False"
      ]
     },
     "execution_count": 34,
     "metadata": {},
     "output_type": "execute_result"
    }
   ],
   "source": [
    "a < b   # less than"
   ]
  },
  {
   "cell_type": "code",
   "execution_count": 36,
   "id": "57f3909e",
   "metadata": {},
   "outputs": [
    {
     "data": {
      "text/plain": [
       "True"
      ]
     },
     "execution_count": 36,
     "metadata": {},
     "output_type": "execute_result"
    }
   ],
   "source": [
    "a == b  #equal "
   ]
  },
  {
   "cell_type": "markdown",
   "id": "5ffa8751",
   "metadata": {},
   "source": [
    "# eligible to vote based on the  voting age"
   ]
  },
  {
   "cell_type": "code",
   "execution_count": 22,
   "id": "f6435bd2",
   "metadata": {},
   "outputs": [
    {
     "name": "stdout",
     "output_type": "stream",
     "text": [
      "enter age of a person : 18\n",
      "true\n"
     ]
    }
   ],
   "source": [
    "age = int(input(\"enter age of a person : \"))\n",
    "if age>=18:\n",
    "   print(\"true\")\n",
    "else:\n",
    "    print(\"false\")"
   ]
  },
  {
   "cell_type": "markdown",
   "id": "0e536bb5",
   "metadata": {},
   "source": [
    "# Swaps the values of two integer"
   ]
  },
  {
   "cell_type": "code",
   "execution_count": null,
   "id": "d8fda4db",
   "metadata": {},
   "outputs": [],
   "source": [
    "a = 10 \n",
    "b = 20\n",
    "a = a^b\n",
    "b = a^b\n",
    "a = a^b\n",
    "print(a)\n",
    "print(b)             #Bitwise xor"
   ]
  },
  {
   "cell_type": "code",
   "execution_count": 3,
   "id": "8e2c9859",
   "metadata": {},
   "outputs": [
    {
     "data": {
      "text/plain": [
       "False"
      ]
     },
     "execution_count": 3,
     "metadata": {},
     "output_type": "execute_result"
    }
   ],
   "source": [
    "a = 10        #logical and\n",
    "b = 20\n",
    "(a <= b) and (b == a)"
   ]
  },
  {
   "cell_type": "code",
   "execution_count": 33,
   "id": "99b5108e",
   "metadata": {},
   "outputs": [
    {
     "data": {
      "text/plain": [
       "20"
      ]
     },
     "execution_count": 33,
     "metadata": {},
     "output_type": "execute_result"
    }
   ],
   "source": [
    "a and b"
   ]
  },
  {
   "cell_type": "code",
   "execution_count": 34,
   "id": "3fd670ca",
   "metadata": {},
   "outputs": [
    {
     "data": {
      "text/plain": [
       "True"
      ]
     },
     "execution_count": 34,
     "metadata": {},
     "output_type": "execute_result"
    }
   ],
   "source": [
    "(a==b) or (b>=a)   #logical or"
   ]
  },
  {
   "cell_type": "code",
   "execution_count": 35,
   "id": "2144ce72",
   "metadata": {},
   "outputs": [
    {
     "data": {
      "text/plain": [
       "10"
      ]
     },
     "execution_count": 35,
     "metadata": {},
     "output_type": "execute_result"
    }
   ],
   "source": [
    "a or b"
   ]
  },
  {
   "cell_type": "code",
   "execution_count": 23,
   "id": "7d446d29",
   "metadata": {},
   "outputs": [
    {
     "data": {
      "text/plain": [
       "False"
      ]
     },
     "execution_count": 23,
     "metadata": {},
     "output_type": "execute_result"
    }
   ],
   "source": [
    "not (a!=b)   #logical not"
   ]
  },
  {
   "cell_type": "markdown",
   "id": "d5a2da89",
   "metadata": {},
   "source": [
    "# Area of Rectangle"
   ]
  },
  {
   "cell_type": "code",
   "execution_count": 68,
   "id": "fc96a887",
   "metadata": {},
   "outputs": [
    {
     "name": "stdout",
     "output_type": "stream",
     "text": [
      "area = 20\n"
     ]
    }
   ],
   "source": [
    "length = 5\n",
    "width = 4\n",
    "print(\"area =\",length * width)"
   ]
  },
  {
   "cell_type": "markdown",
   "id": "c8d40eb3",
   "metadata": {},
   "source": [
    "# Average of three exam scores"
   ]
  },
  {
   "cell_type": "code",
   "execution_count": 5,
   "id": "f2c2c70c",
   "metadata": {},
   "outputs": [
    {
     "name": "stdout",
     "output_type": "stream",
     "text": [
      "101.66666666666667\n"
     ]
    }
   ],
   "source": [
    "x = 40\n",
    "y = 45\n",
    "z = 50\n",
    "print(x+y+z/3)"
   ]
  },
  {
   "cell_type": "markdown",
   "id": "e48e2dc8",
   "metadata": {},
   "source": [
    "# Converts temperature from celsius to Fahrenheit"
   ]
  },
  {
   "cell_type": "code",
   "execution_count": 23,
   "id": "4a1edf38",
   "metadata": {},
   "outputs": [
    {
     "name": "stdout",
     "output_type": "stream",
     "text": [
      "enter the temperature40\n"
     ]
    }
   ],
   "source": [
    "celsius = input(\"enter the temperature\")"
   ]
  },
  {
   "cell_type": "code",
   "execution_count": 27,
   "id": "0c10765b",
   "metadata": {},
   "outputs": [],
   "source": [
    "fahrenhit = (40*9/5)+32"
   ]
  },
  {
   "cell_type": "code",
   "execution_count": 30,
   "id": "dc8acd40",
   "metadata": {},
   "outputs": [
    {
     "name": "stdout",
     "output_type": "stream",
     "text": [
      "temperature in fahrenhit: 104.0\n"
     ]
    }
   ],
   "source": [
    "print(\"temperature in fahrenhit:\", fahrenhit)"
   ]
  },
  {
   "cell_type": "markdown",
   "id": "673f870d",
   "metadata": {},
   "source": [
    "# "
   ]
  },
  {
   "cell_type": "markdown",
   "id": "156592dd",
   "metadata": {},
   "source": [
    "# logical operators"
   ]
  },
  {
   "cell_type": "markdown",
   "id": "aa74dc4a",
   "metadata": {},
   "source": [
    "**logical and**"
   ]
  },
  {
   "cell_type": "code",
   "execution_count": 46,
   "id": "5e4c089b",
   "metadata": {},
   "outputs": [
    {
     "data": {
      "text/plain": [
       "False"
      ]
     },
     "execution_count": 46,
     "metadata": {},
     "output_type": "execute_result"
    }
   ],
   "source": [
    "a = 10\n",
    "b = 20\n",
    "(a <= b) and (a >= b)"
   ]
  },
  {
   "cell_type": "markdown",
   "id": "fb91a04c",
   "metadata": {},
   "source": [
    "note : if any condition is false the total condition is false"
   ]
  },
  {
   "cell_type": "markdown",
   "id": "89599397",
   "metadata": {},
   "source": [
    "**logical not**"
   ]
  },
  {
   "cell_type": "code",
   "execution_count": 49,
   "id": "989bf6ec",
   "metadata": {},
   "outputs": [
    {
     "data": {
      "text/plain": [
       "True"
      ]
     },
     "execution_count": 49,
     "metadata": {},
     "output_type": "execute_result"
    }
   ],
   "source": [
    "a = 5\n",
    "b = 10\n",
    "not (a == b)"
   ]
  },
  {
   "cell_type": "markdown",
   "id": "e06bf8dd",
   "metadata": {},
   "source": [
    "**logical or**"
   ]
  },
  {
   "cell_type": "code",
   "execution_count": 50,
   "id": "ac33f118",
   "metadata": {},
   "outputs": [
    {
     "data": {
      "text/plain": [
       "True"
      ]
     },
     "execution_count": 50,
     "metadata": {},
     "output_type": "execute_result"
    }
   ],
   "source": [
    "a = 6\n",
    "b = 13\n",
    "(a == b) or (b >= a)"
   ]
  },
  {
   "cell_type": "markdown",
   "id": "f9a77f88",
   "metadata": {},
   "source": [
    "note : if any condition is true the complete condition is true"
   ]
  },
  {
   "cell_type": "markdown",
   "id": "83de3671",
   "metadata": {},
   "source": [
    "# membership operators"
   ]
  },
  {
   "cell_type": "code",
   "execution_count": 60,
   "id": "17eeb9f3",
   "metadata": {},
   "outputs": [],
   "source": [
    "a = \"Tejaswi\""
   ]
  },
  {
   "cell_type": "code",
   "execution_count": 61,
   "id": "2203d283",
   "metadata": {},
   "outputs": [
    {
     "data": {
      "text/plain": [
       "True"
      ]
     },
     "execution_count": 61,
     "metadata": {},
     "output_type": "execute_result"
    }
   ],
   "source": [
    "'Tej' in a"
   ]
  },
  {
   "cell_type": "code",
   "execution_count": 62,
   "id": "3221b5fd",
   "metadata": {},
   "outputs": [
    {
     "data": {
      "text/plain": [
       "False"
      ]
     },
     "execution_count": 62,
     "metadata": {},
     "output_type": "execute_result"
    }
   ],
   "source": [
    "'Tejaswi' not in a"
   ]
  },
  {
   "cell_type": "markdown",
   "id": "411d565b",
   "metadata": {},
   "source": [
    "# Basic data types"
   ]
  },
  {
   "cell_type": "markdown",
   "id": "dd5b90d5",
   "metadata": {},
   "source": [
    "**integer** - It represents positive,negative,whole number"
   ]
  },
  {
   "cell_type": "markdown",
   "id": "418d9f5a",
   "metadata": {},
   "source": [
    "**Float** - It represents with decimal point"
   ]
  },
  {
   "cell_type": "markdown",
   "id": "d32b45fd",
   "metadata": {},
   "source": [
    "**string** - It represents sequence of characters like *Test*"
   ]
  },
  {
   "cell_type": "markdown",
   "id": "22fc947c",
   "metadata": {},
   "source": [
    "**Boolean** - it is used for logical operations *True or False*"
   ]
  },
  {
   "cell_type": "code",
   "execution_count": 20,
   "id": "5c0c6aab",
   "metadata": {},
   "outputs": [
    {
     "data": {
      "text/plain": [
       "int"
      ]
     },
     "execution_count": 20,
     "metadata": {},
     "output_type": "execute_result"
    }
   ],
   "source": [
    "a = 100\n",
    "type(a)"
   ]
  },
  {
   "cell_type": "code",
   "execution_count": 10,
   "id": "8a91c6ee",
   "metadata": {},
   "outputs": [
    {
     "data": {
      "text/plain": [
       "float"
      ]
     },
     "execution_count": 10,
     "metadata": {},
     "output_type": "execute_result"
    }
   ],
   "source": [
    "b = 4.5\n",
    "type (b)"
   ]
  },
  {
   "cell_type": "code",
   "execution_count": 15,
   "id": "593f7421",
   "metadata": {},
   "outputs": [
    {
     "data": {
      "text/plain": [
       "str"
      ]
     },
     "execution_count": 15,
     "metadata": {},
     "output_type": "execute_result"
    }
   ],
   "source": [
    "C = \"Teju\"\n",
    "type(c)"
   ]
  },
  {
   "cell_type": "code",
   "execution_count": 16,
   "id": "384c0802",
   "metadata": {},
   "outputs": [
    {
     "data": {
      "text/plain": [
       "bool"
      ]
     },
     "execution_count": 16,
     "metadata": {},
     "output_type": "execute_result"
    }
   ],
   "source": [
    "d = True\n",
    "type(d)"
   ]
  },
  {
   "cell_type": "markdown",
   "id": "67b48431",
   "metadata": {},
   "source": [
    "# Task 1 : **Arthematic Operators**"
   ]
  },
  {
   "cell_type": "code",
   "execution_count": 9,
   "id": "cf4dadfb",
   "metadata": {},
   "outputs": [
    {
     "name": "stdout",
     "output_type": "stream",
     "text": [
      "enter any number: 8\n",
      "enter any number: 6\n",
      "Sum =  14\n"
     ]
    }
   ],
   "source": [
    "a = int(input(\"enter any number: \"))\n",
    "b = int(input(\"enter any number: \"))\n",
    "sum = a+b\n",
    "print(\"Sum = \",sum)"
   ]
  },
  {
   "cell_type": "code",
   "execution_count": null,
   "id": "d50c5360",
   "metadata": {},
   "outputs": [],
   "source": []
  },
  {
   "cell_type": "code",
   "execution_count": null,
   "id": "656388bb",
   "metadata": {},
   "outputs": [],
   "source": []
  }
 ],
 "metadata": {
  "kernelspec": {
   "display_name": "Python 3 (ipykernel)",
   "language": "python",
   "name": "python3"
  },
  "language_info": {
   "codemirror_mode": {
    "name": "ipython",
    "version": 3
   },
   "file_extension": ".py",
   "mimetype": "text/x-python",
   "name": "python",
   "nbconvert_exporter": "python",
   "pygments_lexer": "ipython3",
   "version": "3.11.4"
  }
 },
 "nbformat": 4,
 "nbformat_minor": 5
}
