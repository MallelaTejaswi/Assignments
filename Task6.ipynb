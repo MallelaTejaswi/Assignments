{
 "cells": [
  {
   "cell_type": "markdown",
   "id": "99db8edc",
   "metadata": {},
   "source": [
    "\n",
    "\n",
    "**Assignment Task 1:** Tuple Basics\n",
    "Create a Python tuple containing the names of your favorite fruits. Write a Python program to print `each fruit` name from the tuple.\n",
    "\n",
    "**Assignment Task 2:** Tuple Operations\n",
    "Given two tuples, write a Python program to `concatenate` them into a `single` tuple and then find the `length` of the resulting tuple.\n",
    "\n",
    "**Assignment Task 3:** Set Creation\n",
    "Create a Python set containing the first 10 `even` numbers (2, 4, 6, ...). Write a program to `display` this set.\n",
    "\n",
    "**Assignment Task 4:** Set Operations\n",
    "Given two sets, write a Python program to find the `union, intersection, and difference` of these sets.\n",
    "\n",
    "**Assignment Task 5:** Tuple and Set Conversion\n",
    "Write a Python program that takes a `tuple` of integers and converts it into a `set`. Then, find and print the `maximum and minimum` values from the set.\n",
    "\n",
    "**Assignment Task 6:** Tuple Immutability\n",
    "Explain the concept of immutability in Python tuples with examples. Discuss why tuples are considered immutable data structures.\n",
    "\n",
    "**Assignment Task 7:** Set Operations and Methods\n",
    "Write a Python program that takes a set of numbers and performs the following operations:\n",
    "   - Add a new number to the set.\n",
    "   - Remove a number from the set.\n",
    "   - Check if a specific number is in the set.\n",
    "   - Find the size of the set.\n",
    "\n",
    "**Assignment Task 8:** Tuple Slicing\n",
    "Given a tuple of 10 elements, write a Python program to print the elements from the `3rd to the 7th `position using slicing.\n",
    "\n",
    "**Assignment Task 9:** Set Operations with Lists\n",
    "Create a Python list with duplicate elements and convert it into a set to remove duplicates. Then, write a program to count how many duplicates were removed.\n",
    "\n",
    "**Assignment Task 10:** Tuple and Set Combinations\n",
    "Create a `tuple` containing the names of your friend's favorite movies and a `set` containing the names of your favorite movies. Write a Python program to find and display common elements (movies that feature your "
   ]
  },
  {
   "cell_type": "markdown",
   "id": "9b035785",
   "metadata": {},
   "source": [
    "**Assignment Task 1: Tuple Basics\n",
    "Create a Python tuple containing the names of your favorite fruits. Write a Python program to print `each fruit` name from the tuple.**"
   ]
  },
  {
   "cell_type": "code",
   "execution_count": 4,
   "id": "677e53d2",
   "metadata": {},
   "outputs": [],
   "source": [
    "fruits = (\"Bannana\",\"Apple\",\"Grapes\",\"Orange\")"
   ]
  },
  {
   "cell_type": "code",
   "execution_count": 5,
   "id": "f25918f9",
   "metadata": {},
   "outputs": [
    {
     "data": {
      "text/plain": [
       "tuple"
      ]
     },
     "execution_count": 5,
     "metadata": {},
     "output_type": "execute_result"
    }
   ],
   "source": [
    "type(fruits)"
   ]
  },
  {
   "cell_type": "code",
   "execution_count": 8,
   "id": "bf12a49b",
   "metadata": {},
   "outputs": [
    {
     "data": {
      "text/plain": [
       "'Bannana'"
      ]
     },
     "execution_count": 8,
     "metadata": {},
     "output_type": "execute_result"
    }
   ],
   "source": [
    "fruits[0]"
   ]
  },
  {
   "cell_type": "code",
   "execution_count": 9,
   "id": "ba13f483",
   "metadata": {},
   "outputs": [
    {
     "data": {
      "text/plain": [
       "'Apple'"
      ]
     },
     "execution_count": 9,
     "metadata": {},
     "output_type": "execute_result"
    }
   ],
   "source": [
    "fruits[1]"
   ]
  },
  {
   "cell_type": "code",
   "execution_count": 10,
   "id": "09cc04d0",
   "metadata": {},
   "outputs": [
    {
     "data": {
      "text/plain": [
       "'Grapes'"
      ]
     },
     "execution_count": 10,
     "metadata": {},
     "output_type": "execute_result"
    }
   ],
   "source": [
    "fruits[2]"
   ]
  },
  {
   "cell_type": "code",
   "execution_count": 11,
   "id": "d2576e56",
   "metadata": {},
   "outputs": [
    {
     "data": {
      "text/plain": [
       "'Orange'"
      ]
     },
     "execution_count": 11,
     "metadata": {},
     "output_type": "execute_result"
    }
   ],
   "source": [
    "fruits[3]"
   ]
  },
  {
   "cell_type": "markdown",
   "id": "ff80b19b",
   "metadata": {},
   "source": [
    "**Assignment Task 2: Tuple Operations\n",
    "Given two tuples, write a Python program to `concatenate` them into a `single` tuple and then find the `length` of the resulting tuple.**"
   ]
  },
  {
   "cell_type": "code",
   "execution_count": 14,
   "id": "152e5bd0",
   "metadata": {},
   "outputs": [],
   "source": [
    "tuple1 = [1,4,8,10,7]\n",
    "tuple2 = [5,2,8,3,9]"
   ]
  },
  {
   "cell_type": "code",
   "execution_count": 15,
   "id": "3d43f95c",
   "metadata": {},
   "outputs": [],
   "source": [
    "a = tuple1+tuple2"
   ]
  },
  {
   "cell_type": "code",
   "execution_count": 16,
   "id": "cdde5d81",
   "metadata": {},
   "outputs": [
    {
     "data": {
      "text/plain": [
       "[1, 4, 8, 10, 7, 5, 2, 8, 3, 9]"
      ]
     },
     "execution_count": 16,
     "metadata": {},
     "output_type": "execute_result"
    }
   ],
   "source": [
    "a"
   ]
  },
  {
   "cell_type": "code",
   "execution_count": 18,
   "id": "57b76995",
   "metadata": {},
   "outputs": [
    {
     "data": {
      "text/plain": [
       "10"
      ]
     },
     "execution_count": 18,
     "metadata": {},
     "output_type": "execute_result"
    }
   ],
   "source": [
    "len(a)"
   ]
  },
  {
   "cell_type": "markdown",
   "id": "bbf56b34",
   "metadata": {},
   "source": [
    "**Assignment Task 3: Set Creation\n",
    "Create a Python set containing the first 10 `even` numbers (2, 4, 6, ...). Write a program to `display` this set.**"
   ]
  },
  {
   "cell_type": "code",
   "execution_count": 22,
   "id": "a53f3d7d",
   "metadata": {},
   "outputs": [],
   "source": [
    "numb = {2,4,6,8,10}"
   ]
  },
  {
   "cell_type": "code",
   "execution_count": 23,
   "id": "045e12f8",
   "metadata": {},
   "outputs": [
    {
     "data": {
      "text/plain": [
       "{2, 4, 6, 8, 10}"
      ]
     },
     "execution_count": 23,
     "metadata": {},
     "output_type": "execute_result"
    }
   ],
   "source": [
    "numb"
   ]
  },
  {
   "cell_type": "code",
   "execution_count": 24,
   "id": "6484973c",
   "metadata": {},
   "outputs": [
    {
     "data": {
      "text/plain": [
       "set"
      ]
     },
     "execution_count": 24,
     "metadata": {},
     "output_type": "execute_result"
    }
   ],
   "source": [
    "type(numb)"
   ]
  },
  {
   "cell_type": "markdown",
   "id": "f797e4a4",
   "metadata": {},
   "source": [
    "**Assignment Task 4: Set Operations\n",
    "Given two sets, write a Python program to find the `union, intersection, and difference` of these sets.**\n"
   ]
  },
  {
   "cell_type": "code",
   "execution_count": 5,
   "id": "1fdf7ed9",
   "metadata": {},
   "outputs": [],
   "source": [
    "set1 = {1,2,3,4,5,6,7}\n",
    "set2 = {8,9,10,5,4}"
   ]
  },
  {
   "cell_type": "code",
   "execution_count": 6,
   "id": "4d7dd0b0",
   "metadata": {},
   "outputs": [
    {
     "data": {
      "text/plain": [
       "{1, 2, 3, 4, 5, 6, 7, 8, 9, 10}"
      ]
     },
     "execution_count": 6,
     "metadata": {},
     "output_type": "execute_result"
    }
   ],
   "source": [
    "set1.union(set2)"
   ]
  },
  {
   "cell_type": "code",
   "execution_count": 7,
   "id": "764cd892",
   "metadata": {},
   "outputs": [
    {
     "data": {
      "text/plain": [
       "{4, 5}"
      ]
     },
     "execution_count": 7,
     "metadata": {},
     "output_type": "execute_result"
    }
   ],
   "source": [
    "set1.intersection(set2)"
   ]
  },
  {
   "cell_type": "code",
   "execution_count": 8,
   "id": "89c12f5b",
   "metadata": {},
   "outputs": [
    {
     "data": {
      "text/plain": [
       "{1, 2, 3, 6, 7}"
      ]
     },
     "execution_count": 8,
     "metadata": {},
     "output_type": "execute_result"
    }
   ],
   "source": [
    "set1.difference(set2)"
   ]
  },
  {
   "cell_type": "markdown",
   "id": "e2172179",
   "metadata": {},
   "source": [
    "**Assignment Task 5: Tuple and Set Conversion\n",
    "Write a Python program that takes a `tuple` of integers and converts it into a `set`. Then, find and print the `maximum and minimum` values from the set.**\n"
   ]
  },
  {
   "cell_type": "code",
   "execution_count": 10,
   "id": "53ba7c8a",
   "metadata": {},
   "outputs": [],
   "source": [
    "x = (1,4,7,2)"
   ]
  },
  {
   "cell_type": "code",
   "execution_count": 11,
   "id": "9821e54d",
   "metadata": {},
   "outputs": [
    {
     "data": {
      "text/plain": [
       "tuple"
      ]
     },
     "execution_count": 11,
     "metadata": {},
     "output_type": "execute_result"
    }
   ],
   "source": [
    "type(x)"
   ]
  },
  {
   "cell_type": "code",
   "execution_count": 12,
   "id": "86573d29",
   "metadata": {},
   "outputs": [],
   "source": [
    "val = set(x)"
   ]
  },
  {
   "cell_type": "code",
   "execution_count": 13,
   "id": "9a3c52f5",
   "metadata": {},
   "outputs": [
    {
     "data": {
      "text/plain": [
       "{1, 2, 4, 7}"
      ]
     },
     "execution_count": 13,
     "metadata": {},
     "output_type": "execute_result"
    }
   ],
   "source": [
    "val"
   ]
  },
  {
   "cell_type": "code",
   "execution_count": 14,
   "id": "1802c285",
   "metadata": {},
   "outputs": [
    {
     "data": {
      "text/plain": [
       "set"
      ]
     },
     "execution_count": 14,
     "metadata": {},
     "output_type": "execute_result"
    }
   ],
   "source": [
    "type(val)"
   ]
  },
  {
   "cell_type": "code",
   "execution_count": 15,
   "id": "c81878b4",
   "metadata": {},
   "outputs": [
    {
     "data": {
      "text/plain": [
       "7"
      ]
     },
     "execution_count": 15,
     "metadata": {},
     "output_type": "execute_result"
    }
   ],
   "source": [
    "max(val)"
   ]
  },
  {
   "cell_type": "code",
   "execution_count": 16,
   "id": "a8d792fc",
   "metadata": {},
   "outputs": [
    {
     "data": {
      "text/plain": [
       "1"
      ]
     },
     "execution_count": 16,
     "metadata": {},
     "output_type": "execute_result"
    }
   ],
   "source": [
    "min(val)"
   ]
  },
  {
   "cell_type": "markdown",
   "id": "c5f4b521",
   "metadata": {},
   "source": [
    "**Assignment Task 6: Tuple Immutability\n",
    "Explain the concept of immutability in Python tuples with examples. Discuss why tuples are considered immutable data structures.**\n"
   ]
  },
  {
   "cell_type": "code",
   "execution_count": 40,
   "id": "3ea5ac53",
   "metadata": {},
   "outputs": [
    {
     "ename": "AttributeError",
     "evalue": "'tuple' object has no attribute 'add'",
     "output_type": "error",
     "traceback": [
      "\u001b[1;31m---------------------------------------------------------------------------\u001b[0m",
      "\u001b[1;31mAttributeError\u001b[0m                            Traceback (most recent call last)",
      "Cell \u001b[1;32mIn[40], line 1\u001b[0m\n\u001b[1;32m----> 1\u001b[0m tup\u001b[38;5;241m.\u001b[39madd(\u001b[38;5;241m6\u001b[39m)\n",
      "\u001b[1;31mAttributeError\u001b[0m: 'tuple' object has no attribute 'add'"
     ]
    }
   ],
   "source": [
    "tup.add(6)"
   ]
  },
  {
   "cell_type": "code",
   "execution_count": 41,
   "id": "c637ccf5",
   "metadata": {},
   "outputs": [
    {
     "ename": "AttributeError",
     "evalue": "'tuple' object has no attribute 'remove'",
     "output_type": "error",
     "traceback": [
      "\u001b[1;31m---------------------------------------------------------------------------\u001b[0m",
      "\u001b[1;31mAttributeError\u001b[0m                            Traceback (most recent call last)",
      "Cell \u001b[1;32mIn[41], line 1\u001b[0m\n\u001b[1;32m----> 1\u001b[0m tup\u001b[38;5;241m.\u001b[39mremove(\u001b[38;5;241m3\u001b[39m)\n",
      "\u001b[1;31mAttributeError\u001b[0m: 'tuple' object has no attribute 'remove'"
     ]
    }
   ],
   "source": [
    "tup.remove(3)"
   ]
  },
  {
   "cell_type": "markdown",
   "id": "6cc0d610",
   "metadata": {},
   "source": [
    "**Assignment Task 7: Set Operations and Methods\n",
    "Write a Python program that takes a set of numbers and performs the following operations:**\n",
    "   - Add a new number to the set.\n",
    "   - Remove a number from the set.\n",
    "   - Check if a specific number is in the set.\n",
    "   - Find the size of the set\n"
   ]
  },
  {
   "cell_type": "code",
   "execution_count": 17,
   "id": "cf639805",
   "metadata": {},
   "outputs": [],
   "source": [
    "y = {5,8,2,9,1,6}"
   ]
  },
  {
   "cell_type": "code",
   "execution_count": 18,
   "id": "d37d1c4f",
   "metadata": {},
   "outputs": [],
   "source": [
    "y.add(4)"
   ]
  },
  {
   "cell_type": "code",
   "execution_count": 19,
   "id": "a2a1b6ed",
   "metadata": {},
   "outputs": [
    {
     "data": {
      "text/plain": [
       "{1, 2, 4, 5, 6, 8, 9}"
      ]
     },
     "execution_count": 19,
     "metadata": {},
     "output_type": "execute_result"
    }
   ],
   "source": [
    "y"
   ]
  },
  {
   "cell_type": "code",
   "execution_count": 20,
   "id": "377df123",
   "metadata": {},
   "outputs": [],
   "source": [
    "y.remove(5)"
   ]
  },
  {
   "cell_type": "code",
   "execution_count": 21,
   "id": "0cb8b249",
   "metadata": {},
   "outputs": [
    {
     "data": {
      "text/plain": [
       "{1, 2, 4, 6, 8, 9}"
      ]
     },
     "execution_count": 21,
     "metadata": {},
     "output_type": "execute_result"
    }
   ],
   "source": [
    "y"
   ]
  },
  {
   "cell_type": "code",
   "execution_count": 22,
   "id": "3690eca0",
   "metadata": {},
   "outputs": [
    {
     "data": {
      "text/plain": [
       "True"
      ]
     },
     "execution_count": 22,
     "metadata": {},
     "output_type": "execute_result"
    }
   ],
   "source": [
    "6 in y"
   ]
  },
  {
   "cell_type": "code",
   "execution_count": 23,
   "id": "d5342534",
   "metadata": {},
   "outputs": [
    {
     "data": {
      "text/plain": [
       "6"
      ]
     },
     "execution_count": 23,
     "metadata": {},
     "output_type": "execute_result"
    }
   ],
   "source": [
    "len(y)"
   ]
  },
  {
   "cell_type": "markdown",
   "id": "e7ff5d28",
   "metadata": {},
   "source": [
    "**Assignment Task 8:** Tuple Slicing\n",
    "Given a tuple of 10 elements, write a Python program to print the elements from the `3rd to the 7th `position using slicing.**\n"
   ]
  },
  {
   "cell_type": "code",
   "execution_count": 24,
   "id": "00f295bd",
   "metadata": {},
   "outputs": [],
   "source": [
    "tup = (1,4,3,6,8,5)"
   ]
  },
  {
   "cell_type": "code",
   "execution_count": 27,
   "id": "e0b52608",
   "metadata": {},
   "outputs": [
    {
     "data": {
      "text/plain": [
       "(3, 6, 8)"
      ]
     },
     "execution_count": 27,
     "metadata": {},
     "output_type": "execute_result"
    }
   ],
   "source": [
    "tup[2:5]"
   ]
  },
  {
   "cell_type": "markdown",
   "id": "074c2ad6",
   "metadata": {},
   "source": [
    "**Assignment Task 9:** Set Operations with Lists\n",
    "Create a Python list with duplicate elements and convert it into a set to remove duplicates. Then, write a program to count how many duplicates were removed.**"
   ]
  },
  {
   "cell_type": "code",
   "execution_count": 35,
   "id": "eed73b76",
   "metadata": {},
   "outputs": [],
   "source": [
    "list = [1,1,4,3,6,6,7,8,9,7]"
   ]
  },
  {
   "cell_type": "code",
   "execution_count": 36,
   "id": "503c7f80",
   "metadata": {},
   "outputs": [],
   "source": [
    "a = set(list)"
   ]
  },
  {
   "cell_type": "code",
   "execution_count": 37,
   "id": "8322b330",
   "metadata": {},
   "outputs": [
    {
     "data": {
      "text/plain": [
       "{1, 3, 4, 6, 7, 8, 9}"
      ]
     },
     "execution_count": 37,
     "metadata": {},
     "output_type": "execute_result"
    }
   ],
   "source": [
    "a"
   ]
  },
  {
   "cell_type": "code",
   "execution_count": 38,
   "id": "5b9e28e9",
   "metadata": {},
   "outputs": [],
   "source": [
    "duplicates = len(list)-len(a)"
   ]
  },
  {
   "cell_type": "code",
   "execution_count": 39,
   "id": "36b40ac9",
   "metadata": {},
   "outputs": [
    {
     "data": {
      "text/plain": [
       "3"
      ]
     },
     "execution_count": 39,
     "metadata": {},
     "output_type": "execute_result"
    }
   ],
   "source": [
    "duplicates"
   ]
  },
  {
   "cell_type": "markdown",
   "id": "bd410bb6",
   "metadata": {},
   "source": [
    "**Assignment Task 10:** Tuple and Set Combinations\n",
    "Create a `tuple` containing the names of your friend's favorite movies and a `set` containing the names of your favorite movies. Write a Python program to find and display common elements (movies that feature your.**"
   ]
  },
  {
   "cell_type": "code",
   "execution_count": 42,
   "id": "c44bfd35",
   "metadata": {},
   "outputs": [],
   "source": [
    "friends_favorite = (\"Legend\",\"Darling\",\"kushi\",\"Bro\")"
   ]
  },
  {
   "cell_type": "code",
   "execution_count": 46,
   "id": "7cc091f7",
   "metadata": {},
   "outputs": [],
   "source": [
    "my_favs = {\"Arjun Reddy\",\"Sitaramam\",\"Yogi\",\"Darling\"}"
   ]
  },
  {
   "cell_type": "code",
   "execution_count": 47,
   "id": "7a4b90d0",
   "metadata": {},
   "outputs": [],
   "source": [
    "common = set(friends_favorite).intersection(my_favs)"
   ]
  },
  {
   "cell_type": "code",
   "execution_count": 48,
   "id": "8fa5c16c",
   "metadata": {},
   "outputs": [
    {
     "data": {
      "text/plain": [
       "{'Darling'}"
      ]
     },
     "execution_count": 48,
     "metadata": {},
     "output_type": "execute_result"
    }
   ],
   "source": [
    "common"
   ]
  },
  {
   "cell_type": "code",
   "execution_count": null,
   "id": "5befea16",
   "metadata": {},
   "outputs": [],
   "source": []
  }
 ],
 "metadata": {
  "kernelspec": {
   "display_name": "Python 3 (ipykernel)",
   "language": "python",
   "name": "python3"
  },
  "language_info": {
   "codemirror_mode": {
    "name": "ipython",
    "version": 3
   },
   "file_extension": ".py",
   "mimetype": "text/x-python",
   "name": "python",
   "nbconvert_exporter": "python",
   "pygments_lexer": "ipython3",
   "version": "3.11.4"
  }
 },
 "nbformat": 4,
 "nbformat_minor": 5
}
