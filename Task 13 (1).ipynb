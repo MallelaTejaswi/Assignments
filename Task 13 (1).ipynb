{
 "cells": [
  {
   "cell_type": "markdown",
   "id": "89ffda57",
   "metadata": {},
   "source": [
    "1. Write a function called \"add_numbers\" that takes two integers as input and returns their sum.\n",
    "\n",
    "2. Write a function called \"multiply_numbers\" that takes two integers as input and returns their product.\n",
    "\n",
    "3. Write a function called \"calculate_average\" that takes a list of numbers as input and returns the average of thosenumbers.\n",
    "\n",
    "4. Write a function called \"is_even\" that takes an integer as input and returns True if the number is even, and False otherwise.\n",
    "\n",
    "5. Write a function called \"reverse_string\" that takes a string as input and returns the reverse of that string.\n",
    "\n",
    "6. Write a function called \"count_vowels\" that takes a string as input and returns the number of vowels (a, e, i, o, u) in that string.\n",
    "\n",
    "7. Write a function called \"find_max\" that takes a list of numbers as input and returns the maximum value in that list.\n",
    "\n",
    "8. Write a function called \"find_min\" that takes a list of numbers as input and returns the minimum value in that list."
   ]
  },
  {
   "cell_type": "markdown",
   "id": "c3210c5b",
   "metadata": {},
   "source": [
    "**1. Write a function called \"add_numbers\" that takes two integers as input and returns their sum.**"
   ]
  },
  {
   "cell_type": "code",
   "execution_count": 1,
   "id": "3447039c",
   "metadata": {},
   "outputs": [
    {
     "name": "stdout",
     "output_type": "stream",
     "text": [
      "24\n"
     ]
    }
   ],
   "source": [
    "def add(a,b):\n",
    "    print(a+b)\n",
    "add(20,4)"
   ]
  },
  {
   "cell_type": "markdown",
   "id": "21af82bc",
   "metadata": {},
   "source": [
    "**2. Write a function called \"multiply_numbers\" that takes two integers as input and returns their product.**"
   ]
  },
  {
   "cell_type": "code",
   "execution_count": 2,
   "id": "d42a12f2",
   "metadata": {},
   "outputs": [
    {
     "name": "stdout",
     "output_type": "stream",
     "text": [
      "48\n"
     ]
    }
   ],
   "source": [
    "def mul(a,b):\n",
    "    print(a*b)\n",
    "mul(6,8)"
   ]
  },
  {
   "cell_type": "markdown",
   "id": "4bb0f268",
   "metadata": {},
   "source": [
    "**3. Write a function called \"calculate_average\" that takes a list of numbers as input and returns the average of thosenumbers.**"
   ]
  },
  {
   "cell_type": "code",
   "execution_count": 15,
   "id": "898d2aef",
   "metadata": {},
   "outputs": [
    {
     "name": "stdout",
     "output_type": "stream",
     "text": [
      "11.5\n"
     ]
    }
   ],
   "source": [
    "def calculate_average(a):\n",
    "        print(sum(a)/len(a))\n",
    "calculate_average([15,8])"
   ]
  },
  {
   "cell_type": "markdown",
   "id": "c8421acf",
   "metadata": {},
   "source": [
    "**4. Write a function called \"is_even\" that takes an integer as input and returns True if the number is even, and False otherwise.**"
   ]
  },
  {
   "cell_type": "code",
   "execution_count": 17,
   "id": "4cf4575b",
   "metadata": {},
   "outputs": [
    {
     "name": "stdout",
     "output_type": "stream",
     "text": [
      "False\n"
     ]
    }
   ],
   "source": [
    "def is_even(a):\n",
    "    if (a%2==0):\n",
    "        print('True')\n",
    "    else:\n",
    "        print(\"False\")\n",
    "is_even(3)\n",
    "        "
   ]
  },
  {
   "cell_type": "markdown",
   "id": "a36dc6cc",
   "metadata": {},
   "source": [
    "**5. Write a function called \"reverse_string\" that takes a string as input and returns the reverse of that string.**"
   ]
  },
  {
   "cell_type": "code",
   "execution_count": 23,
   "id": "6a90e801",
   "metadata": {},
   "outputs": [
    {
     "name": "stdout",
     "output_type": "stream",
     "text": [
      "nohtyP\n"
     ]
    }
   ],
   "source": [
    "def reverse_string(a):\n",
    "        print(a[::-1])\n",
    "reverse_string(\"Python\")"
   ]
  },
  {
   "cell_type": "markdown",
   "id": "2096753c",
   "metadata": {},
   "source": [
    "**6. Write a function called \"count_vowels\" that takes a string as input and returns the number of vowels (a, e, i, o, u) in that string.**"
   ]
  },
  {
   "cell_type": "code",
   "execution_count": 41,
   "id": "75b371a7",
   "metadata": {},
   "outputs": [
    {
     "name": "stdout",
     "output_type": "stream",
     "text": [
      "['i', 'a', 'o', 'i']\n",
      "The vowels present in this are ::  4\n"
     ]
    }
   ],
   "source": [
    "vowels = ['a','e','i','o','u']\n",
    "count = []\n",
    "\n",
    "def count_vowels(a):\n",
    "    for i in a:\n",
    "        if i in vowels:\n",
    "            count.append(i)\n",
    "    print(count)\n",
    "    print(\"The vowels present in this are :: \",len(count))\n",
    "count_vowels(\"Virat kohli\")\n",
    "        "
   ]
  },
  {
   "cell_type": "markdown",
   "id": "8c8e73bd",
   "metadata": {},
   "source": [
    "**7. Write a function called \"find_max\" that takes a list of numbers as input and returns the maximum value in that list.**"
   ]
  },
  {
   "cell_type": "code",
   "execution_count": 61,
   "id": "9c3aa361",
   "metadata": {},
   "outputs": [
    {
     "name": "stdout",
     "output_type": "stream",
     "text": [
      "6\n"
     ]
    }
   ],
   "source": [
    "def find_max(a):\n",
    "     print(max(a))\n",
    "a = [3,4,5,6]\n",
    "find_max(a)"
   ]
  },
  {
   "cell_type": "markdown",
   "id": "99305e9f",
   "metadata": {},
   "source": [
    "**8. Write a function called \"find_min\" that takes a list of numbers as input and returns the minimum value in that list.**"
   ]
  },
  {
   "cell_type": "code",
   "execution_count": 68,
   "id": "18746b21",
   "metadata": {},
   "outputs": [
    {
     "name": "stdout",
     "output_type": "stream",
     "text": [
      "8\n"
     ]
    }
   ],
   "source": [
    "def find_min(a):\n",
    "    print(min(a))\n",
    "    a = [8,9,10,11,12]\n",
    "find_min(a)"
   ]
  },
  {
   "cell_type": "code",
   "execution_count": 65,
   "id": "91028582",
   "metadata": {},
   "outputs": [],
   "source": []
  },
  {
   "cell_type": "code",
   "execution_count": null,
   "id": "960e5129",
   "metadata": {},
   "outputs": [],
   "source": []
  }
 ],
 "metadata": {
  "kernelspec": {
   "display_name": "Python 3 (ipykernel)",
   "language": "python",
   "name": "python3"
  },
  "language_info": {
   "codemirror_mode": {
    "name": "ipython",
    "version": 3
   },
   "file_extension": ".py",
   "mimetype": "text/x-python",
   "name": "python",
   "nbconvert_exporter": "python",
   "pygments_lexer": "ipython3",
   "version": "3.11.4"
  }
 },
 "nbformat": 4,
 "nbformat_minor": 5
}
