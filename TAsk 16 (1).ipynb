{
 "cells": [
  {
   "cell_type": "markdown",
   "id": "fd99fb02",
   "metadata": {},
   "source": [
    "**Task 1**:\n",
    "1. Load the file 'about_python.txt'into your jupyter notebook.\n",
    "    a. Correct wrong statements about python fatures\n",
    "    b. How many charactaers present in the data\n",
    "    c. How many times 'Python' word is repeated.\n",
    "    d. after correcting all ..print complete valid features of the python.\n",
    "    \n",
    "**Task2**:\n",
    "\n",
    "2. Create a file 'File.txt'which expalains python file handling whatever you have learnt today(creating,reading,wring and appending...etc) in detail.That reaload the saved file(i.e File.txt) to jupyter notebook."
   ]
  },
  {
   "cell_type": "markdown",
   "id": "66a45a14",
   "metadata": {},
   "source": [
    "# Task 1"
   ]
  },
  {
   "cell_type": "code",
   "execution_count": 14,
   "id": "b5f67c17",
   "metadata": {},
   "outputs": [],
   "source": [
    "file = open(r\"C:\\Users\\Mallela Tejaswi\\OneDrive\\Desktop\\Demo.txt\")"
   ]
  },
  {
   "cell_type": "code",
   "execution_count": 15,
   "id": "d081b855",
   "metadata": {},
   "outputs": [],
   "source": [
    "a = file.read()"
   ]
  },
  {
   "cell_type": "code",
   "execution_count": 16,
   "id": "1dbfaed6",
   "metadata": {},
   "outputs": [],
   "source": [
    "a = a.replace('compiled','interpreted')\n",
    "a = a.replace('paid','open source')\n",
    "a = a.replace('statically','Dynamical')\n",
    "a = a.replace('double','single,double and triple')\n",
    "a = a.replace('web development','web development,software development and web scraping')\n",
    "a = a.replace('Elon Musk','Guido Van Rossum')"
   ]
  },
  {
   "cell_type": "code",
   "execution_count": 17,
   "id": "7756315c",
   "metadata": {},
   "outputs": [
    {
     "data": {
      "text/plain": [
       "476"
      ]
     },
     "execution_count": 17,
     "metadata": {},
     "output_type": "execute_result"
    }
   ],
   "source": [
    "len(a)"
   ]
  },
  {
   "cell_type": "code",
   "execution_count": 18,
   "id": "342da0a2",
   "metadata": {},
   "outputs": [],
   "source": [
    "file.close()"
   ]
  },
  {
   "cell_type": "code",
   "execution_count": 20,
   "id": "50d605bd",
   "metadata": {},
   "outputs": [
    {
     "data": {
      "text/plain": [
       "9"
      ]
     },
     "execution_count": 20,
     "metadata": {},
     "output_type": "execute_result"
    }
   ],
   "source": [
    "a.count('Python')"
   ]
  },
  {
   "cell_type": "code",
   "execution_count": 21,
   "id": "1d613b3e",
   "metadata": {},
   "outputs": [
    {
     "name": "stdout",
     "output_type": "stream",
     "text": [
      "Python supports object-oriented programming (OOP) concepts.\n",
      "Python is a interpreted language.\n",
      "Python has a rich ecosystem of third-party libraries.\n",
      "Python is a open source programming language\n",
      "Python uses indentation for code block structuring.\n",
      "Python is Dynamical Typed Language\n",
      "Python only supports single,double and triple quotes for string literals.\n",
      "Python can only be used for web development,software development and web scraping.\n",
      "Python was created by Guido Van Rossum.\n"
     ]
    }
   ],
   "source": [
    "print(a)"
   ]
  },
  {
   "cell_type": "markdown",
   "id": "c74c19b6",
   "metadata": {},
   "source": [
    "# **Task2**:\n",
    "\n",
    "2. Create a file 'File.txt'which expalains python file handling whatever you have learnt today(creating,reading,wring and appending...etc) in detail.That reaload the saved file(i.e File.txt) to jupyter notebook."
   ]
  },
  {
   "cell_type": "code",
   "execution_count": 3,
   "id": "182d743b",
   "metadata": {},
   "outputs": [],
   "source": [
    "file = open('File3.txt','x')"
   ]
  },
  {
   "cell_type": "code",
   "execution_count": 4,
   "id": "e64297fb",
   "metadata": {},
   "outputs": [
    {
     "data": {
      "text/plain": [
       "421"
      ]
     },
     "execution_count": 4,
     "metadata": {},
     "output_type": "execute_result"
    }
   ],
   "source": [
    "file.write(\"File handling\\nFile handling helps to Create, Write, Read, append a file\\nCreate:\\nIt creates a new file and if we given any existing file name then it shows error\\nWrite:\\nBy using this we can add text to the file. If the file name is new then it creates the file, if not it over writes the text in the old file\\nRead:\\nIt is used to read the contents present in the file\\nAppend:\\nit is used to add the data to the existing file\")\n"
   ]
  },
  {
   "cell_type": "code",
   "execution_count": 5,
   "id": "193e4e5d",
   "metadata": {},
   "outputs": [],
   "source": [
    "file.close()"
   ]
  },
  {
   "cell_type": "code",
   "execution_count": 7,
   "id": "bab43269",
   "metadata": {},
   "outputs": [],
   "source": [
    "file1 = open('File3.txt','r')"
   ]
  },
  {
   "cell_type": "code",
   "execution_count": 8,
   "id": "226f27f3",
   "metadata": {},
   "outputs": [],
   "source": [
    "a = file1.read()"
   ]
  },
  {
   "cell_type": "code",
   "execution_count": 9,
   "id": "f321b00a",
   "metadata": {
    "scrolled": true
   },
   "outputs": [
    {
     "name": "stdout",
     "output_type": "stream",
     "text": [
      "File handling\n",
      "File handling helps to Create, Write, Read, append a file\n",
      "Create:\n",
      "It creates a new file and if we given any existing file name then it shows error\n",
      "Write:\n",
      "By using this we can add text to the file. If the file name is new then it creates the file, if not it over writes the text in the old file\n",
      "Read:\n",
      "It is used to read the contents present in the file\n",
      "Append:\n",
      "it is used to add the data to the existing file\n"
     ]
    }
   ],
   "source": [
    "print(a)"
   ]
  },
  {
   "cell_type": "code",
   "execution_count": null,
   "id": "223631a8",
   "metadata": {},
   "outputs": [],
   "source": []
  }
 ],
 "metadata": {
  "kernelspec": {
   "display_name": "Python 3 (ipykernel)",
   "language": "python",
   "name": "python3"
  },
  "language_info": {
   "codemirror_mode": {
    "name": "ipython",
    "version": 3
   },
   "file_extension": ".py",
   "mimetype": "text/x-python",
   "name": "python",
   "nbconvert_exporter": "python",
   "pygments_lexer": "ipython3",
   "version": "3.11.4"
  }
 },
 "nbformat": 4,
 "nbformat_minor": 5
}
