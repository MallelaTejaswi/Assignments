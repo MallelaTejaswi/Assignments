{
 "cells": [
  {
   "cell_type": "markdown",
   "id": "185da15a",
   "metadata": {},
   "source": [
    "A restaurant management system is a software application that helps streamline various restaurant operations and facilitates efficient management. Here are some typical attributes and methods that such a system might have:\n",
    "\n",
    "**Take minimum 5 attributes and atleast 4 methods**\n",
    "\n",
    "Attributes:\n",
    "1. Menu: Represents the list of food and beverage items available in the restaurant, along with their prices and categories (appetizers, main courses, desserts, etc.).\n",
    "2. Tables: Contains information about the restaurant's seating arrangement, including table numbers, seating capacity, and current occupancy status.\n",
    "3. Orders: Keeps track of customer orders, including the items ordered, quantities, table number, total amount, and order status (in progress, served, completed, etc.).\n",
    "4. Staff: Contains information about restaurant employees, such as waiters, chefs, managers, and their respective roles, shifts, and contact details.\n",
    "5. Reservations: Tracks table reservations made by customers, including reservation time, date, party size, and customer contact information.\n",
    "6. Payments: Stores details of transactions, including payment method, total amount, payment status, and any applicable discounts or promotions.\n",
    "\n",
    "Methods:\n",
    "1. Display Menu: Allows restaurant staff to view and update the menu, including adding new items, modifying prices, and removing discontinued items.\n",
    "2. Take Order: Enables waiters to take customer orders, add items to the order, specify quantities, and send the order to the kitchen for preparation.\n",
    "3. Manage Table Occupancy: Tracks table availability and occupancy status, allowing staff to assign tables to customers and mark tables as occupied or vacant.\n",
    "4. Process Order: Allows kitchen staff to view incoming orders, mark items as prepared, and inform the waiters when the order is ready for serving.\n",
    "5. Manage Reservations: Facilitates the process of making, modifying, and canceling table reservations based on customer requests and availability.\n",
    "6. Generate Bills: Calculates the total bill amount for each table based on the items ordered, applicable taxes, and any additional charges.\n",
    "\n"
   ]
  },
  {
   "cell_type": "code",
   "execution_count": 1,
   "id": "70929956",
   "metadata": {},
   "outputs": [],
   "source": [
    "class Restaurant:\n",
    "    '''you are welcome to restaurant'''\n",
    "    def __init__(Tejaswi,branch,menu,order,reservation,transaction):\n",
    "        Tejaswi.branch = branch\n",
    "        Tejaswi.menu = menu\n",
    "        Tejaswi.order = order\n",
    "        Tejaswi.reservation = reservation\n",
    "        Tejaswi.transaction = transaction\n",
    "        \n",
    "    def display_menu(Tejaswi):\n",
    "        '''this is the menu of our restaurant templates '''\n",
    "        Tejaswi.menu = input(\"enter a menu of the restaurent items::\")\n",
    "        print(\"our menucard  is : \", Tejaswi.menu)\n",
    "        \n",
    "    def order(Tejaswi):\n",
    "        '''please give me a order '''\n",
    "        Tejaswi.order = input(\"enter the items do you want to order::\")\n",
    "        print(\" customer orders are : \",Tejaswi.order)\n",
    "        \n",
    "    def occupancy_space(Tejaswi):\n",
    "        '''plese enter a integer value to the table'''\n",
    "        occupancy_space = int(input(\"enter a given table number::\"))\n",
    "        print(\"please have your seats at left side of the wall beside the table number::\")\n",
    "        \n",
    "    def process_order(Tejaswi):\n",
    "        process_order = input(\"please check weather the  order is ready or not\")\n",
    "        if  process_order == True:\n",
    "            print(\"then the waiter should serve food to the guest\")\n",
    "        else:\n",
    "            print(\"order is not ready\")\n",
    "            \n",
    "    def Payment_bill(Tejaswi):\n",
    "        '''please tell the payment mood'''\n",
    "        payment_bill = int(input(\"enter a bill amount::\"))\n",
    "        print(\"the amount is succefully debited \")"
   ]
  },
  {
   "cell_type": "code",
   "execution_count": 2,
   "id": "5d5f3490",
   "metadata": {},
   "outputs": [],
   "source": [
    "mehfil = Restaurant('JNTU','Chicken Biryani','Prawns biryani','1:30pm',3000)"
   ]
  },
  {
   "cell_type": "code",
   "execution_count": 3,
   "id": "e7e59c5b",
   "metadata": {},
   "outputs": [
    {
     "data": {
      "text/plain": [
       "'JNTU'"
      ]
     },
     "execution_count": 3,
     "metadata": {},
     "output_type": "execute_result"
    }
   ],
   "source": [
    "mehfil.branch"
   ]
  },
  {
   "cell_type": "code",
   "execution_count": 4,
   "id": "0317c9a5",
   "metadata": {},
   "outputs": [
    {
     "name": "stdout",
     "output_type": "stream",
     "text": [
      "enter a menu of the restaurent items::paneer tikka\n",
      "our menucard  is :  paneer tikka\n"
     ]
    }
   ],
   "source": [
    "mehfil.display_menu()"
   ]
  },
  {
   "cell_type": "code",
   "execution_count": 5,
   "id": "29215c73",
   "metadata": {},
   "outputs": [
    {
     "data": {
      "text/plain": [
       "'paneer tikka'"
      ]
     },
     "execution_count": 5,
     "metadata": {},
     "output_type": "execute_result"
    }
   ],
   "source": [
    "mehfil.menu"
   ]
  },
  {
   "cell_type": "code",
   "execution_count": 7,
   "id": "29cfdbd6",
   "metadata": {},
   "outputs": [
    {
     "name": "stdout",
     "output_type": "stream",
     "text": [
      "enter a given table number::10\n",
      "please have your seats at left side of the wall beside the table number::\n"
     ]
    }
   ],
   "source": [
    "mehfil.occupancy_space()"
   ]
  },
  {
   "cell_type": "code",
   "execution_count": 8,
   "id": "1f72307f",
   "metadata": {},
   "outputs": [
    {
     "data": {
      "text/plain": [
       "'Prawns biryani'"
      ]
     },
     "execution_count": 8,
     "metadata": {},
     "output_type": "execute_result"
    }
   ],
   "source": [
    "mehfil.order"
   ]
  },
  {
   "cell_type": "code",
   "execution_count": 9,
   "id": "f05bee17",
   "metadata": {},
   "outputs": [
    {
     "name": "stdout",
     "output_type": "stream",
     "text": [
      "enter a bill amount::1500\n",
      "the amount is succefully debited \n"
     ]
    }
   ],
   "source": [
    "mehfil.Payment_bill()"
   ]
  },
  {
   "cell_type": "code",
   "execution_count": 10,
   "id": "ebd2b3f3",
   "metadata": {},
   "outputs": [
    {
     "name": "stdout",
     "output_type": "stream",
     "text": [
      "please check weather the  order is ready or not True\n",
      "order is not ready\n"
     ]
    }
   ],
   "source": [
    "mehfil.process_order()"
   ]
  },
  {
   "cell_type": "code",
   "execution_count": 11,
   "id": "75825641",
   "metadata": {},
   "outputs": [
    {
     "data": {
      "text/plain": [
       "'1:30pm'"
      ]
     },
     "execution_count": 11,
     "metadata": {},
     "output_type": "execute_result"
    }
   ],
   "source": [
    "mehfil.reservation"
   ]
  },
  {
   "cell_type": "code",
   "execution_count": 12,
   "id": "fb250d70",
   "metadata": {},
   "outputs": [
    {
     "data": {
      "text/plain": [
       "3000"
      ]
     },
     "execution_count": 12,
     "metadata": {},
     "output_type": "execute_result"
    }
   ],
   "source": [
    "mehfil.transaction"
   ]
  },
  {
   "cell_type": "code",
   "execution_count": null,
   "id": "9a66619b",
   "metadata": {},
   "outputs": [],
   "source": []
  }
 ],
 "metadata": {
  "kernelspec": {
   "display_name": "Python 3 (ipykernel)",
   "language": "python",
   "name": "python3"
  },
  "language_info": {
   "codemirror_mode": {
    "name": "ipython",
    "version": 3
   },
   "file_extension": ".py",
   "mimetype": "text/x-python",
   "name": "python",
   "nbconvert_exporter": "python",
   "pygments_lexer": "ipython3",
   "version": "3.11.4"
  }
 },
 "nbformat": 4,
 "nbformat_minor": 5
}
