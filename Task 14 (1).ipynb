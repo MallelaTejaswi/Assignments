{
 "cells": [
  {
   "cell_type": "markdown",
   "id": "dd9881f5",
   "metadata": {},
   "source": [
    "\n",
    "1. \n",
    "\n",
    "   - Create a lambda function that takes two arguments and returns their sum.\n",
    "   - Create another lambda function that takes a single argument and returns its square.\n",
    "   - Use the `lambda` functions to calculate the sum and square of various numbers and print the results.\n",
    "\n",
    "2. \n",
    "   - Define a list of integers.\n",
    "   - Use the `filter` function to create a new list that contains only the even numbers from the original list.\n",
    "   - Use the `filter` function again to create a new list that contains only numbers greater than 10 from the original list.\n",
    "   - Print both filtered lists.\n",
    "\n",
    "3. \n",
    "   - Define a list of strings where each string represents a number (e.g., `[\"1\", \"2\", \"3\"]`).\n",
    "   - Use the `map` function to convert each string to an integer and store the result in a new list.\n",
    "   - Use the `map` function again to square each integer in the new list and store the result in another new list.\n",
    "   - Print both new lists.\n",
    "\n",
    "4. \n",
    "   - Create a list of dictionaries, where each dictionary represents a person with keys \"name\" and \"age\". Example: ` [{\"name\": \"Alice\", \"age\": 30}, {\"name\": \"Bob\", \"age\": 25}, ...]`\n",
    "   - Use the `filter` function to create a new list that contains only the people who are older than 25.\n",
    "   - Use the `map` function to create a new list that contains the names of the filtered people.\n",
    "   - Print the list of names.\n",
    "\n",
    "5. \n",
    "   - Create a program that reads a list of numbers from the user (you can use the `input` function for this).\n",
    "   - Use `map` and `filter` functions to perform the following operations:\n",
    "     - Square each number.\n",
    "     - Filter out numbers that are not divisible by 3.\n",
    "   - Print the result.\n"
   ]
  },
  {
   "cell_type": "markdown",
   "id": "a244285f",
   "metadata": {},
   "source": [
    "1. \n",
    "\n",
    "   - Create a lambda function that takes two arguments and returns their sum."
   ]
  },
  {
   "cell_type": "code",
   "execution_count": 5,
   "id": "d55f2af3",
   "metadata": {},
   "outputs": [
    {
     "data": {
      "text/plain": [
       "10"
      ]
     },
     "execution_count": 5,
     "metadata": {},
     "output_type": "execute_result"
    }
   ],
   "source": [
    "a = lambda x,y : x+y\n",
    "a(3,7)"
   ]
  },
  {
   "cell_type": "markdown",
   "id": "143e3bd7",
   "metadata": {},
   "source": [
    "- Create another lambda function that takes a single argument and returns its square."
   ]
  },
  {
   "cell_type": "code",
   "execution_count": 7,
   "id": "4293fd11",
   "metadata": {},
   "outputs": [
    {
     "data": {
      "text/plain": [
       "64"
      ]
     },
     "execution_count": 7,
     "metadata": {},
     "output_type": "execute_result"
    }
   ],
   "source": [
    "a = lambda n : n**2\n",
    "a(8)"
   ]
  },
  {
   "cell_type": "markdown",
   "id": "4aae4ddb",
   "metadata": {},
   "source": [
    "  - Use the `lambda` functions to calculate the sum and square of various numbers and print the results."
   ]
  },
  {
   "cell_type": "code",
   "execution_count": 1,
   "id": "b9325d0e",
   "metadata": {},
   "outputs": [
    {
     "name": "stdout",
     "output_type": "stream",
     "text": [
      "sum of numbers : 10\n",
      "square of numbers : [1, 4, 9, 16]\n"
     ]
    }
   ],
   "source": [
    "numbers = [1,2,3,4]\n",
    "sum_result = lambda x: sum(x)\n",
    "square_result = lambda x:[i**2 for i in x]\n",
    "print(\"sum of numbers :\",sum_result(numbers))\n",
    "print(\"square of numbers :\",square_result(numbers))"
   ]
  },
  {
   "cell_type": "markdown",
   "id": "75d96d83",
   "metadata": {},
   "source": [
    "2. \n",
    "   - Define a list of integers.\n",
    "   - Use the `filter` function to create a new list that contains only the even numbers from the original list.\n",
    "   - Use the `filter` function again to create a new list that contains only numbers greater than 10 from the original list.\n",
    "   - Print both filtered lists.\n"
   ]
  },
  {
   "cell_type": "code",
   "execution_count": 9,
   "id": "599ef8b3",
   "metadata": {},
   "outputs": [],
   "source": [
    "list = [3,5,8,10,4,6,15,20,25]"
   ]
  },
  {
   "cell_type": "code",
   "execution_count": 4,
   "id": "f1c12872",
   "metadata": {},
   "outputs": [
    {
     "data": {
      "text/plain": [
       "(8, 10, 4, 6, 20)"
      ]
     },
     "execution_count": 4,
     "metadata": {},
     "output_type": "execute_result"
    }
   ],
   "source": [
    "tuple(filter(lambda x: x%2==0,[3,5,8,10,4,6,15,20,25]))"
   ]
  },
  {
   "cell_type": "code",
   "execution_count": 5,
   "id": "7c161344",
   "metadata": {},
   "outputs": [
    {
     "data": {
      "text/plain": [
       "(15, 20, 25)"
      ]
     },
     "execution_count": 5,
     "metadata": {},
     "output_type": "execute_result"
    }
   ],
   "source": [
    "tuple(filter(lambda x : x>10,[3,5,8,10,4,6,15,20,25]))"
   ]
  },
  {
   "cell_type": "code",
   "execution_count": 7,
   "id": "966ba7d2",
   "metadata": {},
   "outputs": [
    {
     "name": "stdout",
     "output_type": "stream",
     "text": [
      "Even Numbers : (8, 10, 4, 6, 20)\n",
      "Greater Than 10 : (15, 20, 25)\n"
     ]
    }
   ],
   "source": [
    "list1 = tuple(filter(lambda x: x%2==0,[3,5,8,10,4,6,15,20,25]))\n",
    "print(\"Even Numbers :\",list1)\n",
    "list2 = tuple(filter(lambda x : x>10,[3,5,8,10,4,6,15,20,25]))\n",
    "print(\"Greater Than 10 :\",list2)"
   ]
  },
  {
   "cell_type": "markdown",
   "id": "3874d568",
   "metadata": {},
   "source": [
    "3. \n",
    "   - Define a list of strings where each string represents a number (e.g., `[\"1\", \"2\", \"3\"]`).\n",
    "   - Use the `map` function to convert each string to an integer and store the result in a new list.\n",
    "   - Use the `map` function again to square each integer in the new list and store the result in another new list.\n",
    "   - Print both new lists."
   ]
  },
  {
   "cell_type": "code",
   "execution_count": 1,
   "id": "f4a5eac8",
   "metadata": {},
   "outputs": [],
   "source": [
    "num = [\"1\",\"2\",\"3\",\"4\",\"5\",\"6\"]"
   ]
  },
  {
   "cell_type": "code",
   "execution_count": 2,
   "id": "44bbd1d8",
   "metadata": {},
   "outputs": [],
   "source": [
    "a = list(map(int,num))"
   ]
  },
  {
   "cell_type": "code",
   "execution_count": 3,
   "id": "ffd29c26",
   "metadata": {},
   "outputs": [
    {
     "name": "stdout",
     "output_type": "stream",
     "text": [
      "[1, 2, 3, 4, 5, 6]\n"
     ]
    }
   ],
   "source": [
    "print(a)"
   ]
  },
  {
   "cell_type": "markdown",
   "id": "0e40bd6b",
   "metadata": {},
   "source": [
    "- Use the `map` function again to square each integer in the new list and store the result in another new list."
   ]
  },
  {
   "cell_type": "code",
   "execution_count": 4,
   "id": "fdb952a0",
   "metadata": {},
   "outputs": [
    {
     "name": "stdout",
     "output_type": "stream",
     "text": [
      "[1, 4, 9, 16, 25, 36]\n"
     ]
    }
   ],
   "source": [
    "b = list(map(lambda n : n**2 ,[1,2,3,4,5,6]))\n",
    "print(b)"
   ]
  },
  {
   "cell_type": "code",
   "execution_count": 6,
   "id": "0eb1f503",
   "metadata": {},
   "outputs": [
    {
     "name": "stdout",
     "output_type": "stream",
     "text": [
      "integer : [1, 2, 3, 4, 5, 6]\n",
      "Square of each integer : [1, 4, 9, 16, 25, 36]\n"
     ]
    }
   ],
   "source": [
    "a = list(map(int,num))\n",
    "b = list(map(lambda n : n**2 ,[1,2,3,4,5,6]))\n",
    "print(\"integer :\",a)\n",
    "print(\"Square of each integer :\",b)"
   ]
  },
  {
   "cell_type": "markdown",
   "id": "72842fe4",
   "metadata": {},
   "source": [
    "\n",
    "4. \n",
    "   - Create a list of dictionaries, where each dictionary represents a person with keys \"name\" and \"age\". Example: ` [{\"name\": \"Alice\", \"age\": 30}, {\"name\": \"Bob\", \"age\": 25}, ...]`\n",
    "   - Use the `filter` function to create a new list that contains only the people who are older than 25.\n",
    "   - Use the `map` function to create a new list that contains the names of the filtered people.\n",
    "   - Print the list of names."
   ]
  },
  {
   "cell_type": "code",
   "execution_count": 2,
   "id": "295e5c96",
   "metadata": {},
   "outputs": [],
   "source": [
    "list1 = [{\"name\" : \"prabhas\" , \"age\" : 44},{\"name\" : \"vijay\" , \"age\" : 34}, {\"name\" : \"virat\" , \"age\" :33 }]"
   ]
  },
  {
   "cell_type": "code",
   "execution_count": 4,
   "id": "ebcb26a9",
   "metadata": {},
   "outputs": [
    {
     "data": {
      "text/plain": [
       "[{'name': 'prabhas', 'age': 44},\n",
       " {'name': 'vijay', 'age': 34},\n",
       " {'name': 'virat', 'age': 33}]"
      ]
     },
     "execution_count": 4,
     "metadata": {},
     "output_type": "execute_result"
    }
   ],
   "source": [
    "def name(n):\n",
    "    if n[\"age\"] > 25:\n",
    "        return n\n",
    "a = list(filter(name,list1))\n",
    "a"
   ]
  },
  {
   "cell_type": "code",
   "execution_count": 6,
   "id": "0a5946cd",
   "metadata": {},
   "outputs": [
    {
     "data": {
      "text/plain": [
       "[{'name': 'prabhas'}, {'name': 'vijay'}, {'name': 'virat'}]"
      ]
     },
     "execution_count": 6,
     "metadata": {},
     "output_type": "execute_result"
    }
   ],
   "source": [
    "def names(n):\n",
    "    return {\"name\" : n[\"name\"]}\n",
    "list(map(names,a))"
   ]
  },
  {
   "cell_type": "markdown",
   "id": "4ebcce0a",
   "metadata": {},
   "source": [
    "5. \n",
    "   - Create a program that reads a list of numbers from the user (you can use the `input` function for this).\n",
    "   - Use `map` and `filter` functions to perform the following operations:\n",
    "     - Square each number.\n",
    "     - Filter out numbers that are not divisible by 3.\n",
    "   - Print the result.\n"
   ]
  },
  {
   "cell_type": "code",
   "execution_count": 7,
   "id": "733af557",
   "metadata": {},
   "outputs": [
    {
     "name": "stdout",
     "output_type": "stream",
     "text": [
      "enter the integers you want :: 8\n",
      "enter the number :: 2\n",
      "enter the number :: 5\n",
      "enter the number :: 6\n",
      "enter the number :: 10\n",
      "enter the number :: 4\n",
      "enter the number :: 3\n",
      "enter the number :: 1\n",
      "enter the number :: 0\n",
      "[2, 5, 6, 10, 4, 3, 1, 0]\n"
     ]
    }
   ],
   "source": [
    "list1 = []\n",
    "num = int(input(\"enter the integers you want :: \"))\n",
    "for i in range (1,num+1):\n",
    "    a = int(input(\"enter the number :: \"))\n",
    "    list1.append(a)\n",
    "print(list1)"
   ]
  },
  {
   "cell_type": "code",
   "execution_count": 8,
   "id": "e4622226",
   "metadata": {},
   "outputs": [],
   "source": [
    "def sqr(n):\n",
    "    return(n**2)"
   ]
  },
  {
   "cell_type": "code",
   "execution_count": 9,
   "id": "947c41be",
   "metadata": {},
   "outputs": [
    {
     "data": {
      "text/plain": [
       "[4, 25, 36, 100, 16, 9, 1, 0]"
      ]
     },
     "execution_count": 9,
     "metadata": {},
     "output_type": "execute_result"
    }
   ],
   "source": [
    "list(map(sqr,list1))"
   ]
  },
  {
   "cell_type": "code",
   "execution_count": 10,
   "id": "83a50808",
   "metadata": {},
   "outputs": [],
   "source": [
    "def fil(n):\n",
    "    if n%3!=0:\n",
    "        return(n)"
   ]
  },
  {
   "cell_type": "code",
   "execution_count": 11,
   "id": "cf631d44",
   "metadata": {},
   "outputs": [
    {
     "data": {
      "text/plain": [
       "[2, 5, 10, 4, 1]"
      ]
     },
     "execution_count": 11,
     "metadata": {},
     "output_type": "execute_result"
    }
   ],
   "source": [
    "list(filter(fil,list1))"
   ]
  },
  {
   "cell_type": "code",
   "execution_count": null,
   "id": "703872b1",
   "metadata": {},
   "outputs": [],
   "source": [
    "# combination of integers float and string print only float values\n",
    "# print only strings\n",
    "# in the place of integer values with a name called integer,float as float,string as string"
   ]
  },
  {
   "cell_type": "code",
   "execution_count": 12,
   "id": "16b4ee3c",
   "metadata": {},
   "outputs": [],
   "source": [
    "val = [1,4,8,\"Teja\",\"Indu\",\"Manasa\",8.5,3.0,2.8]"
   ]
  },
  {
   "cell_type": "code",
   "execution_count": 13,
   "id": "dfa9ebcd",
   "metadata": {},
   "outputs": [],
   "source": [
    "def int(n):\n",
    "    if type(n) == float:\n",
    "        return val"
   ]
  },
  {
   "cell_type": "code",
   "execution_count": 14,
   "id": "c205f629",
   "metadata": {},
   "outputs": [
    {
     "data": {
      "text/plain": [
       "[8.5, 3.0, 2.8]"
      ]
     },
     "execution_count": 14,
     "metadata": {},
     "output_type": "execute_result"
    }
   ],
   "source": [
    "list(filter(int,val))"
   ]
  },
  {
   "cell_type": "code",
   "execution_count": null,
   "id": "729991c0",
   "metadata": {},
   "outputs": [],
   "source": [
    "# print only strings"
   ]
  },
  {
   "cell_type": "code",
   "execution_count": 15,
   "id": "65cf7d0b",
   "metadata": {},
   "outputs": [],
   "source": [
    "var = [1,4,8,\"Teja\",\"Indu\",\"Manasa\",8.5,3.0,2.8]"
   ]
  },
  {
   "cell_type": "code",
   "execution_count": 16,
   "id": "5dcfdf2d",
   "metadata": {},
   "outputs": [],
   "source": [
    "def flo(n):\n",
    "    if type(n)==str:\n",
    "        return n"
   ]
  },
  {
   "cell_type": "code",
   "execution_count": 17,
   "id": "b6f819b7",
   "metadata": {},
   "outputs": [
    {
     "data": {
      "text/plain": [
       "['Teja', 'Indu', 'Manasa']"
      ]
     },
     "execution_count": 17,
     "metadata": {},
     "output_type": "execute_result"
    }
   ],
   "source": [
    "list(filter(flo,var))"
   ]
  },
  {
   "cell_type": "code",
   "execution_count": null,
   "id": "6523f6fc",
   "metadata": {},
   "outputs": [],
   "source": [
    "# in the place of integer values with a name called integer,float as float,string as string"
   ]
  },
  {
   "cell_type": "code",
   "execution_count": 1,
   "id": "fa7e5467",
   "metadata": {},
   "outputs": [],
   "source": [
    "data = [1,4,8,\"Teja\",\"Indu\",\"Manasa\",8.5,3.0,2.8]"
   ]
  },
  {
   "cell_type": "code",
   "execution_count": 2,
   "id": "ca2e96e7",
   "metadata": {},
   "outputs": [
    {
     "data": {
      "text/plain": [
       "['Integer',\n",
       " 'Integer',\n",
       " 'Integer',\n",
       " 'string',\n",
       " 'string',\n",
       " 'string',\n",
       " 'Float',\n",
       " 'Float',\n",
       " 'Float']"
      ]
     },
     "execution_count": 2,
     "metadata": {},
     "output_type": "execute_result"
    }
   ],
   "source": [
    "def flo(n):\n",
    "    if type(n) == int:\n",
    "        return(\"Integer\")\n",
    "    elif type(n) == float:\n",
    "        return(\"Float\")\n",
    "    else:\n",
    "        return(\"string\")\n",
    "list(map(flo,data))"
   ]
  },
  {
   "cell_type": "code",
   "execution_count": null,
   "id": "d902e3ab",
   "metadata": {},
   "outputs": [],
   "source": []
  },
  {
   "cell_type": "code",
   "execution_count": null,
   "id": "442b1b51",
   "metadata": {},
   "outputs": [],
   "source": []
  }
 ],
 "metadata": {
  "kernelspec": {
   "display_name": "Python 3 (ipykernel)",
   "language": "python",
   "name": "python3"
  },
  "language_info": {
   "codemirror_mode": {
    "name": "ipython",
    "version": 3
   },
   "file_extension": ".py",
   "mimetype": "text/x-python",
   "name": "python",
   "nbconvert_exporter": "python",
   "pygments_lexer": "ipython3",
   "version": "3.11.4"
  }
 },
 "nbformat": 4,
 "nbformat_minor": 5
}
